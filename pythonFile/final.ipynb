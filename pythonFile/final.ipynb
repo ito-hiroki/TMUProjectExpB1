{
 "cells": [
  {
   "cell_type": "markdown",
   "metadata": {},
   "source": [
    "# 最終的なモデル詰め合わせ"
   ]
  },
  {
   "cell_type": "code",
   "execution_count": 76,
   "metadata": {},
   "outputs": [],
   "source": [
    "import numpy as np\n",
    "import pandas as pd\n",
    "from tqdm import tqdm\n",
    "\n",
    "# kNN\n",
    "from sklearn.neighbors import KNeighborsClassifier"
   ]
  },
  {
   "cell_type": "code",
   "execution_count": 6,
   "metadata": {},
   "outputs": [],
   "source": [
    "# Path\n",
    "dbPath = \"db_list.csv\"\n",
    "queryPath = \"query_list.csv\""
   ]
  },
  {
   "cell_type": "code",
   "execution_count": 11,
   "metadata": {},
   "outputs": [],
   "source": [
    "# read data\n",
    "db_df = pd.read_csv(dbPath, index_col=0)\n",
    "query_df = pd.read_csv(queryPath, index_col=0)"
   ]
  },
  {
   "cell_type": "code",
   "execution_count": 12,
   "metadata": {},
   "outputs": [
    {
     "data": {
      "text/html": [
       "<div>\n",
       "<style scoped>\n",
       "    .dataframe tbody tr th:only-of-type {\n",
       "        vertical-align: middle;\n",
       "    }\n",
       "\n",
       "    .dataframe tbody tr th {\n",
       "        vertical-align: top;\n",
       "    }\n",
       "\n",
       "    .dataframe thead th {\n",
       "        text-align: right;\n",
       "    }\n",
       "</style>\n",
       "<table border=\"1\" class=\"dataframe\">\n",
       "  <thead>\n",
       "    <tr style=\"text-align: right;\">\n",
       "      <th></th>\n",
       "      <th>dct_0</th>\n",
       "      <th>dct_1</th>\n",
       "      <th>dct_2</th>\n",
       "      <th>dct_3</th>\n",
       "      <th>dct_4</th>\n",
       "      <th>dct_5</th>\n",
       "      <th>dct_6</th>\n",
       "      <th>dct_7</th>\n",
       "      <th>dct_8</th>\n",
       "      <th>dct_9</th>\n",
       "      <th>...</th>\n",
       "      <th>dct_216</th>\n",
       "      <th>dct_217</th>\n",
       "      <th>dct_218</th>\n",
       "      <th>dct_219</th>\n",
       "      <th>dct_220</th>\n",
       "      <th>dct_221</th>\n",
       "      <th>dct_222</th>\n",
       "      <th>dct_223</th>\n",
       "      <th>dct_224</th>\n",
       "      <th>target</th>\n",
       "    </tr>\n",
       "  </thead>\n",
       "  <tbody>\n",
       "    <tr>\n",
       "      <th>0</th>\n",
       "      <td>0.812763</td>\n",
       "      <td>0.272423</td>\n",
       "      <td>0.177267</td>\n",
       "      <td>0.262133</td>\n",
       "      <td>0.230776</td>\n",
       "      <td>0.255399</td>\n",
       "      <td>0.189310</td>\n",
       "      <td>0.279024</td>\n",
       "      <td>0.155362</td>\n",
       "      <td>0.268883</td>\n",
       "      <td>...</td>\n",
       "      <td>0.228107</td>\n",
       "      <td>0.209880</td>\n",
       "      <td>0.233954</td>\n",
       "      <td>0.249645</td>\n",
       "      <td>0.227619</td>\n",
       "      <td>0.223897</td>\n",
       "      <td>0.211591</td>\n",
       "      <td>0.215112</td>\n",
       "      <td>0.234028</td>\n",
       "      <td>0.0</td>\n",
       "    </tr>\n",
       "    <tr>\n",
       "      <th>1</th>\n",
       "      <td>0.824317</td>\n",
       "      <td>0.285164</td>\n",
       "      <td>0.189974</td>\n",
       "      <td>0.263251</td>\n",
       "      <td>0.235999</td>\n",
       "      <td>0.265722</td>\n",
       "      <td>0.199164</td>\n",
       "      <td>0.279436</td>\n",
       "      <td>0.176147</td>\n",
       "      <td>0.262119</td>\n",
       "      <td>...</td>\n",
       "      <td>0.220713</td>\n",
       "      <td>0.216296</td>\n",
       "      <td>0.215499</td>\n",
       "      <td>0.244427</td>\n",
       "      <td>0.238536</td>\n",
       "      <td>0.208056</td>\n",
       "      <td>0.222545</td>\n",
       "      <td>0.221152</td>\n",
       "      <td>0.220127</td>\n",
       "      <td>0.0</td>\n",
       "    </tr>\n",
       "    <tr>\n",
       "      <th>2</th>\n",
       "      <td>0.826549</td>\n",
       "      <td>0.227953</td>\n",
       "      <td>0.120643</td>\n",
       "      <td>0.218246</td>\n",
       "      <td>0.210585</td>\n",
       "      <td>0.235652</td>\n",
       "      <td>0.162152</td>\n",
       "      <td>0.232881</td>\n",
       "      <td>0.130341</td>\n",
       "      <td>0.223699</td>\n",
       "      <td>...</td>\n",
       "      <td>0.223130</td>\n",
       "      <td>0.223681</td>\n",
       "      <td>0.236513</td>\n",
       "      <td>0.228123</td>\n",
       "      <td>0.201495</td>\n",
       "      <td>0.224386</td>\n",
       "      <td>0.223604</td>\n",
       "      <td>0.231683</td>\n",
       "      <td>0.231720</td>\n",
       "      <td>0.0</td>\n",
       "    </tr>\n",
       "    <tr>\n",
       "      <th>3</th>\n",
       "      <td>0.806723</td>\n",
       "      <td>0.251155</td>\n",
       "      <td>0.105308</td>\n",
       "      <td>0.217036</td>\n",
       "      <td>0.183272</td>\n",
       "      <td>0.209225</td>\n",
       "      <td>0.151727</td>\n",
       "      <td>0.248162</td>\n",
       "      <td>0.129832</td>\n",
       "      <td>0.241668</td>\n",
       "      <td>...</td>\n",
       "      <td>0.225695</td>\n",
       "      <td>0.230213</td>\n",
       "      <td>0.249365</td>\n",
       "      <td>0.230700</td>\n",
       "      <td>0.204350</td>\n",
       "      <td>0.224435</td>\n",
       "      <td>0.230503</td>\n",
       "      <td>0.218306</td>\n",
       "      <td>0.228928</td>\n",
       "      <td>0.0</td>\n",
       "    </tr>\n",
       "    <tr>\n",
       "      <th>4</th>\n",
       "      <td>0.858456</td>\n",
       "      <td>0.247600</td>\n",
       "      <td>0.184433</td>\n",
       "      <td>0.247196</td>\n",
       "      <td>0.241287</td>\n",
       "      <td>0.259901</td>\n",
       "      <td>0.171110</td>\n",
       "      <td>0.243555</td>\n",
       "      <td>0.149487</td>\n",
       "      <td>0.252953</td>\n",
       "      <td>...</td>\n",
       "      <td>0.238263</td>\n",
       "      <td>0.211677</td>\n",
       "      <td>0.232359</td>\n",
       "      <td>0.236703</td>\n",
       "      <td>0.224809</td>\n",
       "      <td>0.216576</td>\n",
       "      <td>0.234454</td>\n",
       "      <td>0.215928</td>\n",
       "      <td>0.244901</td>\n",
       "      <td>0.0</td>\n",
       "    </tr>\n",
       "  </tbody>\n",
       "</table>\n",
       "<p>5 rows × 226 columns</p>\n",
       "</div>"
      ],
      "text/plain": [
       "      dct_0     dct_1     dct_2     dct_3     dct_4     dct_5     dct_6  \\\n",
       "0  0.812763  0.272423  0.177267  0.262133  0.230776  0.255399  0.189310   \n",
       "1  0.824317  0.285164  0.189974  0.263251  0.235999  0.265722  0.199164   \n",
       "2  0.826549  0.227953  0.120643  0.218246  0.210585  0.235652  0.162152   \n",
       "3  0.806723  0.251155  0.105308  0.217036  0.183272  0.209225  0.151727   \n",
       "4  0.858456  0.247600  0.184433  0.247196  0.241287  0.259901  0.171110   \n",
       "\n",
       "      dct_7     dct_8     dct_9   ...     dct_216   dct_217   dct_218  \\\n",
       "0  0.279024  0.155362  0.268883   ...    0.228107  0.209880  0.233954   \n",
       "1  0.279436  0.176147  0.262119   ...    0.220713  0.216296  0.215499   \n",
       "2  0.232881  0.130341  0.223699   ...    0.223130  0.223681  0.236513   \n",
       "3  0.248162  0.129832  0.241668   ...    0.225695  0.230213  0.249365   \n",
       "4  0.243555  0.149487  0.252953   ...    0.238263  0.211677  0.232359   \n",
       "\n",
       "    dct_219   dct_220   dct_221   dct_222   dct_223   dct_224  target  \n",
       "0  0.249645  0.227619  0.223897  0.211591  0.215112  0.234028     0.0  \n",
       "1  0.244427  0.238536  0.208056  0.222545  0.221152  0.220127     0.0  \n",
       "2  0.228123  0.201495  0.224386  0.223604  0.231683  0.231720     0.0  \n",
       "3  0.230700  0.204350  0.224435  0.230503  0.218306  0.228928     0.0  \n",
       "4  0.236703  0.224809  0.216576  0.234454  0.215928  0.244901     0.0  \n",
       "\n",
       "[5 rows x 226 columns]"
      ]
     },
     "execution_count": 12,
     "metadata": {},
     "output_type": "execute_result"
    }
   ],
   "source": [
    "db_df.head()"
   ]
  },
  {
   "cell_type": "code",
   "execution_count": 13,
   "metadata": {},
   "outputs": [
    {
     "data": {
      "text/html": [
       "<div>\n",
       "<style scoped>\n",
       "    .dataframe tbody tr th:only-of-type {\n",
       "        vertical-align: middle;\n",
       "    }\n",
       "\n",
       "    .dataframe tbody tr th {\n",
       "        vertical-align: top;\n",
       "    }\n",
       "\n",
       "    .dataframe thead th {\n",
       "        text-align: right;\n",
       "    }\n",
       "</style>\n",
       "<table border=\"1\" class=\"dataframe\">\n",
       "  <thead>\n",
       "    <tr style=\"text-align: right;\">\n",
       "      <th></th>\n",
       "      <th>dct_0</th>\n",
       "      <th>dct_1</th>\n",
       "      <th>dct_2</th>\n",
       "      <th>dct_3</th>\n",
       "      <th>dct_4</th>\n",
       "      <th>dct_5</th>\n",
       "      <th>dct_6</th>\n",
       "      <th>dct_7</th>\n",
       "      <th>dct_8</th>\n",
       "      <th>dct_9</th>\n",
       "      <th>...</th>\n",
       "      <th>dct_216</th>\n",
       "      <th>dct_217</th>\n",
       "      <th>dct_218</th>\n",
       "      <th>dct_219</th>\n",
       "      <th>dct_220</th>\n",
       "      <th>dct_221</th>\n",
       "      <th>dct_222</th>\n",
       "      <th>dct_223</th>\n",
       "      <th>dct_224</th>\n",
       "      <th>target</th>\n",
       "    </tr>\n",
       "  </thead>\n",
       "  <tbody>\n",
       "    <tr>\n",
       "      <th>0</th>\n",
       "      <td>0.904674</td>\n",
       "      <td>0.194109</td>\n",
       "      <td>0.130995</td>\n",
       "      <td>0.174769</td>\n",
       "      <td>0.195891</td>\n",
       "      <td>0.177870</td>\n",
       "      <td>0.152082</td>\n",
       "      <td>0.194753</td>\n",
       "      <td>0.131312</td>\n",
       "      <td>0.205085</td>\n",
       "      <td>...</td>\n",
       "      <td>0.244702</td>\n",
       "      <td>0.224199</td>\n",
       "      <td>0.213333</td>\n",
       "      <td>0.223402</td>\n",
       "      <td>0.210794</td>\n",
       "      <td>0.220879</td>\n",
       "      <td>0.234462</td>\n",
       "      <td>0.235203</td>\n",
       "      <td>0.224115</td>\n",
       "      <td>0.0</td>\n",
       "    </tr>\n",
       "    <tr>\n",
       "      <th>1</th>\n",
       "      <td>0.784270</td>\n",
       "      <td>0.224606</td>\n",
       "      <td>0.139211</td>\n",
       "      <td>0.248058</td>\n",
       "      <td>0.153540</td>\n",
       "      <td>0.216527</td>\n",
       "      <td>0.126956</td>\n",
       "      <td>0.223850</td>\n",
       "      <td>0.126157</td>\n",
       "      <td>0.192243</td>\n",
       "      <td>...</td>\n",
       "      <td>0.239503</td>\n",
       "      <td>0.236071</td>\n",
       "      <td>0.233055</td>\n",
       "      <td>0.233057</td>\n",
       "      <td>0.221392</td>\n",
       "      <td>0.190645</td>\n",
       "      <td>0.216429</td>\n",
       "      <td>0.212288</td>\n",
       "      <td>0.208633</td>\n",
       "      <td>0.0</td>\n",
       "    </tr>\n",
       "    <tr>\n",
       "      <th>2</th>\n",
       "      <td>0.876182</td>\n",
       "      <td>0.195360</td>\n",
       "      <td>0.210239</td>\n",
       "      <td>0.135471</td>\n",
       "      <td>0.247396</td>\n",
       "      <td>0.205266</td>\n",
       "      <td>0.253241</td>\n",
       "      <td>0.195721</td>\n",
       "      <td>0.188476</td>\n",
       "      <td>0.205977</td>\n",
       "      <td>...</td>\n",
       "      <td>0.229111</td>\n",
       "      <td>0.236003</td>\n",
       "      <td>0.231136</td>\n",
       "      <td>0.236494</td>\n",
       "      <td>0.230394</td>\n",
       "      <td>0.212862</td>\n",
       "      <td>0.238171</td>\n",
       "      <td>0.210575</td>\n",
       "      <td>0.218420</td>\n",
       "      <td>0.0</td>\n",
       "    </tr>\n",
       "    <tr>\n",
       "      <th>3</th>\n",
       "      <td>0.691964</td>\n",
       "      <td>0.134280</td>\n",
       "      <td>0.224722</td>\n",
       "      <td>0.162955</td>\n",
       "      <td>0.213020</td>\n",
       "      <td>0.245184</td>\n",
       "      <td>0.141536</td>\n",
       "      <td>0.234308</td>\n",
       "      <td>0.111738</td>\n",
       "      <td>0.229067</td>\n",
       "      <td>...</td>\n",
       "      <td>0.220245</td>\n",
       "      <td>0.221221</td>\n",
       "      <td>0.233103</td>\n",
       "      <td>0.200231</td>\n",
       "      <td>0.245400</td>\n",
       "      <td>0.235332</td>\n",
       "      <td>0.238871</td>\n",
       "      <td>0.197243</td>\n",
       "      <td>0.242605</td>\n",
       "      <td>0.0</td>\n",
       "    </tr>\n",
       "    <tr>\n",
       "      <th>4</th>\n",
       "      <td>0.791492</td>\n",
       "      <td>0.153364</td>\n",
       "      <td>0.171210</td>\n",
       "      <td>0.174341</td>\n",
       "      <td>0.203113</td>\n",
       "      <td>0.191042</td>\n",
       "      <td>0.189231</td>\n",
       "      <td>0.192029</td>\n",
       "      <td>0.169168</td>\n",
       "      <td>0.157802</td>\n",
       "      <td>...</td>\n",
       "      <td>0.222803</td>\n",
       "      <td>0.178768</td>\n",
       "      <td>0.241913</td>\n",
       "      <td>0.217591</td>\n",
       "      <td>0.251577</td>\n",
       "      <td>0.210878</td>\n",
       "      <td>0.220035</td>\n",
       "      <td>0.237752</td>\n",
       "      <td>0.204233</td>\n",
       "      <td>0.0</td>\n",
       "    </tr>\n",
       "  </tbody>\n",
       "</table>\n",
       "<p>5 rows × 226 columns</p>\n",
       "</div>"
      ],
      "text/plain": [
       "      dct_0     dct_1     dct_2     dct_3     dct_4     dct_5     dct_6  \\\n",
       "0  0.904674  0.194109  0.130995  0.174769  0.195891  0.177870  0.152082   \n",
       "1  0.784270  0.224606  0.139211  0.248058  0.153540  0.216527  0.126956   \n",
       "2  0.876182  0.195360  0.210239  0.135471  0.247396  0.205266  0.253241   \n",
       "3  0.691964  0.134280  0.224722  0.162955  0.213020  0.245184  0.141536   \n",
       "4  0.791492  0.153364  0.171210  0.174341  0.203113  0.191042  0.189231   \n",
       "\n",
       "      dct_7     dct_8     dct_9   ...     dct_216   dct_217   dct_218  \\\n",
       "0  0.194753  0.131312  0.205085   ...    0.244702  0.224199  0.213333   \n",
       "1  0.223850  0.126157  0.192243   ...    0.239503  0.236071  0.233055   \n",
       "2  0.195721  0.188476  0.205977   ...    0.229111  0.236003  0.231136   \n",
       "3  0.234308  0.111738  0.229067   ...    0.220245  0.221221  0.233103   \n",
       "4  0.192029  0.169168  0.157802   ...    0.222803  0.178768  0.241913   \n",
       "\n",
       "    dct_219   dct_220   dct_221   dct_222   dct_223   dct_224  target  \n",
       "0  0.223402  0.210794  0.220879  0.234462  0.235203  0.224115     0.0  \n",
       "1  0.233057  0.221392  0.190645  0.216429  0.212288  0.208633     0.0  \n",
       "2  0.236494  0.230394  0.212862  0.238171  0.210575  0.218420     0.0  \n",
       "3  0.200231  0.245400  0.235332  0.238871  0.197243  0.242605     0.0  \n",
       "4  0.217591  0.251577  0.210878  0.220035  0.237752  0.204233     0.0  \n",
       "\n",
       "[5 rows x 226 columns]"
      ]
     },
     "execution_count": 13,
     "metadata": {},
     "output_type": "execute_result"
    }
   ],
   "source": [
    "query_df.head()"
   ]
  },
  {
   "cell_type": "code",
   "execution_count": 80,
   "metadata": {},
   "outputs": [],
   "source": [
    "db_featture_df = db_df.drop([\"target\"], axis=1).copy()\n",
    "db_target_df = db_df[\"target\"].copy()\n",
    "query_featture_df =query_df.drop([\"target\"], axis=1).copy()\n",
    "query_target_df = query_df[\"target\"].copy()"
   ]
  },
  {
   "cell_type": "markdown",
   "metadata": {},
   "source": [
    "# 単純マッチング"
   ]
  },
  {
   "cell_type": "code",
   "execution_count": 66,
   "metadata": {},
   "outputs": [],
   "source": [
    "result = []\n",
    "test_min = []\n",
    "prediction_df = pd.DataFrame(query_target_df)\n",
    "for i in range(query_featture_df.shape[0]):\n",
    "    minimum_id = (db_featture_df - query_featture_df.iloc[i]).abs().sum(axis=1).idxmin()\n",
    "    test_min.append((db_featture_df - query_featture_df.iloc[i]).abs().sum(axis=1))\n",
    "    prediction_df.loc[i, \"predict\"] = db_target_df[minimum_id]"
   ]
  },
  {
   "cell_type": "code",
   "execution_count": 67,
   "metadata": {},
   "outputs": [
    {
     "data": {
      "text/html": [
       "<div>\n",
       "<style scoped>\n",
       "    .dataframe tbody tr th:only-of-type {\n",
       "        vertical-align: middle;\n",
       "    }\n",
       "\n",
       "    .dataframe tbody tr th {\n",
       "        vertical-align: top;\n",
       "    }\n",
       "\n",
       "    .dataframe thead th {\n",
       "        text-align: right;\n",
       "    }\n",
       "</style>\n",
       "<table border=\"1\" class=\"dataframe\">\n",
       "  <thead>\n",
       "    <tr style=\"text-align: right;\">\n",
       "      <th></th>\n",
       "      <th>target</th>\n",
       "      <th>predict</th>\n",
       "    </tr>\n",
       "  </thead>\n",
       "  <tbody>\n",
       "    <tr>\n",
       "      <th>0</th>\n",
       "      <td>0.0</td>\n",
       "      <td>0.0</td>\n",
       "    </tr>\n",
       "    <tr>\n",
       "      <th>1</th>\n",
       "      <td>0.0</td>\n",
       "      <td>0.0</td>\n",
       "    </tr>\n",
       "    <tr>\n",
       "      <th>2</th>\n",
       "      <td>0.0</td>\n",
       "      <td>0.0</td>\n",
       "    </tr>\n",
       "    <tr>\n",
       "      <th>3</th>\n",
       "      <td>0.0</td>\n",
       "      <td>8.0</td>\n",
       "    </tr>\n",
       "    <tr>\n",
       "      <th>4</th>\n",
       "      <td>0.0</td>\n",
       "      <td>0.0</td>\n",
       "    </tr>\n",
       "  </tbody>\n",
       "</table>\n",
       "</div>"
      ],
      "text/plain": [
       "   target  predict\n",
       "0     0.0      0.0\n",
       "1     0.0      0.0\n",
       "2     0.0      0.0\n",
       "3     0.0      8.0\n",
       "4     0.0      0.0"
      ]
     },
     "execution_count": 67,
     "metadata": {},
     "output_type": "execute_result"
    }
   ],
   "source": [
    "prediction_df.head()"
   ]
  },
  {
   "cell_type": "code",
   "execution_count": 68,
   "metadata": {},
   "outputs": [],
   "source": [
    "correct_num = (prediction_df[\"target\"] == prediction_df[\"predict\"]).sum()\n",
    "accuracy = correct_num / prediction_df.shape[0]"
   ]
  },
  {
   "cell_type": "code",
   "execution_count": 69,
   "metadata": {},
   "outputs": [
    {
     "data": {
      "text/plain": [
       "0.7758620689655172"
      ]
     },
     "execution_count": 69,
     "metadata": {},
     "output_type": "execute_result"
    }
   ],
   "source": [
    "accuracy"
   ]
  },
  {
   "cell_type": "markdown",
   "metadata": {},
   "source": [
    "# kNN"
   ]
  },
  {
   "cell_type": "code",
   "execution_count": 97,
   "metadata": {},
   "outputs": [],
   "source": [
    "DIV_NUM = 3 # k\n",
    "DIST_SETTING = 2 # ユークリッド=2, マンハッタン=1"
   ]
  },
  {
   "cell_type": "code",
   "execution_count": 98,
   "metadata": {},
   "outputs": [
    {
     "data": {
      "text/plain": [
       "KNeighborsClassifier(algorithm='auto', leaf_size=30, metric='minkowski',\n",
       "           metric_params=None, n_jobs=1, n_neighbors=3, p=2,\n",
       "           weights='uniform')"
      ]
     },
     "execution_count": 98,
     "metadata": {},
     "output_type": "execute_result"
    }
   ],
   "source": [
    "knn = KNeighborsClassifier(n_neighbors=DIV_NUM, p=DIST_SETTING, metric=\"minkowski\")\n",
    "knn.fit(db_featture_df.values, db_target_df.values)"
   ]
  },
  {
   "cell_type": "code",
   "execution_count": 99,
   "metadata": {},
   "outputs": [],
   "source": [
    "prediction = knn.predict(query_featture_df.values)\n",
    "prediction_df = pd.DataFrame(query_target_df)\n",
    "prediction_df[\"predict\"] = prediction"
   ]
  },
  {
   "cell_type": "code",
   "execution_count": 100,
   "metadata": {},
   "outputs": [],
   "source": [
    "correct_num = (prediction_df[\"target\"] == prediction_df[\"predict\"]).sum()\n",
    "accuracy = correct_num / prediction_df.shape[0]"
   ]
  },
  {
   "cell_type": "code",
   "execution_count": 101,
   "metadata": {},
   "outputs": [
    {
     "data": {
      "text/plain": [
       "0.7068965517241379"
      ]
     },
     "execution_count": 101,
     "metadata": {},
     "output_type": "execute_result"
    }
   ],
   "source": [
    "accuracy"
   ]
  },
  {
   "cell_type": "markdown",
   "metadata": {},
   "source": [
    "# "
   ]
  },
  {
   "cell_type": "code",
   "execution_count": null,
   "metadata": {},
   "outputs": [],
   "source": []
  },
  {
   "cell_type": "code",
   "execution_count": null,
   "metadata": {},
   "outputs": [],
   "source": []
  },
  {
   "cell_type": "code",
   "execution_count": null,
   "metadata": {},
   "outputs": [],
   "source": []
  },
  {
   "cell_type": "code",
   "execution_count": null,
   "metadata": {},
   "outputs": [],
   "source": []
  },
  {
   "cell_type": "code",
   "execution_count": null,
   "metadata": {},
   "outputs": [],
   "source": []
  }
 ],
 "metadata": {
  "anaconda-cloud": {},
  "kernelspec": {
   "display_name": "Python 3",
   "language": "python",
   "name": "python3"
  },
  "language_info": {
   "codemirror_mode": {
    "name": "ipython",
    "version": 3
   },
   "file_extension": ".py",
   "mimetype": "text/x-python",
   "name": "python",
   "nbconvert_exporter": "python",
   "pygments_lexer": "ipython3",
   "version": "3.6.4"
  }
 },
 "nbformat": 4,
 "nbformat_minor": 1
}
