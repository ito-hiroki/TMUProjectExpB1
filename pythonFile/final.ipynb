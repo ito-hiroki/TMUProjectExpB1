{
 "cells": [
  {
   "cell_type": "markdown",
   "metadata": {},
   "source": [
    "# 最終的なモデル詰め合わせ"
   ]
  },
  {
   "cell_type": "code",
   "execution_count": 159,
   "metadata": {},
   "outputs": [],
   "source": [
    "import numpy as np\n",
    "import pandas as pd\n",
    "from tqdm import tqdm\n",
    "import matplotlib.pyplot as plt\n",
    "%matplotlib inline\n",
    "import seaborn as sns\n",
    "sns.set()\n",
    "\n",
    "# kNN\n",
    "from sklearn.neighbors import KNeighborsClassifier\n",
    "\n",
    "# NeuralNet, CNN\n",
    "from torchvision import transforms\n",
    "import torch\n",
    "from torch import nn, optim\n",
    "from torch.utils.data import TensorDataset, DataLoader\n",
    "torch.manual_seed(0)\n",
    "\n",
    "# LightGBM\n",
    "import lightgbm as lgb\n",
    "from sklearn.metrics import accuracy_score\n",
    "\n",
    "# 画像読み込み\n",
    "from pathlib import Path\n",
    "import cv2\n",
    "\n",
    "# 転移学習\n",
    "from torchvision import models"
   ]
  },
  {
   "cell_type": "code",
   "execution_count": 185,
   "metadata": {},
   "outputs": [],
   "source": [
    "# Path\n",
    "dbPath = \"../input/Dlib/cutface/default/DB/csv/features_rel_dist.csv\"\n",
    "queryPath = \"../input/Dlib/cutface/default/Query/csv/features_rel_dist.csv\""
   ]
  },
  {
   "cell_type": "code",
   "execution_count": 186,
   "metadata": {},
   "outputs": [],
   "source": [
    "# read data\n",
    "db_df = pd.read_csv(dbPath, index_col=0)\n",
    "query_df = pd.read_csv(queryPath, index_col=0)"
   ]
  },
  {
   "cell_type": "code",
   "execution_count": 162,
   "metadata": {},
   "outputs": [
    {
     "data": {
      "text/html": [
       "<div>\n",
       "<style scoped>\n",
       "    .dataframe tbody tr th:only-of-type {\n",
       "        vertical-align: middle;\n",
       "    }\n",
       "\n",
       "    .dataframe tbody tr th {\n",
       "        vertical-align: top;\n",
       "    }\n",
       "\n",
       "    .dataframe thead th {\n",
       "        text-align: right;\n",
       "    }\n",
       "</style>\n",
       "<table border=\"1\" class=\"dataframe\">\n",
       "  <thead>\n",
       "    <tr style=\"text-align: right;\">\n",
       "      <th></th>\n",
       "      <th>target</th>\n",
       "      <th>face_height</th>\n",
       "      <th>chin_width</th>\n",
       "      <th>chin_height</th>\n",
       "      <th>right_Eyebrow_width</th>\n",
       "      <th>right_Eyebrow_height</th>\n",
       "      <th>left_Eyebrow_width</th>\n",
       "      <th>left_Eyebrow_height</th>\n",
       "      <th>nose_width</th>\n",
       "      <th>nose_height</th>\n",
       "      <th>...</th>\n",
       "      <th>left_Eye_width</th>\n",
       "      <th>left_Eye_height</th>\n",
       "      <th>mouse_width</th>\n",
       "      <th>mouse_height</th>\n",
       "      <th>eye2eye_dist</th>\n",
       "      <th>Reye2nose_dist</th>\n",
       "      <th>Leye2nose_dist</th>\n",
       "      <th>nose2mouse_dist</th>\n",
       "      <th>Reye2mouse_dist</th>\n",
       "      <th>Leye2mouse_dist</th>\n",
       "    </tr>\n",
       "  </thead>\n",
       "  <tbody>\n",
       "    <tr>\n",
       "      <th>0</th>\n",
       "      <td>1</td>\n",
       "      <td>1.006897</td>\n",
       "      <td>1.0</td>\n",
       "      <td>0.813793</td>\n",
       "      <td>0.379310</td>\n",
       "      <td>0.075862</td>\n",
       "      <td>0.358621</td>\n",
       "      <td>0.034483</td>\n",
       "      <td>0.193103</td>\n",
       "      <td>0.337931</td>\n",
       "      <td>...</td>\n",
       "      <td>0.172414</td>\n",
       "      <td>0.034483</td>\n",
       "      <td>0.365517</td>\n",
       "      <td>0.137931</td>\n",
       "      <td>0.481659</td>\n",
       "      <td>0.316339</td>\n",
       "      <td>0.300362</td>\n",
       "      <td>0.307769</td>\n",
       "      <td>0.560535</td>\n",
       "      <td>0.550034</td>\n",
       "    </tr>\n",
       "    <tr>\n",
       "      <th>1</th>\n",
       "      <td>1</td>\n",
       "      <td>1.007092</td>\n",
       "      <td>1.0</td>\n",
       "      <td>0.808511</td>\n",
       "      <td>0.390071</td>\n",
       "      <td>0.085106</td>\n",
       "      <td>0.382979</td>\n",
       "      <td>0.035461</td>\n",
       "      <td>0.198582</td>\n",
       "      <td>0.340426</td>\n",
       "      <td>...</td>\n",
       "      <td>0.177305</td>\n",
       "      <td>0.049645</td>\n",
       "      <td>0.347518</td>\n",
       "      <td>0.148936</td>\n",
       "      <td>0.477594</td>\n",
       "      <td>0.310900</td>\n",
       "      <td>0.311195</td>\n",
       "      <td>0.327790</td>\n",
       "      <td>0.576771</td>\n",
       "      <td>0.580555</td>\n",
       "    </tr>\n",
       "    <tr>\n",
       "      <th>2</th>\n",
       "      <td>1</td>\n",
       "      <td>1.043478</td>\n",
       "      <td>1.0</td>\n",
       "      <td>0.652174</td>\n",
       "      <td>0.347826</td>\n",
       "      <td>0.144928</td>\n",
       "      <td>0.355072</td>\n",
       "      <td>0.050725</td>\n",
       "      <td>0.195652</td>\n",
       "      <td>0.282609</td>\n",
       "      <td>...</td>\n",
       "      <td>0.173913</td>\n",
       "      <td>0.036232</td>\n",
       "      <td>0.376812</td>\n",
       "      <td>0.173913</td>\n",
       "      <td>0.456559</td>\n",
       "      <td>0.249496</td>\n",
       "      <td>0.247213</td>\n",
       "      <td>0.337721</td>\n",
       "      <td>0.496690</td>\n",
       "      <td>0.486733</td>\n",
       "    </tr>\n",
       "    <tr>\n",
       "      <th>3</th>\n",
       "      <td>1</td>\n",
       "      <td>1.042553</td>\n",
       "      <td>1.0</td>\n",
       "      <td>0.751773</td>\n",
       "      <td>0.375887</td>\n",
       "      <td>0.106383</td>\n",
       "      <td>0.368794</td>\n",
       "      <td>0.035461</td>\n",
       "      <td>0.191489</td>\n",
       "      <td>0.304965</td>\n",
       "      <td>...</td>\n",
       "      <td>0.163121</td>\n",
       "      <td>0.035461</td>\n",
       "      <td>0.368794</td>\n",
       "      <td>0.156028</td>\n",
       "      <td>0.457878</td>\n",
       "      <td>0.275893</td>\n",
       "      <td>0.257903</td>\n",
       "      <td>0.334224</td>\n",
       "      <td>0.534341</td>\n",
       "      <td>0.513998</td>\n",
       "    </tr>\n",
       "    <tr>\n",
       "      <th>4</th>\n",
       "      <td>1</td>\n",
       "      <td>1.020548</td>\n",
       "      <td>1.0</td>\n",
       "      <td>0.787671</td>\n",
       "      <td>0.376712</td>\n",
       "      <td>0.095890</td>\n",
       "      <td>0.369863</td>\n",
       "      <td>0.041096</td>\n",
       "      <td>0.191781</td>\n",
       "      <td>0.321918</td>\n",
       "      <td>...</td>\n",
       "      <td>0.171233</td>\n",
       "      <td>0.027397</td>\n",
       "      <td>0.349315</td>\n",
       "      <td>0.157534</td>\n",
       "      <td>0.454346</td>\n",
       "      <td>0.288298</td>\n",
       "      <td>0.273767</td>\n",
       "      <td>0.331534</td>\n",
       "      <td>0.552807</td>\n",
       "      <td>0.540160</td>\n",
       "    </tr>\n",
       "  </tbody>\n",
       "</table>\n",
       "<p>5 rows × 22 columns</p>\n",
       "</div>"
      ],
      "text/plain": [
       "   target  face_height  chin_width  chin_height  right_Eyebrow_width  \\\n",
       "0       1     1.006897         1.0     0.813793             0.379310   \n",
       "1       1     1.007092         1.0     0.808511             0.390071   \n",
       "2       1     1.043478         1.0     0.652174             0.347826   \n",
       "3       1     1.042553         1.0     0.751773             0.375887   \n",
       "4       1     1.020548         1.0     0.787671             0.376712   \n",
       "\n",
       "   right_Eyebrow_height  left_Eyebrow_width  left_Eyebrow_height  nose_width  \\\n",
       "0              0.075862            0.358621             0.034483    0.193103   \n",
       "1              0.085106            0.382979             0.035461    0.198582   \n",
       "2              0.144928            0.355072             0.050725    0.195652   \n",
       "3              0.106383            0.368794             0.035461    0.191489   \n",
       "4              0.095890            0.369863             0.041096    0.191781   \n",
       "\n",
       "   nose_height       ...         left_Eye_width  left_Eye_height  mouse_width  \\\n",
       "0     0.337931       ...               0.172414         0.034483     0.365517   \n",
       "1     0.340426       ...               0.177305         0.049645     0.347518   \n",
       "2     0.282609       ...               0.173913         0.036232     0.376812   \n",
       "3     0.304965       ...               0.163121         0.035461     0.368794   \n",
       "4     0.321918       ...               0.171233         0.027397     0.349315   \n",
       "\n",
       "   mouse_height  eye2eye_dist  Reye2nose_dist  Leye2nose_dist  \\\n",
       "0      0.137931      0.481659        0.316339        0.300362   \n",
       "1      0.148936      0.477594        0.310900        0.311195   \n",
       "2      0.173913      0.456559        0.249496        0.247213   \n",
       "3      0.156028      0.457878        0.275893        0.257903   \n",
       "4      0.157534      0.454346        0.288298        0.273767   \n",
       "\n",
       "   nose2mouse_dist  Reye2mouse_dist  Leye2mouse_dist  \n",
       "0         0.307769         0.560535         0.550034  \n",
       "1         0.327790         0.576771         0.580555  \n",
       "2         0.337721         0.496690         0.486733  \n",
       "3         0.334224         0.534341         0.513998  \n",
       "4         0.331534         0.552807         0.540160  \n",
       "\n",
       "[5 rows x 22 columns]"
      ]
     },
     "execution_count": 162,
     "metadata": {},
     "output_type": "execute_result"
    }
   ],
   "source": [
    "db_df.head()"
   ]
  },
  {
   "cell_type": "code",
   "execution_count": 163,
   "metadata": {},
   "outputs": [
    {
     "data": {
      "text/html": [
       "<div>\n",
       "<style scoped>\n",
       "    .dataframe tbody tr th:only-of-type {\n",
       "        vertical-align: middle;\n",
       "    }\n",
       "\n",
       "    .dataframe tbody tr th {\n",
       "        vertical-align: top;\n",
       "    }\n",
       "\n",
       "    .dataframe thead th {\n",
       "        text-align: right;\n",
       "    }\n",
       "</style>\n",
       "<table border=\"1\" class=\"dataframe\">\n",
       "  <thead>\n",
       "    <tr style=\"text-align: right;\">\n",
       "      <th></th>\n",
       "      <th>target</th>\n",
       "      <th>face_height</th>\n",
       "      <th>chin_width</th>\n",
       "      <th>chin_height</th>\n",
       "      <th>right_Eyebrow_width</th>\n",
       "      <th>right_Eyebrow_height</th>\n",
       "      <th>left_Eyebrow_width</th>\n",
       "      <th>left_Eyebrow_height</th>\n",
       "      <th>nose_width</th>\n",
       "      <th>nose_height</th>\n",
       "      <th>...</th>\n",
       "      <th>left_Eye_width</th>\n",
       "      <th>left_Eye_height</th>\n",
       "      <th>mouse_width</th>\n",
       "      <th>mouse_height</th>\n",
       "      <th>eye2eye_dist</th>\n",
       "      <th>Reye2nose_dist</th>\n",
       "      <th>Leye2nose_dist</th>\n",
       "      <th>nose2mouse_dist</th>\n",
       "      <th>Reye2mouse_dist</th>\n",
       "      <th>Leye2mouse_dist</th>\n",
       "    </tr>\n",
       "  </thead>\n",
       "  <tbody>\n",
       "    <tr>\n",
       "      <th>0</th>\n",
       "      <td>1</td>\n",
       "      <td>1.062893</td>\n",
       "      <td>1.0</td>\n",
       "      <td>0.767296</td>\n",
       "      <td>0.364780</td>\n",
       "      <td>0.132075</td>\n",
       "      <td>0.396226</td>\n",
       "      <td>0.037736</td>\n",
       "      <td>0.213836</td>\n",
       "      <td>0.308176</td>\n",
       "      <td>...</td>\n",
       "      <td>0.188679</td>\n",
       "      <td>0.056604</td>\n",
       "      <td>0.421384</td>\n",
       "      <td>0.201258</td>\n",
       "      <td>0.487480</td>\n",
       "      <td>0.275855</td>\n",
       "      <td>0.303810</td>\n",
       "      <td>0.340966</td>\n",
       "      <td>0.552178</td>\n",
       "      <td>0.555459</td>\n",
       "    </tr>\n",
       "    <tr>\n",
       "      <th>1</th>\n",
       "      <td>1</td>\n",
       "      <td>1.040000</td>\n",
       "      <td>1.0</td>\n",
       "      <td>0.840000</td>\n",
       "      <td>0.376000</td>\n",
       "      <td>0.112000</td>\n",
       "      <td>0.392000</td>\n",
       "      <td>0.056000</td>\n",
       "      <td>0.208000</td>\n",
       "      <td>0.360000</td>\n",
       "      <td>...</td>\n",
       "      <td>0.200000</td>\n",
       "      <td>0.056000</td>\n",
       "      <td>0.384000</td>\n",
       "      <td>0.120000</td>\n",
       "      <td>0.492065</td>\n",
       "      <td>0.314197</td>\n",
       "      <td>0.321672</td>\n",
       "      <td>0.307005</td>\n",
       "      <td>0.561308</td>\n",
       "      <td>0.568277</td>\n",
       "    </tr>\n",
       "    <tr>\n",
       "      <th>2</th>\n",
       "      <td>1</td>\n",
       "      <td>1.030303</td>\n",
       "      <td>1.0</td>\n",
       "      <td>0.848485</td>\n",
       "      <td>0.363636</td>\n",
       "      <td>0.078788</td>\n",
       "      <td>0.369697</td>\n",
       "      <td>0.036364</td>\n",
       "      <td>0.206061</td>\n",
       "      <td>0.369697</td>\n",
       "      <td>...</td>\n",
       "      <td>0.206061</td>\n",
       "      <td>0.072727</td>\n",
       "      <td>0.357576</td>\n",
       "      <td>0.139394</td>\n",
       "      <td>0.516440</td>\n",
       "      <td>0.354276</td>\n",
       "      <td>0.357502</td>\n",
       "      <td>0.324081</td>\n",
       "      <td>0.622631</td>\n",
       "      <td>0.627051</td>\n",
       "    </tr>\n",
       "    <tr>\n",
       "      <th>3</th>\n",
       "      <td>1</td>\n",
       "      <td>1.061350</td>\n",
       "      <td>1.0</td>\n",
       "      <td>0.815951</td>\n",
       "      <td>0.355828</td>\n",
       "      <td>0.098160</td>\n",
       "      <td>0.374233</td>\n",
       "      <td>0.042945</td>\n",
       "      <td>0.202454</td>\n",
       "      <td>0.361963</td>\n",
       "      <td>...</td>\n",
       "      <td>0.196319</td>\n",
       "      <td>0.061350</td>\n",
       "      <td>0.368098</td>\n",
       "      <td>0.171779</td>\n",
       "      <td>0.502118</td>\n",
       "      <td>0.322616</td>\n",
       "      <td>0.342465</td>\n",
       "      <td>0.334214</td>\n",
       "      <td>0.602352</td>\n",
       "      <td>0.610787</td>\n",
       "    </tr>\n",
       "    <tr>\n",
       "      <th>4</th>\n",
       "      <td>1</td>\n",
       "      <td>1.006711</td>\n",
       "      <td>1.0</td>\n",
       "      <td>0.865772</td>\n",
       "      <td>0.362416</td>\n",
       "      <td>0.060403</td>\n",
       "      <td>0.362416</td>\n",
       "      <td>0.040268</td>\n",
       "      <td>0.194631</td>\n",
       "      <td>0.369128</td>\n",
       "      <td>...</td>\n",
       "      <td>0.194631</td>\n",
       "      <td>0.073826</td>\n",
       "      <td>0.328859</td>\n",
       "      <td>0.120805</td>\n",
       "      <td>0.503743</td>\n",
       "      <td>0.355903</td>\n",
       "      <td>0.355602</td>\n",
       "      <td>0.292058</td>\n",
       "      <td>0.600449</td>\n",
       "      <td>0.597211</td>\n",
       "    </tr>\n",
       "  </tbody>\n",
       "</table>\n",
       "<p>5 rows × 22 columns</p>\n",
       "</div>"
      ],
      "text/plain": [
       "   target  face_height  chin_width  chin_height  right_Eyebrow_width  \\\n",
       "0       1     1.062893         1.0     0.767296             0.364780   \n",
       "1       1     1.040000         1.0     0.840000             0.376000   \n",
       "2       1     1.030303         1.0     0.848485             0.363636   \n",
       "3       1     1.061350         1.0     0.815951             0.355828   \n",
       "4       1     1.006711         1.0     0.865772             0.362416   \n",
       "\n",
       "   right_Eyebrow_height  left_Eyebrow_width  left_Eyebrow_height  nose_width  \\\n",
       "0              0.132075            0.396226             0.037736    0.213836   \n",
       "1              0.112000            0.392000             0.056000    0.208000   \n",
       "2              0.078788            0.369697             0.036364    0.206061   \n",
       "3              0.098160            0.374233             0.042945    0.202454   \n",
       "4              0.060403            0.362416             0.040268    0.194631   \n",
       "\n",
       "   nose_height       ...         left_Eye_width  left_Eye_height  mouse_width  \\\n",
       "0     0.308176       ...               0.188679         0.056604     0.421384   \n",
       "1     0.360000       ...               0.200000         0.056000     0.384000   \n",
       "2     0.369697       ...               0.206061         0.072727     0.357576   \n",
       "3     0.361963       ...               0.196319         0.061350     0.368098   \n",
       "4     0.369128       ...               0.194631         0.073826     0.328859   \n",
       "\n",
       "   mouse_height  eye2eye_dist  Reye2nose_dist  Leye2nose_dist  \\\n",
       "0      0.201258      0.487480        0.275855        0.303810   \n",
       "1      0.120000      0.492065        0.314197        0.321672   \n",
       "2      0.139394      0.516440        0.354276        0.357502   \n",
       "3      0.171779      0.502118        0.322616        0.342465   \n",
       "4      0.120805      0.503743        0.355903        0.355602   \n",
       "\n",
       "   nose2mouse_dist  Reye2mouse_dist  Leye2mouse_dist  \n",
       "0         0.340966         0.552178         0.555459  \n",
       "1         0.307005         0.561308         0.568277  \n",
       "2         0.324081         0.622631         0.627051  \n",
       "3         0.334214         0.602352         0.610787  \n",
       "4         0.292058         0.600449         0.597211  \n",
       "\n",
       "[5 rows x 22 columns]"
      ]
     },
     "execution_count": 163,
     "metadata": {},
     "output_type": "execute_result"
    }
   ],
   "source": [
    "query_df.head()"
   ]
  },
  {
   "cell_type": "code",
   "execution_count": 164,
   "metadata": {},
   "outputs": [],
   "source": [
    "db_feature_df = db_df.drop([\"target\"], axis=1).copy()\n",
    "db_target_df = db_df[\"target\"].copy()\n",
    "query_featture_df =query_df.drop([\"target\"], axis=1).copy()\n",
    "query_target_df = query_df[\"target\"].copy()"
   ]
  },
  {
   "cell_type": "code",
   "execution_count": 165,
   "metadata": {},
   "outputs": [],
   "source": [
    "def calc_accu(query_target_df, pred):\n",
    "    correct_num = (prediction_df[\"target\"] == prediction_df[\"predict\"]).sum()\n",
    "    accuracy = correct_num / prediction_df.shape[0]\n",
    "    return correct_num, accuracy"
   ]
  },
  {
   "cell_type": "markdown",
   "metadata": {},
   "source": [
    "# テーブルデータ\n",
    "## 単純マッチング"
   ]
  },
  {
   "cell_type": "code",
   "execution_count": 166,
   "metadata": {},
   "outputs": [],
   "source": [
    "result = []\n",
    "prediction_df = pd.DataFrame(query_target_df)\n",
    "for i in range(query_featture_df.shape[0]):\n",
    "    minimum_id = (db_feature_df - query_featture_df.iloc[i]).abs().sum(axis=1).idxmin()\n",
    "    prediction_df.loc[i, \"predict\"] = db_target_df[minimum_id]"
   ]
  },
  {
   "cell_type": "code",
   "execution_count": 167,
   "metadata": {},
   "outputs": [
    {
     "data": {
      "text/html": [
       "<div>\n",
       "<style scoped>\n",
       "    .dataframe tbody tr th:only-of-type {\n",
       "        vertical-align: middle;\n",
       "    }\n",
       "\n",
       "    .dataframe tbody tr th {\n",
       "        vertical-align: top;\n",
       "    }\n",
       "\n",
       "    .dataframe thead th {\n",
       "        text-align: right;\n",
       "    }\n",
       "</style>\n",
       "<table border=\"1\" class=\"dataframe\">\n",
       "  <thead>\n",
       "    <tr style=\"text-align: right;\">\n",
       "      <th></th>\n",
       "      <th>target</th>\n",
       "      <th>predict</th>\n",
       "    </tr>\n",
       "  </thead>\n",
       "  <tbody>\n",
       "    <tr>\n",
       "      <th>0</th>\n",
       "      <td>1</td>\n",
       "      <td>1.0</td>\n",
       "    </tr>\n",
       "    <tr>\n",
       "      <th>1</th>\n",
       "      <td>1</td>\n",
       "      <td>5.0</td>\n",
       "    </tr>\n",
       "    <tr>\n",
       "      <th>2</th>\n",
       "      <td>1</td>\n",
       "      <td>10.0</td>\n",
       "    </tr>\n",
       "    <tr>\n",
       "      <th>3</th>\n",
       "      <td>1</td>\n",
       "      <td>9.0</td>\n",
       "    </tr>\n",
       "    <tr>\n",
       "      <th>4</th>\n",
       "      <td>1</td>\n",
       "      <td>19.0</td>\n",
       "    </tr>\n",
       "  </tbody>\n",
       "</table>\n",
       "</div>"
      ],
      "text/plain": [
       "   target  predict\n",
       "0       1      1.0\n",
       "1       1      5.0\n",
       "2       1     10.0\n",
       "3       1      9.0\n",
       "4       1     19.0"
      ]
     },
     "execution_count": 167,
     "metadata": {},
     "output_type": "execute_result"
    }
   ],
   "source": [
    "prediction_df.head()"
   ]
  },
  {
   "cell_type": "code",
   "execution_count": 168,
   "metadata": {},
   "outputs": [],
   "source": [
    "correct_num = (prediction_df[\"target\"] == prediction_df[\"predict\"]).sum()\n",
    "accuracy = correct_num / prediction_df.shape[0]"
   ]
  },
  {
   "cell_type": "code",
   "execution_count": 169,
   "metadata": {},
   "outputs": [
    {
     "data": {
      "text/plain": [
       "0.5344827586206896"
      ]
     },
     "execution_count": 169,
     "metadata": {},
     "output_type": "execute_result"
    }
   ],
   "source": [
    "accuracy"
   ]
  },
  {
   "cell_type": "markdown",
   "metadata": {},
   "source": [
    "## kNN"
   ]
  },
  {
   "cell_type": "code",
   "execution_count": 170,
   "metadata": {},
   "outputs": [],
   "source": [
    "DIV_NUM = 3 # k\n",
    "DIST_SETTING = 2 # ユークリッド=2, マンハッタン=1"
   ]
  },
  {
   "cell_type": "code",
   "execution_count": 171,
   "metadata": {},
   "outputs": [
    {
     "data": {
      "text/plain": [
       "KNeighborsClassifier(algorithm='auto', leaf_size=30, metric='minkowski',\n",
       "           metric_params=None, n_jobs=1, n_neighbors=3, p=2,\n",
       "           weights='uniform')"
      ]
     },
     "execution_count": 171,
     "metadata": {},
     "output_type": "execute_result"
    }
   ],
   "source": [
    "knn = KNeighborsClassifier(n_neighbors=DIV_NUM, p=DIST_SETTING, metric=\"minkowski\")\n",
    "knn.fit(db_feature_df.values, db_target_df.values)"
   ]
  },
  {
   "cell_type": "code",
   "execution_count": 172,
   "metadata": {},
   "outputs": [],
   "source": [
    "prediction = knn.predict(query_featture_df.values)\n",
    "prediction_df = pd.DataFrame(query_target_df)\n",
    "prediction_df[\"predict\"] = prediction"
   ]
  },
  {
   "cell_type": "code",
   "execution_count": 173,
   "metadata": {},
   "outputs": [],
   "source": [
    "correct_num = (prediction_df[\"target\"] == prediction_df[\"predict\"]).sum()\n",
    "accuracy = correct_num / prediction_df.shape[0]"
   ]
  },
  {
   "cell_type": "code",
   "execution_count": 174,
   "metadata": {},
   "outputs": [
    {
     "data": {
      "text/plain": [
       "0.5172413793103449"
      ]
     },
     "execution_count": 174,
     "metadata": {},
     "output_type": "execute_result"
    }
   ],
   "source": [
    "accuracy"
   ]
  },
  {
   "cell_type": "markdown",
   "metadata": {},
   "source": [
    "## NeuralNet"
   ]
  },
  {
   "cell_type": "code",
   "execution_count": 196,
   "metadata": {},
   "outputs": [],
   "source": [
    "input_size = db_feature_df.shape[1]\n",
    "# define network\n",
    "net = nn.Sequential(\n",
    "        nn.Linear(input_size, 1024),\n",
    "        nn.ReLU(),\n",
    "        nn.Linear(1024, 1024),\n",
    "        nn.ReLU(),\n",
    "        nn.Linear(1024, 1024),\n",
    "        nn.ReLU(),\n",
    "        nn.Linear(1024, 1024),\n",
    "        nn.ReLU(),\n",
    "        nn.Linear(1024, 20)\n",
    ")"
   ]
  },
  {
   "cell_type": "code",
   "execution_count": 197,
   "metadata": {},
   "outputs": [],
   "source": [
    "X_train = torch.tensor(db_feature_df.values, dtype=torch.float32)\n",
    "y_train = torch.tensor(db_target_df.values, dtype=torch.int64)\n",
    "\n",
    "X_test = torch.tensor(query_featture_df.values, dtype=torch.float32)\n",
    "y_test = torch.tensor(query_target_df.values, dtype=torch.int64)"
   ]
  },
  {
   "cell_type": "code",
   "execution_count": 198,
   "metadata": {},
   "outputs": [
    {
     "data": {
      "text/plain": [
       "torch.Size([200, 21])"
      ]
     },
     "execution_count": 198,
     "metadata": {},
     "output_type": "execute_result"
    }
   ],
   "source": [
    "X_train.shape"
   ]
  },
  {
   "cell_type": "code",
   "execution_count": 199,
   "metadata": {},
   "outputs": [
    {
     "data": {
      "text/plain": [
       "torch.Size([58, 21])"
      ]
     },
     "execution_count": 199,
     "metadata": {},
     "output_type": "execute_result"
    }
   ],
   "source": [
    "X_test.shape"
   ]
  },
  {
   "cell_type": "code",
   "execution_count": 200,
   "metadata": {},
   "outputs": [],
   "source": [
    "# 損失関数\n",
    "loss_fn = nn.CrossEntropyLoss()\n",
    "# adam\n",
    "optimizer = optim.Adam(net.parameters())\n",
    "# 損失ログ\n",
    "losses_train = []\n",
    "accuracy_test = []\n",
    "accuracy_train = []\n",
    "EPOCH = 200"
   ]
  },
  {
   "cell_type": "code",
   "execution_count": 201,
   "metadata": {
    "scrolled": false
   },
   "outputs": [
    {
     "ename": "RuntimeError",
     "evalue": "Assertion `cur_target >= 0 && cur_target < n_classes' failed.  at c:\\a\\w\\1\\s\\tmp_conda_3.6_061433\\conda\\conda-bld\\pytorch_1544163532679\\work\\aten\\src\\thnn\\generic/ClassNLLCriterion.c:93",
     "output_type": "error",
     "traceback": [
      "\u001b[1;31m---------------------------------------------------------------------------\u001b[0m",
      "\u001b[1;31mRuntimeError\u001b[0m                              Traceback (most recent call last)",
      "\u001b[1;32m<ipython-input-201-9bb9bad0898a>\u001b[0m in \u001b[0;36m<module>\u001b[1;34m()\u001b[0m\n\u001b[0;32m      6\u001b[0m     \u001b[0my_pred\u001b[0m \u001b[1;33m=\u001b[0m \u001b[0mnet\u001b[0m\u001b[1;33m(\u001b[0m\u001b[0mX_train\u001b[0m\u001b[1;33m)\u001b[0m\u001b[1;33m\u001b[0m\u001b[0m\n\u001b[0;32m      7\u001b[0m \u001b[1;33m\u001b[0m\u001b[0m\n\u001b[1;32m----> 8\u001b[1;33m     \u001b[0mloss\u001b[0m \u001b[1;33m=\u001b[0m \u001b[0mloss_fn\u001b[0m\u001b[1;33m(\u001b[0m\u001b[0my_pred\u001b[0m\u001b[1;33m,\u001b[0m \u001b[0my_train\u001b[0m\u001b[1;33m)\u001b[0m\u001b[1;33m\u001b[0m\u001b[0m\n\u001b[0m\u001b[0;32m      9\u001b[0m     \u001b[0mloss\u001b[0m\u001b[1;33m.\u001b[0m\u001b[0mbackward\u001b[0m\u001b[1;33m(\u001b[0m\u001b[1;33m)\u001b[0m\u001b[1;33m\u001b[0m\u001b[0m\n\u001b[0;32m     10\u001b[0m \u001b[1;33m\u001b[0m\u001b[0m\n",
      "\u001b[1;32mC:\\Anaconda3\\lib\\site-packages\\torch\\nn\\modules\\module.py\u001b[0m in \u001b[0;36m__call__\u001b[1;34m(self, *input, **kwargs)\u001b[0m\n\u001b[0;32m    487\u001b[0m             \u001b[0mresult\u001b[0m \u001b[1;33m=\u001b[0m \u001b[0mself\u001b[0m\u001b[1;33m.\u001b[0m\u001b[0m_slow_forward\u001b[0m\u001b[1;33m(\u001b[0m\u001b[1;33m*\u001b[0m\u001b[0minput\u001b[0m\u001b[1;33m,\u001b[0m \u001b[1;33m**\u001b[0m\u001b[0mkwargs\u001b[0m\u001b[1;33m)\u001b[0m\u001b[1;33m\u001b[0m\u001b[0m\n\u001b[0;32m    488\u001b[0m         \u001b[1;32melse\u001b[0m\u001b[1;33m:\u001b[0m\u001b[1;33m\u001b[0m\u001b[0m\n\u001b[1;32m--> 489\u001b[1;33m             \u001b[0mresult\u001b[0m \u001b[1;33m=\u001b[0m \u001b[0mself\u001b[0m\u001b[1;33m.\u001b[0m\u001b[0mforward\u001b[0m\u001b[1;33m(\u001b[0m\u001b[1;33m*\u001b[0m\u001b[0minput\u001b[0m\u001b[1;33m,\u001b[0m \u001b[1;33m**\u001b[0m\u001b[0mkwargs\u001b[0m\u001b[1;33m)\u001b[0m\u001b[1;33m\u001b[0m\u001b[0m\n\u001b[0m\u001b[0;32m    490\u001b[0m         \u001b[1;32mfor\u001b[0m \u001b[0mhook\u001b[0m \u001b[1;32min\u001b[0m \u001b[0mself\u001b[0m\u001b[1;33m.\u001b[0m\u001b[0m_forward_hooks\u001b[0m\u001b[1;33m.\u001b[0m\u001b[0mvalues\u001b[0m\u001b[1;33m(\u001b[0m\u001b[1;33m)\u001b[0m\u001b[1;33m:\u001b[0m\u001b[1;33m\u001b[0m\u001b[0m\n\u001b[0;32m    491\u001b[0m             \u001b[0mhook_result\u001b[0m \u001b[1;33m=\u001b[0m \u001b[0mhook\u001b[0m\u001b[1;33m(\u001b[0m\u001b[0mself\u001b[0m\u001b[1;33m,\u001b[0m \u001b[0minput\u001b[0m\u001b[1;33m,\u001b[0m \u001b[0mresult\u001b[0m\u001b[1;33m)\u001b[0m\u001b[1;33m\u001b[0m\u001b[0m\n",
      "\u001b[1;32mC:\\Anaconda3\\lib\\site-packages\\torch\\nn\\modules\\loss.py\u001b[0m in \u001b[0;36mforward\u001b[1;34m(self, input, target)\u001b[0m\n\u001b[0;32m    902\u001b[0m     \u001b[1;32mdef\u001b[0m \u001b[0mforward\u001b[0m\u001b[1;33m(\u001b[0m\u001b[0mself\u001b[0m\u001b[1;33m,\u001b[0m \u001b[0minput\u001b[0m\u001b[1;33m,\u001b[0m \u001b[0mtarget\u001b[0m\u001b[1;33m)\u001b[0m\u001b[1;33m:\u001b[0m\u001b[1;33m\u001b[0m\u001b[0m\n\u001b[0;32m    903\u001b[0m         return F.cross_entropy(input, target, weight=self.weight,\n\u001b[1;32m--> 904\u001b[1;33m                                ignore_index=self.ignore_index, reduction=self.reduction)\n\u001b[0m\u001b[0;32m    905\u001b[0m \u001b[1;33m\u001b[0m\u001b[0m\n\u001b[0;32m    906\u001b[0m \u001b[1;33m\u001b[0m\u001b[0m\n",
      "\u001b[1;32mC:\\Anaconda3\\lib\\site-packages\\torch\\nn\\functional.py\u001b[0m in \u001b[0;36mcross_entropy\u001b[1;34m(input, target, weight, size_average, ignore_index, reduce, reduction)\u001b[0m\n\u001b[0;32m   1968\u001b[0m     \u001b[1;32mif\u001b[0m \u001b[0msize_average\u001b[0m \u001b[1;32mis\u001b[0m \u001b[1;32mnot\u001b[0m \u001b[1;32mNone\u001b[0m \u001b[1;32mor\u001b[0m \u001b[0mreduce\u001b[0m \u001b[1;32mis\u001b[0m \u001b[1;32mnot\u001b[0m \u001b[1;32mNone\u001b[0m\u001b[1;33m:\u001b[0m\u001b[1;33m\u001b[0m\u001b[0m\n\u001b[0;32m   1969\u001b[0m         \u001b[0mreduction\u001b[0m \u001b[1;33m=\u001b[0m \u001b[0m_Reduction\u001b[0m\u001b[1;33m.\u001b[0m\u001b[0mlegacy_get_string\u001b[0m\u001b[1;33m(\u001b[0m\u001b[0msize_average\u001b[0m\u001b[1;33m,\u001b[0m \u001b[0mreduce\u001b[0m\u001b[1;33m)\u001b[0m\u001b[1;33m\u001b[0m\u001b[0m\n\u001b[1;32m-> 1970\u001b[1;33m     \u001b[1;32mreturn\u001b[0m \u001b[0mnll_loss\u001b[0m\u001b[1;33m(\u001b[0m\u001b[0mlog_softmax\u001b[0m\u001b[1;33m(\u001b[0m\u001b[0minput\u001b[0m\u001b[1;33m,\u001b[0m \u001b[1;36m1\u001b[0m\u001b[1;33m)\u001b[0m\u001b[1;33m,\u001b[0m \u001b[0mtarget\u001b[0m\u001b[1;33m,\u001b[0m \u001b[0mweight\u001b[0m\u001b[1;33m,\u001b[0m \u001b[1;32mNone\u001b[0m\u001b[1;33m,\u001b[0m \u001b[0mignore_index\u001b[0m\u001b[1;33m,\u001b[0m \u001b[1;32mNone\u001b[0m\u001b[1;33m,\u001b[0m \u001b[0mreduction\u001b[0m\u001b[1;33m)\u001b[0m\u001b[1;33m\u001b[0m\u001b[0m\n\u001b[0m\u001b[0;32m   1971\u001b[0m \u001b[1;33m\u001b[0m\u001b[0m\n\u001b[0;32m   1972\u001b[0m \u001b[1;33m\u001b[0m\u001b[0m\n",
      "\u001b[1;32mC:\\Anaconda3\\lib\\site-packages\\torch\\nn\\functional.py\u001b[0m in \u001b[0;36mnll_loss\u001b[1;34m(input, target, weight, size_average, ignore_index, reduce, reduction)\u001b[0m\n\u001b[0;32m   1788\u001b[0m                          .format(input.size(0), target.size(0)))\n\u001b[0;32m   1789\u001b[0m     \u001b[1;32mif\u001b[0m \u001b[0mdim\u001b[0m \u001b[1;33m==\u001b[0m \u001b[1;36m2\u001b[0m\u001b[1;33m:\u001b[0m\u001b[1;33m\u001b[0m\u001b[0m\n\u001b[1;32m-> 1790\u001b[1;33m         \u001b[0mret\u001b[0m \u001b[1;33m=\u001b[0m \u001b[0mtorch\u001b[0m\u001b[1;33m.\u001b[0m\u001b[0m_C\u001b[0m\u001b[1;33m.\u001b[0m\u001b[0m_nn\u001b[0m\u001b[1;33m.\u001b[0m\u001b[0mnll_loss\u001b[0m\u001b[1;33m(\u001b[0m\u001b[0minput\u001b[0m\u001b[1;33m,\u001b[0m \u001b[0mtarget\u001b[0m\u001b[1;33m,\u001b[0m \u001b[0mweight\u001b[0m\u001b[1;33m,\u001b[0m \u001b[0m_Reduction\u001b[0m\u001b[1;33m.\u001b[0m\u001b[0mget_enum\u001b[0m\u001b[1;33m(\u001b[0m\u001b[0mreduction\u001b[0m\u001b[1;33m)\u001b[0m\u001b[1;33m,\u001b[0m \u001b[0mignore_index\u001b[0m\u001b[1;33m)\u001b[0m\u001b[1;33m\u001b[0m\u001b[0m\n\u001b[0m\u001b[0;32m   1791\u001b[0m     \u001b[1;32melif\u001b[0m \u001b[0mdim\u001b[0m \u001b[1;33m==\u001b[0m \u001b[1;36m4\u001b[0m\u001b[1;33m:\u001b[0m\u001b[1;33m\u001b[0m\u001b[0m\n\u001b[0;32m   1792\u001b[0m         \u001b[0mret\u001b[0m \u001b[1;33m=\u001b[0m \u001b[0mtorch\u001b[0m\u001b[1;33m.\u001b[0m\u001b[0m_C\u001b[0m\u001b[1;33m.\u001b[0m\u001b[0m_nn\u001b[0m\u001b[1;33m.\u001b[0m\u001b[0mnll_loss2d\u001b[0m\u001b[1;33m(\u001b[0m\u001b[0minput\u001b[0m\u001b[1;33m,\u001b[0m \u001b[0mtarget\u001b[0m\u001b[1;33m,\u001b[0m \u001b[0mweight\u001b[0m\u001b[1;33m,\u001b[0m \u001b[0m_Reduction\u001b[0m\u001b[1;33m.\u001b[0m\u001b[0mget_enum\u001b[0m\u001b[1;33m(\u001b[0m\u001b[0mreduction\u001b[0m\u001b[1;33m)\u001b[0m\u001b[1;33m,\u001b[0m \u001b[0mignore_index\u001b[0m\u001b[1;33m)\u001b[0m\u001b[1;33m\u001b[0m\u001b[0m\n",
      "\u001b[1;31mRuntimeError\u001b[0m: Assertion `cur_target >= 0 && cur_target < n_classes' failed.  at c:\\a\\w\\1\\s\\tmp_conda_3.6_061433\\conda\\conda-bld\\pytorch_1544163532679\\work\\aten\\src\\thnn\\generic/ClassNLLCriterion.c:93"
     ]
    }
   ],
   "source": [
    "# 20エポック回す\n",
    "# ここだけ繰り返すと再学習しちゃうので注意\n",
    "for epoc in range(EPOCH):\n",
    "    optimizer.zero_grad()\n",
    "    \n",
    "    y_pred = net(X_train)\n",
    "    \n",
    "    loss = loss_fn(y_pred, y_train)\n",
    "    loss.backward()\n",
    "    \n",
    "    optimizer.step()\n",
    "    \n",
    "    losses_train.append(loss.item())\n",
    "    \n",
    "    _, predicted = torch.max(y_pred, 1)\n",
    "    corrects_train = 0\n",
    "    for i in range(len(predicted)):\n",
    "        if(predicted[i]==y_train[i]):\n",
    "            corrects_train += 1\n",
    "    accuracy_train.append(corrects_train/len(y_train))\n",
    "    \n",
    "    y_test_pred = net(X_test)\n",
    "    _, predicted = torch.max(y_test_pred, 1)\n",
    "    corrects_test = 0\n",
    "    for i in range(len(predicted)):\n",
    "        if(predicted[i]==y_test[i]):\n",
    "            corrects_test += 1\n",
    "    accuracy_test.append(corrects_test/len(y_test))\n",
    "    \n",
    "    if(epoc%50 == 0 or epoc == (EPOCH-1)):\n",
    "        print(\"-\"*8+\"epoch{}\".format(epoc)+\"-\"*8)\n",
    "        print(\"train accuracy:{:.3}\".format(accuracy_train[-1]))\n",
    "        print(\"train loss:{:.3}\".format(losses_train[-1]))\n",
    "        print(\"test accuracy:{:.3}\".format(accuracy_test[-1]))\n",
    "        print(\"-\"*20)\n",
    "print(\"max accuracy_test: {}\".format(max(accuracy_test)))"
   ]
  },
  {
   "cell_type": "code",
   "execution_count": 202,
   "metadata": {},
   "outputs": [
    {
     "ename": "ValueError",
     "evalue": "x and y must have same first dimension, but have shapes (200,) and (0,)",
     "output_type": "error",
     "traceback": [
      "\u001b[1;31m---------------------------------------------------------------------------\u001b[0m",
      "\u001b[1;31mValueError\u001b[0m                                Traceback (most recent call last)",
      "\u001b[1;32m<ipython-input-202-5e945de9a5b8>\u001b[0m in \u001b[0;36m<module>\u001b[1;34m()\u001b[0m\n\u001b[0;32m      1\u001b[0m \u001b[0mfig\u001b[0m\u001b[1;33m,\u001b[0m \u001b[0max1\u001b[0m \u001b[1;33m=\u001b[0m \u001b[0mplt\u001b[0m\u001b[1;33m.\u001b[0m\u001b[0msubplots\u001b[0m\u001b[1;33m(\u001b[0m\u001b[1;33m)\u001b[0m\u001b[1;33m\u001b[0m\u001b[0m\n\u001b[1;32m----> 2\u001b[1;33m \u001b[0max1\u001b[0m\u001b[1;33m.\u001b[0m\u001b[0mplot\u001b[0m\u001b[1;33m(\u001b[0m\u001b[0mlist\u001b[0m\u001b[1;33m(\u001b[0m\u001b[0mrange\u001b[0m\u001b[1;33m(\u001b[0m\u001b[0mEPOCH\u001b[0m\u001b[1;33m)\u001b[0m\u001b[1;33m)\u001b[0m\u001b[1;33m,\u001b[0m \u001b[0maccuracy_train\u001b[0m\u001b[1;33m,\u001b[0m \u001b[0mcolor\u001b[0m\u001b[1;33m=\u001b[0m\u001b[1;34m\"blue\"\u001b[0m\u001b[1;33m)\u001b[0m\u001b[1;33m\u001b[0m\u001b[0m\n\u001b[0m\u001b[0;32m      3\u001b[0m \u001b[0max1\u001b[0m\u001b[1;33m.\u001b[0m\u001b[0mplot\u001b[0m\u001b[1;33m(\u001b[0m\u001b[0mlist\u001b[0m\u001b[1;33m(\u001b[0m\u001b[0mrange\u001b[0m\u001b[1;33m(\u001b[0m\u001b[0mEPOCH\u001b[0m\u001b[1;33m)\u001b[0m\u001b[1;33m)\u001b[0m\u001b[1;33m,\u001b[0m \u001b[0maccuracy_test\u001b[0m\u001b[1;33m,\u001b[0m \u001b[0mcolor\u001b[0m\u001b[1;33m=\u001b[0m\u001b[1;34m\"skyblue\"\u001b[0m\u001b[1;33m)\u001b[0m\u001b[1;33m\u001b[0m\u001b[0m\n\u001b[0;32m      4\u001b[0m \u001b[0max1\u001b[0m\u001b[1;33m.\u001b[0m\u001b[0mset_xlabel\u001b[0m\u001b[1;33m(\u001b[0m\u001b[1;34m\"epoch\"\u001b[0m\u001b[1;33m)\u001b[0m\u001b[1;33m\u001b[0m\u001b[0m\n\u001b[0;32m      5\u001b[0m \u001b[0max1\u001b[0m\u001b[1;33m.\u001b[0m\u001b[0mset_ylabel\u001b[0m\u001b[1;33m(\u001b[0m\u001b[1;34m\"accuracy\"\u001b[0m\u001b[1;33m,\u001b[0m \u001b[0mcolor\u001b[0m\u001b[1;33m=\u001b[0m\u001b[1;34m\"blue\"\u001b[0m\u001b[1;33m)\u001b[0m\u001b[1;33m\u001b[0m\u001b[0m\n",
      "\u001b[1;32mC:\\Anaconda3\\lib\\site-packages\\matplotlib\\__init__.py\u001b[0m in \u001b[0;36minner\u001b[1;34m(ax, *args, **kwargs)\u001b[0m\n\u001b[0;32m   1853\u001b[0m                         \u001b[1;34m\"the Matplotlib list!)\"\u001b[0m \u001b[1;33m%\u001b[0m \u001b[1;33m(\u001b[0m\u001b[0mlabel_namer\u001b[0m\u001b[1;33m,\u001b[0m \u001b[0mfunc\u001b[0m\u001b[1;33m.\u001b[0m\u001b[0m__name__\u001b[0m\u001b[1;33m)\u001b[0m\u001b[1;33m,\u001b[0m\u001b[1;33m\u001b[0m\u001b[0m\n\u001b[0;32m   1854\u001b[0m                         RuntimeWarning, stacklevel=2)\n\u001b[1;32m-> 1855\u001b[1;33m             \u001b[1;32mreturn\u001b[0m \u001b[0mfunc\u001b[0m\u001b[1;33m(\u001b[0m\u001b[0max\u001b[0m\u001b[1;33m,\u001b[0m \u001b[1;33m*\u001b[0m\u001b[0margs\u001b[0m\u001b[1;33m,\u001b[0m \u001b[1;33m**\u001b[0m\u001b[0mkwargs\u001b[0m\u001b[1;33m)\u001b[0m\u001b[1;33m\u001b[0m\u001b[0m\n\u001b[0m\u001b[0;32m   1856\u001b[0m \u001b[1;33m\u001b[0m\u001b[0m\n\u001b[0;32m   1857\u001b[0m         inner.__doc__ = _add_data_doc(inner.__doc__,\n",
      "\u001b[1;32mC:\\Anaconda3\\lib\\site-packages\\matplotlib\\axes\\_axes.py\u001b[0m in \u001b[0;36mplot\u001b[1;34m(self, *args, **kwargs)\u001b[0m\n\u001b[0;32m   1525\u001b[0m         \u001b[0mkwargs\u001b[0m \u001b[1;33m=\u001b[0m \u001b[0mcbook\u001b[0m\u001b[1;33m.\u001b[0m\u001b[0mnormalize_kwargs\u001b[0m\u001b[1;33m(\u001b[0m\u001b[0mkwargs\u001b[0m\u001b[1;33m,\u001b[0m \u001b[0m_alias_map\u001b[0m\u001b[1;33m)\u001b[0m\u001b[1;33m\u001b[0m\u001b[0m\n\u001b[0;32m   1526\u001b[0m \u001b[1;33m\u001b[0m\u001b[0m\n\u001b[1;32m-> 1527\u001b[1;33m         \u001b[1;32mfor\u001b[0m \u001b[0mline\u001b[0m \u001b[1;32min\u001b[0m \u001b[0mself\u001b[0m\u001b[1;33m.\u001b[0m\u001b[0m_get_lines\u001b[0m\u001b[1;33m(\u001b[0m\u001b[1;33m*\u001b[0m\u001b[0margs\u001b[0m\u001b[1;33m,\u001b[0m \u001b[1;33m**\u001b[0m\u001b[0mkwargs\u001b[0m\u001b[1;33m)\u001b[0m\u001b[1;33m:\u001b[0m\u001b[1;33m\u001b[0m\u001b[0m\n\u001b[0m\u001b[0;32m   1528\u001b[0m             \u001b[0mself\u001b[0m\u001b[1;33m.\u001b[0m\u001b[0madd_line\u001b[0m\u001b[1;33m(\u001b[0m\u001b[0mline\u001b[0m\u001b[1;33m)\u001b[0m\u001b[1;33m\u001b[0m\u001b[0m\n\u001b[0;32m   1529\u001b[0m             \u001b[0mlines\u001b[0m\u001b[1;33m.\u001b[0m\u001b[0mappend\u001b[0m\u001b[1;33m(\u001b[0m\u001b[0mline\u001b[0m\u001b[1;33m)\u001b[0m\u001b[1;33m\u001b[0m\u001b[0m\n",
      "\u001b[1;32mC:\\Anaconda3\\lib\\site-packages\\matplotlib\\axes\\_base.py\u001b[0m in \u001b[0;36m_grab_next_args\u001b[1;34m(self, *args, **kwargs)\u001b[0m\n\u001b[0;32m    404\u001b[0m                 \u001b[0mthis\u001b[0m \u001b[1;33m+=\u001b[0m \u001b[0margs\u001b[0m\u001b[1;33m[\u001b[0m\u001b[1;36m0\u001b[0m\u001b[1;33m]\u001b[0m\u001b[1;33m,\u001b[0m\u001b[1;33m\u001b[0m\u001b[0m\n\u001b[0;32m    405\u001b[0m                 \u001b[0margs\u001b[0m \u001b[1;33m=\u001b[0m \u001b[0margs\u001b[0m\u001b[1;33m[\u001b[0m\u001b[1;36m1\u001b[0m\u001b[1;33m:\u001b[0m\u001b[1;33m]\u001b[0m\u001b[1;33m\u001b[0m\u001b[0m\n\u001b[1;32m--> 406\u001b[1;33m             \u001b[1;32mfor\u001b[0m \u001b[0mseg\u001b[0m \u001b[1;32min\u001b[0m \u001b[0mself\u001b[0m\u001b[1;33m.\u001b[0m\u001b[0m_plot_args\u001b[0m\u001b[1;33m(\u001b[0m\u001b[0mthis\u001b[0m\u001b[1;33m,\u001b[0m \u001b[0mkwargs\u001b[0m\u001b[1;33m)\u001b[0m\u001b[1;33m:\u001b[0m\u001b[1;33m\u001b[0m\u001b[0m\n\u001b[0m\u001b[0;32m    407\u001b[0m                 \u001b[1;32myield\u001b[0m \u001b[0mseg\u001b[0m\u001b[1;33m\u001b[0m\u001b[0m\n\u001b[0;32m    408\u001b[0m \u001b[1;33m\u001b[0m\u001b[0m\n",
      "\u001b[1;32mC:\\Anaconda3\\lib\\site-packages\\matplotlib\\axes\\_base.py\u001b[0m in \u001b[0;36m_plot_args\u001b[1;34m(self, tup, kwargs)\u001b[0m\n\u001b[0;32m    381\u001b[0m             \u001b[0mx\u001b[0m\u001b[1;33m,\u001b[0m \u001b[0my\u001b[0m \u001b[1;33m=\u001b[0m \u001b[0mindex_of\u001b[0m\u001b[1;33m(\u001b[0m\u001b[0mtup\u001b[0m\u001b[1;33m[\u001b[0m\u001b[1;33m-\u001b[0m\u001b[1;36m1\u001b[0m\u001b[1;33m]\u001b[0m\u001b[1;33m)\u001b[0m\u001b[1;33m\u001b[0m\u001b[0m\n\u001b[0;32m    382\u001b[0m \u001b[1;33m\u001b[0m\u001b[0m\n\u001b[1;32m--> 383\u001b[1;33m         \u001b[0mx\u001b[0m\u001b[1;33m,\u001b[0m \u001b[0my\u001b[0m \u001b[1;33m=\u001b[0m \u001b[0mself\u001b[0m\u001b[1;33m.\u001b[0m\u001b[0m_xy_from_xy\u001b[0m\u001b[1;33m(\u001b[0m\u001b[0mx\u001b[0m\u001b[1;33m,\u001b[0m \u001b[0my\u001b[0m\u001b[1;33m)\u001b[0m\u001b[1;33m\u001b[0m\u001b[0m\n\u001b[0m\u001b[0;32m    384\u001b[0m \u001b[1;33m\u001b[0m\u001b[0m\n\u001b[0;32m    385\u001b[0m         \u001b[1;32mif\u001b[0m \u001b[0mself\u001b[0m\u001b[1;33m.\u001b[0m\u001b[0mcommand\u001b[0m \u001b[1;33m==\u001b[0m \u001b[1;34m'plot'\u001b[0m\u001b[1;33m:\u001b[0m\u001b[1;33m\u001b[0m\u001b[0m\n",
      "\u001b[1;32mC:\\Anaconda3\\lib\\site-packages\\matplotlib\\axes\\_base.py\u001b[0m in \u001b[0;36m_xy_from_xy\u001b[1;34m(self, x, y)\u001b[0m\n\u001b[0;32m    240\u001b[0m         \u001b[1;32mif\u001b[0m \u001b[0mx\u001b[0m\u001b[1;33m.\u001b[0m\u001b[0mshape\u001b[0m\u001b[1;33m[\u001b[0m\u001b[1;36m0\u001b[0m\u001b[1;33m]\u001b[0m \u001b[1;33m!=\u001b[0m \u001b[0my\u001b[0m\u001b[1;33m.\u001b[0m\u001b[0mshape\u001b[0m\u001b[1;33m[\u001b[0m\u001b[1;36m0\u001b[0m\u001b[1;33m]\u001b[0m\u001b[1;33m:\u001b[0m\u001b[1;33m\u001b[0m\u001b[0m\n\u001b[0;32m    241\u001b[0m             raise ValueError(\"x and y must have same first dimension, but \"\n\u001b[1;32m--> 242\u001b[1;33m                              \"have shapes {} and {}\".format(x.shape, y.shape))\n\u001b[0m\u001b[0;32m    243\u001b[0m         \u001b[1;32mif\u001b[0m \u001b[0mx\u001b[0m\u001b[1;33m.\u001b[0m\u001b[0mndim\u001b[0m \u001b[1;33m>\u001b[0m \u001b[1;36m2\u001b[0m \u001b[1;32mor\u001b[0m \u001b[0my\u001b[0m\u001b[1;33m.\u001b[0m\u001b[0mndim\u001b[0m \u001b[1;33m>\u001b[0m \u001b[1;36m2\u001b[0m\u001b[1;33m:\u001b[0m\u001b[1;33m\u001b[0m\u001b[0m\n\u001b[0;32m    244\u001b[0m             raise ValueError(\"x and y can be no greater than 2-D, but have \"\n",
      "\u001b[1;31mValueError\u001b[0m: x and y must have same first dimension, but have shapes (200,) and (0,)"
     ]
    },
    {
     "data": {
      "image/png": "[encoded data removed]",
      "text/plain": [
       "<Figure size 432x288 with 1 Axes>"
      ]
     },
     "metadata": {},
     "output_type": "display_data"
    }
   ],
   "source": [
    "fig, ax1 = plt.subplots()\n",
    "ax1.plot(list(range(EPOCH)), accuracy_train, color=\"blue\")\n",
    "ax1.plot(list(range(EPOCH)), accuracy_test, color=\"skyblue\")\n",
    "ax1.set_xlabel(\"epoch\")\n",
    "ax1.set_ylabel(\"accuracy\", color=\"blue\")\n",
    "ax1.tick_params(axis=\"y\", labelcolor=\"blue\")\n",
    "\n",
    "ax2 = ax1.twinx()\n",
    "ax2.plot(list(range(EPOCH)), losses_train, color=\"red\")\n",
    "ax2.set_ylabel(\"train loss\", color=\"red\")\n",
    "ax2.tick_params(axis=\"y\", labelcolor=\"red\")\n",
    "plt.show()"
   ]
  },
  {
   "cell_type": "markdown",
   "metadata": {},
   "source": [
    "## LightGBM"
   ]
  },
  {
   "cell_type": "code",
   "execution_count": 22,
   "metadata": {},
   "outputs": [],
   "source": [
    "lgb_train = lgb.Dataset(db_feature_df.values, db_target_df.values)\n",
    "lgb_eval = lgb.Dataset(query_featture_df.values, query_target_df.values, reference=lgb_train)"
   ]
  },
  {
   "cell_type": "code",
   "execution_count": 27,
   "metadata": {},
   "outputs": [],
   "source": [
    "# LightGBM parameters\n",
    "params = {\n",
    "    'task': 'train',\n",
    "    'boosting_type': 'gbdt',\n",
    "    'objective': 'multiclass',\n",
    "    'metric': 'multi_error',\n",
    "    'num_class': 20,\n",
    "    'learning_rate': 0.1,\n",
    "    'num_leaves': 15,\n",
    "    'min_data_in_leaf': 10,\n",
    "    'num_iteration': 200,\n",
    "    'verbose': -1,\n",
    "}"
   ]
  },
  {
   "cell_type": "code",
   "execution_count": 28,
   "metadata": {
    "scrolled": false
   },
   "outputs": [
    {
     "name": "stderr",
     "output_type": "stream",
     "text": [
      "C:\\Anaconda3\\lib\\site-packages\\lightgbm\\engine.py:113: UserWarning: Found `num_iteration` in params. Will use it instead of argument\n",
      "  warnings.warn(\"Found `{}` in params. Will use it instead of argument\".format(alias))\n"
     ]
    },
    {
     "name": "stdout",
     "output_type": "stream",
     "text": [
      "[1]\tvalid_0's multi_error: 0.689655\n",
      "Training until validation scores don't improve for 100 rounds.\n",
      "[2]\tvalid_0's multi_error: 0.637931\n",
      "[3]\tvalid_0's multi_error: 0.603448\n",
      "[4]\tvalid_0's multi_error: 0.603448\n",
      "[5]\tvalid_0's multi_error: 0.568966\n",
      "[6]\tvalid_0's multi_error: 0.568966\n",
      "[7]\tvalid_0's multi_error: 0.568966\n",
      "[8]\tvalid_0's multi_error: 0.551724\n",
      "[9]\tvalid_0's multi_error: 0.551724\n",
      "[10]\tvalid_0's multi_error: 0.551724\n",
      "[11]\tvalid_0's multi_error: 0.551724\n",
      "[12]\tvalid_0's multi_error: 0.551724\n",
      "[13]\tvalid_0's multi_error: 0.551724\n",
      "[14]\tvalid_0's multi_error: 0.551724\n",
      "[15]\tvalid_0's multi_error: 0.551724\n",
      "[16]\tvalid_0's multi_error: 0.551724\n",
      "[17]\tvalid_0's multi_error: 0.551724\n",
      "[18]\tvalid_0's multi_error: 0.551724\n",
      "[19]\tvalid_0's multi_error: 0.551724\n",
      "[20]\tvalid_0's multi_error: 0.551724\n",
      "[21]\tvalid_0's multi_error: 0.551724\n",
      "[22]\tvalid_0's multi_error: 0.551724\n",
      "[23]\tvalid_0's multi_error: 0.534483\n",
      "[24]\tvalid_0's multi_error: 0.534483\n",
      "[25]\tvalid_0's multi_error: 0.534483\n",
      "[26]\tvalid_0's multi_error: 0.534483\n",
      "[27]\tvalid_0's multi_error: 0.534483\n",
      "[28]\tvalid_0's multi_error: 0.534483\n",
      "[29]\tvalid_0's multi_error: 0.534483\n",
      "[30]\tvalid_0's multi_error: 0.534483\n",
      "[31]\tvalid_0's multi_error: 0.534483\n",
      "[32]\tvalid_0's multi_error: 0.534483\n",
      "[33]\tvalid_0's multi_error: 0.534483\n",
      "[34]\tvalid_0's multi_error: 0.534483\n",
      "[35]\tvalid_0's multi_error: 0.534483\n",
      "[36]\tvalid_0's multi_error: 0.534483\n",
      "[37]\tvalid_0's multi_error: 0.534483\n",
      "[38]\tvalid_0's multi_error: 0.534483\n",
      "[39]\tvalid_0's multi_error: 0.534483\n",
      "[40]\tvalid_0's multi_error: 0.534483\n",
      "[41]\tvalid_0's multi_error: 0.517241\n",
      "[42]\tvalid_0's multi_error: 0.517241\n",
      "[43]\tvalid_0's multi_error: 0.517241\n",
      "[44]\tvalid_0's multi_error: 0.517241\n",
      "[45]\tvalid_0's multi_error: 0.517241\n",
      "[46]\tvalid_0's multi_error: 0.517241\n",
      "[47]\tvalid_0's multi_error: 0.517241\n",
      "[48]\tvalid_0's multi_error: 0.517241\n",
      "[49]\tvalid_0's multi_error: 0.517241\n",
      "[50]\tvalid_0's multi_error: 0.517241\n",
      "[51]\tvalid_0's multi_error: 0.517241\n",
      "[52]\tvalid_0's multi_error: 0.517241\n",
      "[53]\tvalid_0's multi_error: 0.517241\n",
      "[54]\tvalid_0's multi_error: 0.517241\n",
      "[55]\tvalid_0's multi_error: 0.517241\n",
      "[56]\tvalid_0's multi_error: 0.517241\n",
      "[57]\tvalid_0's multi_error: 0.517241\n",
      "[58]\tvalid_0's multi_error: 0.517241\n",
      "[59]\tvalid_0's multi_error: 0.517241\n",
      "[60]\tvalid_0's multi_error: 0.517241\n",
      "[61]\tvalid_0's multi_error: 0.517241\n",
      "[62]\tvalid_0's multi_error: 0.517241\n",
      "[63]\tvalid_0's multi_error: 0.517241\n",
      "[64]\tvalid_0's multi_error: 0.517241\n",
      "[65]\tvalid_0's multi_error: 0.517241\n",
      "[66]\tvalid_0's multi_error: 0.517241\n",
      "[67]\tvalid_0's multi_error: 0.517241\n",
      "[68]\tvalid_0's multi_error: 0.517241\n",
      "[69]\tvalid_0's multi_error: 0.517241\n",
      "[70]\tvalid_0's multi_error: 0.517241\n",
      "[71]\tvalid_0's multi_error: 0.517241\n",
      "[72]\tvalid_0's multi_error: 0.517241\n",
      "[73]\tvalid_0's multi_error: 0.517241\n",
      "[74]\tvalid_0's multi_error: 0.517241\n",
      "[75]\tvalid_0's multi_error: 0.517241\n",
      "[76]\tvalid_0's multi_error: 0.517241\n",
      "[77]\tvalid_0's multi_error: 0.517241\n",
      "[78]\tvalid_0's multi_error: 0.517241\n",
      "[79]\tvalid_0's multi_error: 0.517241\n",
      "[80]\tvalid_0's multi_error: 0.517241\n",
      "[81]\tvalid_0's multi_error: 0.517241\n",
      "[82]\tvalid_0's multi_error: 0.534483\n",
      "[83]\tvalid_0's multi_error: 0.534483\n",
      "[84]\tvalid_0's multi_error: 0.517241\n",
      "[85]\tvalid_0's multi_error: 0.517241\n",
      "[86]\tvalid_0's multi_error: 0.517241\n",
      "[87]\tvalid_0's multi_error: 0.517241\n",
      "[88]\tvalid_0's multi_error: 0.517241\n",
      "[89]\tvalid_0's multi_error: 0.517241\n",
      "[90]\tvalid_0's multi_error: 0.517241\n",
      "[91]\tvalid_0's multi_error: 0.517241\n",
      "[92]\tvalid_0's multi_error: 0.517241\n",
      "[93]\tvalid_0's multi_error: 0.517241\n",
      "[94]\tvalid_0's multi_error: 0.517241\n",
      "[95]\tvalid_0's multi_error: 0.517241\n",
      "[96]\tvalid_0's multi_error: 0.517241\n",
      "[97]\tvalid_0's multi_error: 0.517241\n",
      "[98]\tvalid_0's multi_error: 0.517241\n",
      "[99]\tvalid_0's multi_error: 0.517241\n",
      "[100]\tvalid_0's multi_error: 0.517241\n",
      "[101]\tvalid_0's multi_error: 0.517241\n",
      "[102]\tvalid_0's multi_error: 0.517241\n",
      "[103]\tvalid_0's multi_error: 0.517241\n",
      "[104]\tvalid_0's multi_error: 0.517241\n",
      "[105]\tvalid_0's multi_error: 0.517241\n",
      "[106]\tvalid_0's multi_error: 0.517241\n",
      "[107]\tvalid_0's multi_error: 0.517241\n",
      "[108]\tvalid_0's multi_error: 0.517241\n",
      "[109]\tvalid_0's multi_error: 0.517241\n",
      "[110]\tvalid_0's multi_error: 0.517241\n",
      "[111]\tvalid_0's multi_error: 0.517241\n",
      "[112]\tvalid_0's multi_error: 0.517241\n",
      "[113]\tvalid_0's multi_error: 0.517241\n",
      "[114]\tvalid_0's multi_error: 0.517241\n",
      "[115]\tvalid_0's multi_error: 0.517241\n",
      "[116]\tvalid_0's multi_error: 0.5\n",
      "[117]\tvalid_0's multi_error: 0.5\n",
      "[118]\tvalid_0's multi_error: 0.5\n",
      "[119]\tvalid_0's multi_error: 0.5\n",
      "[120]\tvalid_0's multi_error: 0.5\n",
      "[121]\tvalid_0's multi_error: 0.5\n",
      "[122]\tvalid_0's multi_error: 0.5\n",
      "[123]\tvalid_0's multi_error: 0.5\n",
      "[124]\tvalid_0's multi_error: 0.5\n",
      "[125]\tvalid_0's multi_error: 0.5\n",
      "[126]\tvalid_0's multi_error: 0.5\n",
      "[127]\tvalid_0's multi_error: 0.5\n",
      "[128]\tvalid_0's multi_error: 0.5\n",
      "[129]\tvalid_0's multi_error: 0.5\n",
      "[130]\tvalid_0's multi_error: 0.5\n",
      "[131]\tvalid_0's multi_error: 0.5\n",
      "[132]\tvalid_0's multi_error: 0.5\n",
      "[133]\tvalid_0's multi_error: 0.5\n",
      "[134]\tvalid_0's multi_error: 0.5\n",
      "[135]\tvalid_0's multi_error: 0.5\n",
      "[136]\tvalid_0's multi_error: 0.5\n",
      "[137]\tvalid_0's multi_error: 0.5\n",
      "[138]\tvalid_0's multi_error: 0.5\n",
      "[139]\tvalid_0's multi_error: 0.5\n",
      "[140]\tvalid_0's multi_error: 0.5\n",
      "[141]\tvalid_0's multi_error: 0.5\n",
      "[142]\tvalid_0's multi_error: 0.5\n",
      "[143]\tvalid_0's multi_error: 0.5\n",
      "[144]\tvalid_0's multi_error: 0.5\n",
      "[145]\tvalid_0's multi_error: 0.5\n",
      "[146]\tvalid_0's multi_error: 0.5\n",
      "[147]\tvalid_0's multi_error: 0.5\n",
      "[148]\tvalid_0's multi_error: 0.5\n",
      "[149]\tvalid_0's multi_error: 0.5\n",
      "[150]\tvalid_0's multi_error: 0.5\n",
      "[151]\tvalid_0's multi_error: 0.5\n",
      "[152]\tvalid_0's multi_error: 0.5\n",
      "[153]\tvalid_0's multi_error: 0.5\n",
      "[154]\tvalid_0's multi_error: 0.5\n",
      "[155]\tvalid_0's multi_error: 0.5\n",
      "[156]\tvalid_0's multi_error: 0.5\n",
      "[157]\tvalid_0's multi_error: 0.5\n",
      "[158]\tvalid_0's multi_error: 0.5\n",
      "[159]\tvalid_0's multi_error: 0.5\n",
      "[160]\tvalid_0's multi_error: 0.5\n",
      "[161]\tvalid_0's multi_error: 0.5\n",
      "[162]\tvalid_0's multi_error: 0.5\n",
      "[163]\tvalid_0's multi_error: 0.5\n",
      "[164]\tvalid_0's multi_error: 0.5\n",
      "[165]\tvalid_0's multi_error: 0.5\n",
      "[166]\tvalid_0's multi_error: 0.5\n",
      "[167]\tvalid_0's multi_error: 0.5\n",
      "[168]\tvalid_0's multi_error: 0.5\n",
      "[169]\tvalid_0's multi_error: 0.5\n",
      "[170]\tvalid_0's multi_error: 0.5\n",
      "[171]\tvalid_0's multi_error: 0.5\n",
      "[172]\tvalid_0's multi_error: 0.5\n",
      "[173]\tvalid_0's multi_error: 0.5\n",
      "[174]\tvalid_0's multi_error: 0.5\n",
      "[175]\tvalid_0's multi_error: 0.5\n",
      "[176]\tvalid_0's multi_error: 0.5\n",
      "[177]\tvalid_0's multi_error: 0.5\n",
      "[178]\tvalid_0's multi_error: 0.5\n",
      "[179]\tvalid_0's multi_error: 0.5\n",
      "[180]\tvalid_0's multi_error: 0.5\n",
      "[181]\tvalid_0's multi_error: 0.5\n",
      "[182]\tvalid_0's multi_error: 0.5\n",
      "[183]\tvalid_0's multi_error: 0.5\n",
      "[184]\tvalid_0's multi_error: 0.5\n",
      "[185]\tvalid_0's multi_error: 0.5\n",
      "[186]\tvalid_0's multi_error: 0.5\n",
      "[187]\tvalid_0's multi_error: 0.5\n",
      "[188]\tvalid_0's multi_error: 0.5\n",
      "[189]\tvalid_0's multi_error: 0.5\n",
      "[190]\tvalid_0's multi_error: 0.5\n",
      "[191]\tvalid_0's multi_error: 0.5\n",
      "[192]\tvalid_0's multi_error: 0.5\n",
      "[193]\tvalid_0's multi_error: 0.5\n",
      "[194]\tvalid_0's multi_error: 0.5\n",
      "[195]\tvalid_0's multi_error: 0.5\n",
      "[196]\tvalid_0's multi_error: 0.5\n",
      "[197]\tvalid_0's multi_error: 0.5\n",
      "[198]\tvalid_0's multi_error: 0.5\n",
      "[199]\tvalid_0's multi_error: 0.5\n",
      "[200]\tvalid_0's multi_error: 0.5\n",
      "Did not meet early stopping. Best iteration is:\n",
      "[116]\tvalid_0's multi_error: 0.5\n"
     ]
    }
   ],
   "source": [
    "gbm = lgb.train(params,\n",
    "                lgb_train,\n",
    "                num_boost_round=300,\n",
    "                valid_sets=lgb_eval,\n",
    "                early_stopping_rounds=100)\n",
    "y_pred = gbm.predict(query_featture_df.values, num_iteration = gbm.best_iteration)\n",
    "y_pred_max = np.argmax(y_pred, axis=1)\n"
   ]
  },
  {
   "cell_type": "code",
   "execution_count": 29,
   "metadata": {
    "scrolled": true
   },
   "outputs": [
    {
     "data": {
      "text/plain": [
       "0.5"
      ]
     },
     "execution_count": 29,
     "metadata": {},
     "output_type": "execute_result"
    }
   ],
   "source": [
    "accuracy_score(query_target_df, y_pred_max)"
   ]
  },
  {
   "cell_type": "code",
   "execution_count": 30,
   "metadata": {
    "scrolled": false
   },
   "outputs": [
    {
     "data": {
      "image/png": "[encoded data removed]",
      "text/plain": [
       "<Figure size 720x432 with 1 Axes>"
      ]
     },
     "metadata": {},
     "output_type": "display_data"
    }
   ],
   "source": [
    "cols_to_fit = db_feature_df.columns.values\n",
    "feature_importance = pd.DataFrame(sorted(\n",
    "    zip(gbm.feature_importance(), cols_to_fit)), columns=['Value', 'Feature'])\n",
    "plt.figure(figsize=(10, 6))\n",
    "sns.barplot(x=\"Value\", y=\"Feature\", data=feature_importance.sort_values(\n",
    "    by=\"Value\", ascending=False).head(10))\n",
    "plt.title('LightGBM Features (avg over folds)')\n",
    "plt.tight_layout()"
   ]
  },
  {
   "cell_type": "markdown",
   "metadata": {},
   "source": [
    "# 画像を直接入れる系\n",
    "こっちのデータは**上のdafatrameと同じ順番**で入ってくると仮定してTargetは同じものを使う  \n",
    "違う順で入れる場合は注意  "
   ]
  },
  {
   "cell_type": "code",
   "execution_count": 92,
   "metadata": {},
   "outputs": [],
   "source": [
    "DB_IMG_PATH = \"../input/Dlib/cutface/histFlattening/DB/jpeg/\"\n",
    "QUERY_IMG_PATH = \"../input/Dlib/cutface/histFlattening/Query/jpeg/\""
   ]
  },
  {
   "cell_type": "code",
   "execution_count": 93,
   "metadata": {},
   "outputs": [
    {
     "name": "stderr",
     "output_type": "stream",
     "text": [
      "100%|███████████████████████████████████████████████████████████████████████████████| 200/200 [00:00<00:00, 332.00it/s]\n"
     ]
    }
   ],
   "source": [
    "# 画像読み込み\n",
    "p = Path(DB_IMG_PATH)\n",
    "p = sorted(p.glob(\"*.jpg\"))\n",
    "\n",
    "dbImages = []\n",
    "dbLabels = np.zeros(len(p), dtype=np.int)\n",
    "\n",
    "for index, filename in enumerate(tqdm(p)):\n",
    "    # 相対パスだと参照できなかったので絶対パスでやる\n",
    "    img = cv2.imread(str(filename.resolve()), 0)\n",
    "    # C, H, Wの形式にする(今回はグレースケールなのでC = 1)\n",
    "    img = img.reshape([1, img.shape[0], img.shape[1]])\n",
    "    dbImages.append((img/225).astype(np.float32))"
   ]
  },
  {
   "cell_type": "code",
   "execution_count": 94,
   "metadata": {
    "scrolled": true
   },
   "outputs": [
    {
     "name": "stderr",
     "output_type": "stream",
     "text": [
      "100%|█████████████████████████████████████████████████████████████████████████████████| 58/58 [00:00<00:00, 329.44it/s]\n"
     ]
    }
   ],
   "source": [
    "# 画像読み込み\n",
    "p = Path(QUERY_IMG_PATH)\n",
    "p = sorted(p.glob(\"*.jpg\"))\n",
    "\n",
    "queryImages = []\n",
    "\n",
    "for index, filename in enumerate(tqdm(p)):\n",
    "    # 相対パスだと参照できなかったので絶対パスでやる\n",
    "    img = cv2.imread(str(filename.resolve()), 0)\n",
    "    # C, H, Wの形式にする(今回はグレースケールなのでC = 1)\n",
    "    img = img.reshape([1, img.shape[0], img.shape[1]])\n",
    "    queryImages.append((img/225).astype(np.float32))"
   ]
  },
  {
   "cell_type": "code",
   "execution_count": 95,
   "metadata": {},
   "outputs": [
    {
     "data": {
      "text/plain": [
       "(1, 128, 128)"
      ]
     },
     "execution_count": 95,
     "metadata": {},
     "output_type": "execute_result"
    }
   ],
   "source": [
    "dbImages[0].shape"
   ]
  },
  {
   "cell_type": "markdown",
   "metadata": {},
   "source": [
    "## ピクセルマッチング"
   ]
  },
  {
   "cell_type": "code",
   "execution_count": 96,
   "metadata": {},
   "outputs": [],
   "source": [
    "result = []\n",
    "prediction_df = pd.DataFrame(query_target_df)\n",
    "for queryIndex in range(len(queryImages)):\n",
    "    distances = np.zeros(len(dbImages), dtype=np.float32)\n",
    "    for dbIndex in range(len(dbImages)):\n",
    "        distances[dbIndex] = (np.abs(dbImages[dbIndex] - queryImages[queryIndex])).sum()\n",
    "    minimum_id = np.argmin(distances)\n",
    "    prediction_df.loc[queryIndex, \"predict\"] = db_target_df[minimum_id]"
   ]
  },
  {
   "cell_type": "code",
   "execution_count": 97,
   "metadata": {},
   "outputs": [],
   "source": [
    "correct_num = (prediction_df[\"target\"] == prediction_df[\"predict\"]).sum()\n",
    "accuracy = correct_num / prediction_df.shape[0]"
   ]
  },
  {
   "cell_type": "code",
   "execution_count": 98,
   "metadata": {},
   "outputs": [
    {
     "data": {
      "text/plain": [
       "0.5344827586206896"
      ]
     },
     "execution_count": 98,
     "metadata": {},
     "output_type": "execute_result"
    }
   ],
   "source": [
    "accuracy"
   ]
  },
  {
   "cell_type": "markdown",
   "metadata": {},
   "source": [
    "# CNN"
   ]
  },
  {
   "cell_type": "code",
   "execution_count": 99,
   "metadata": {},
   "outputs": [],
   "source": [
    "X_dbToech = torch.Tensor(dbImages)\n",
    "y_dbTorch = torch.LongTensor(db_target_df)\n",
    "X_queryTorch = torch.Tensor(queryImages)\n",
    "y_queryTorch = torch.LongTensor(query_target_df)\n",
    "\n",
    "dbDataset = TensorDataset(X_dbToech, y_dbTorch)\n",
    "queryDataset = TensorDataset(X_queryTorch, y_queryTorch)\n",
    "\n",
    "batch_size = 8\n",
    "dbLoader = DataLoader(dbDataset, batch_size=batch_size, shuffle=True)\n",
    "queryLoader = DataLoader(queryDataset, batch_size=batch_size, shuffle=False)"
   ]
  },
  {
   "cell_type": "code",
   "execution_count": 100,
   "metadata": {},
   "outputs": [],
   "source": [
    "class FlattenLayer(nn.Module):\n",
    "    def forward(self, x):\n",
    "        sizes = x.size()\n",
    "        return x.view(sizes[0], -1)\n",
    "    \n",
    "conv_net = nn.Sequential(\n",
    "    nn.Conv2d(1, 32, 5),\n",
    "    nn.MaxPool2d(2),\n",
    "    nn.ReLU(),\n",
    "    nn.BatchNorm2d(32),\n",
    "    nn.Dropout2d(0.5),\n",
    "    nn.Conv2d(32, 64, 5),\n",
    "    nn.MaxPool2d(2),\n",
    "    nn.ReLU(),\n",
    "    nn.BatchNorm2d(64),\n",
    "    nn.Dropout2d(0.5),\n",
    "    FlattenLayer()\n",
    ")\n",
    "\n",
    "test_input = torch.ones(1, 1, 128, 128)\n",
    "conv_output_size = conv_net(test_input).size()[-1]\n",
    "\n",
    "mlp = nn.Sequential(\n",
    "    nn.Linear(conv_output_size, 200),\n",
    "    nn.ReLU(),\n",
    "    nn.BatchNorm1d(200),\n",
    "    nn.Dropout(0.25),\n",
    "    nn.Linear(200, 20)\n",
    ")\n",
    "\n",
    "net = nn.Sequential(\n",
    "    conv_net,\n",
    "    mlp\n",
    ")"
   ]
  },
  {
   "cell_type": "code",
   "execution_count": 101,
   "metadata": {},
   "outputs": [],
   "source": [
    "# 評価ヘルパー\n",
    "def eval_net(net, data_loader, device=\"cpu\"):\n",
    "    net.eval()\n",
    "    ys = []\n",
    "    ypreds = []\n",
    "    for x, y in data_loader:\n",
    "        x = x.to(device)\n",
    "        y = y.to(device)\n",
    "        with torch.no_grad():\n",
    "            _, y_pred = net(x).max(1)\n",
    "        ys.append(y)\n",
    "        ypreds.append(y_pred)\n",
    "    # ミニバッチ毎の結果をまとめる\n",
    "    ys = torch.cat(ys)\n",
    "    ypreds = torch.cat(ypreds)\n",
    "    acc = (ys == ypreds).float().sum() / len(ys)\n",
    "    return acc.item()\n",
    "\n",
    "# 訓練ヘルパー    \n",
    "def train_net(net, train_loader, test_loader,\n",
    "              optimizer_cls=optim.Adam, loss_fn=nn.CrossEntropyLoss(),\n",
    "              n_iter=10, device=\"cpu\"):\n",
    "    train_losses = []\n",
    "    train_acc = []\n",
    "    val_acc = []\n",
    "    optimizer = optimizer_cls(net.parameters())\n",
    "    for epoch in range(n_iter):\n",
    "        running_loss = 0.0\n",
    "        net.train()\n",
    "        n = 0\n",
    "        n_acc = 0\n",
    "        for i, (xx, yy) in enumerate(tqdm(train_loader)):\n",
    "            xx = xx.to(device)\n",
    "            yy = yy.to(device)\n",
    "            h = net(xx)\n",
    "            loss = loss_fn(h, yy)\n",
    "            optimizer.zero_grad()\n",
    "            loss.backward()\n",
    "            optimizer.step()\n",
    "            running_loss += loss.item()\n",
    "            n += len(xx)\n",
    "            _, y_pred = h.max(1)\n",
    "            n_acc += (yy == y_pred).float().sum().item()\n",
    "        train_losses.append(running_loss / i)\n",
    "        train_acc.append(n_acc / n)\n",
    "        val_acc.append(eval_net(net, test_loader, device))\n",
    "        print(epoch, train_losses[-1], train_acc[-1], val_acc[-1], flush=True)\n",
    "    print(\"max val acc: {}\".format(max(val_acc)))"
   ]
  },
  {
   "cell_type": "code",
   "execution_count": 102,
   "metadata": {},
   "outputs": [
    {
     "name": "stderr",
     "output_type": "stream",
     "text": [
      "100%|██████████████████████████████████████████████████████████████████████████████████| 25/25 [00:00<00:00, 49.44it/s]\n"
     ]
    },
    {
     "name": "stdout",
     "output_type": "stream",
     "text": [
      "0 2.3939883609612784 0.44 0.24137930572032928\n"
     ]
    },
    {
     "name": "stderr",
     "output_type": "stream",
     "text": [
      "100%|██████████████████████████████████████████████████████████████████████████████████| 25/25 [00:00<00:00, 51.12it/s]\n"
     ]
    },
    {
     "name": "stdout",
     "output_type": "stream",
     "text": [
      "1 1.5765451937913895 0.865 0.5344827771186829\n"
     ]
    },
    {
     "name": "stderr",
     "output_type": "stream",
     "text": [
      "100%|██████████████████████████████████████████████████████████████████████████████████| 25/25 [00:00<00:00, 49.25it/s]\n"
     ]
    },
    {
     "name": "stdout",
     "output_type": "stream",
     "text": [
      "2 1.0559962193171184 0.975 0.6034482717514038\n"
     ]
    },
    {
     "name": "stderr",
     "output_type": "stream",
     "text": [
      "100%|██████████████████████████████████████████████████████████████████████████████████| 25/25 [00:00<00:00, 49.62it/s]\n"
     ]
    },
    {
     "name": "stdout",
     "output_type": "stream",
     "text": [
      "3 0.7002826991180578 0.995 0.5862069129943848\n"
     ]
    },
    {
     "name": "stderr",
     "output_type": "stream",
     "text": [
      "100%|██████████████████████████████████████████████████████████████████████████████████| 25/25 [00:00<00:00, 50.40it/s]\n"
     ]
    },
    {
     "name": "stdout",
     "output_type": "stream",
     "text": [
      "4 0.4428093172609806 1.0 0.6034482717514038\n"
     ]
    },
    {
     "name": "stderr",
     "output_type": "stream",
     "text": [
      "100%|██████████████████████████████████████████████████████████████████████████████████| 25/25 [00:00<00:00, 50.13it/s]\n"
     ]
    },
    {
     "name": "stdout",
     "output_type": "stream",
     "text": [
      "5 0.29433534294366837 1.0 0.6206896305084229\n"
     ]
    },
    {
     "name": "stderr",
     "output_type": "stream",
     "text": [
      "100%|██████████████████████████████████████████████████████████████████████████████████| 25/25 [00:00<00:00, 50.85it/s]\n"
     ]
    },
    {
     "name": "stdout",
     "output_type": "stream",
     "text": [
      "6 0.23280414938926697 0.995 0.6206896305084229\n"
     ]
    },
    {
     "name": "stderr",
     "output_type": "stream",
     "text": [
      "100%|██████████████████████████████████████████████████████████████████████████████████| 25/25 [00:00<00:00, 51.47it/s]\n"
     ]
    },
    {
     "name": "stdout",
     "output_type": "stream",
     "text": [
      "7 0.20531010503570238 1.0 0.6206896305084229\n"
     ]
    },
    {
     "name": "stderr",
     "output_type": "stream",
     "text": [
      "100%|██████████████████████████████████████████████████████████████████████████████████| 25/25 [00:00<00:00, 51.28it/s]\n"
     ]
    },
    {
     "name": "stdout",
     "output_type": "stream",
     "text": [
      "8 0.14727538699905077 1.0 0.6206896305084229\n"
     ]
    },
    {
     "name": "stderr",
     "output_type": "stream",
     "text": [
      "100%|██████████████████████████████████████████████████████████████████████████████████| 25/25 [00:00<00:00, 51.32it/s]\n"
     ]
    },
    {
     "name": "stdout",
     "output_type": "stream",
     "text": [
      "9 0.11365972086787224 0.995 0.6034482717514038\n"
     ]
    },
    {
     "name": "stderr",
     "output_type": "stream",
     "text": [
      "100%|██████████████████████████████████████████████████████████████████████████████████| 25/25 [00:00<00:00, 51.05it/s]\n"
     ]
    },
    {
     "name": "stdout",
     "output_type": "stream",
     "text": [
      "10 0.10678715383013089 1.0 0.6551724076271057\n"
     ]
    },
    {
     "name": "stderr",
     "output_type": "stream",
     "text": [
      "100%|██████████████████████████████████████████████████████████████████████████████████| 25/25 [00:00<00:00, 51.68it/s]\n"
     ]
    },
    {
     "name": "stdout",
     "output_type": "stream",
     "text": [
      "11 0.08248190581798553 1.0 0.5862069129943848\n"
     ]
    },
    {
     "name": "stderr",
     "output_type": "stream",
     "text": [
      "100%|██████████████████████████████████████████████████████████████████████████████████| 25/25 [00:00<00:00, 51.20it/s]\n"
     ]
    },
    {
     "name": "stdout",
     "output_type": "stream",
     "text": [
      "12 0.06980381533503532 1.0 0.6206896305084229\n"
     ]
    },
    {
     "name": "stderr",
     "output_type": "stream",
     "text": [
      "100%|██████████████████████████████████████████████████████████████████████████████████| 25/25 [00:00<00:00, 50.34it/s]\n"
     ]
    },
    {
     "name": "stdout",
     "output_type": "stream",
     "text": [
      "13 0.06947469090421994 1.0 0.6206896305084229\n"
     ]
    },
    {
     "name": "stderr",
     "output_type": "stream",
     "text": [
      "100%|██████████████████████████████████████████████████████████████████████████████████| 25/25 [00:00<00:00, 50.10it/s]\n"
     ]
    },
    {
     "name": "stdout",
     "output_type": "stream",
     "text": [
      "14 0.06280869866410892 1.0 0.6206896305084229\n"
     ]
    },
    {
     "name": "stderr",
     "output_type": "stream",
     "text": [
      "100%|██████████████████████████████████████████████████████████████████████████████████| 25/25 [00:00<00:00, 50.34it/s]\n"
     ]
    },
    {
     "name": "stdout",
     "output_type": "stream",
     "text": [
      "15 0.0477218267818292 1.0 0.6206896305084229\n"
     ]
    },
    {
     "name": "stderr",
     "output_type": "stream",
     "text": [
      "100%|██████████████████████████████████████████████████████████████████████████████████| 25/25 [00:00<00:00, 50.44it/s]\n"
     ]
    },
    {
     "name": "stdout",
     "output_type": "stream",
     "text": [
      "16 0.03993764892220497 1.0 0.5862069129943848\n"
     ]
    },
    {
     "name": "stderr",
     "output_type": "stream",
     "text": [
      "100%|██████████████████████████████████████████████████████████████████████████████████| 25/25 [00:00<00:00, 49.87it/s]\n"
     ]
    },
    {
     "name": "stdout",
     "output_type": "stream",
     "text": [
      "17 0.03260204320152601 1.0 0.6206896305084229\n"
     ]
    },
    {
     "name": "stderr",
     "output_type": "stream",
     "text": [
      "100%|██████████████████████████████████████████████████████████████████████████████████| 25/25 [00:00<00:00, 51.37it/s]\n"
     ]
    },
    {
     "name": "stdout",
     "output_type": "stream",
     "text": [
      "18 0.03552483022212982 1.0 0.6206896305084229\n"
     ]
    },
    {
     "name": "stderr",
     "output_type": "stream",
     "text": [
      "100%|██████████████████████████████████████████████████████████████████████████████████| 25/25 [00:00<00:00, 51.44it/s]\n"
     ]
    },
    {
     "name": "stdout",
     "output_type": "stream",
     "text": [
      "19 0.028965873022874195 1.0 0.6206896305084229\n",
      "max val acc: 0.6551724076271057\n"
     ]
    }
   ],
   "source": [
    "device_name = \"cuda:0\"\n",
    "\n",
    "net.to(device_name)\n",
    "train_net(net, dbLoader, queryLoader, n_iter=20, device=device_name)"
   ]
  },
  {
   "cell_type": "markdown",
   "metadata": {},
   "source": [
    "# 転移学習\n",
    "resnet18は入力が224\\*224なのでresizeしてデータセットを作る"
   ]
  },
  {
   "cell_type": "code",
   "execution_count": 103,
   "metadata": {},
   "outputs": [
    {
     "name": "stderr",
     "output_type": "stream",
     "text": [
      "100%|███████████████████████████████████████████████████████████████████████████████| 200/200 [00:00<00:00, 232.74it/s]\n"
     ]
    }
   ],
   "source": [
    "# 画像読み込み\n",
    "p = Path(DB_IMG_PATH)\n",
    "p = sorted(p.glob(\"*.jpg\"))\n",
    "\n",
    "dbImages_res = []\n",
    "\n",
    "for index, filename in enumerate(tqdm(p)):\n",
    "    # 相対パスだと参照できなかったので絶対パスでやる\n",
    "    img = cv2.imread(str(filename.resolve()), 0)\n",
    "    img = cv2.resize(img, (224, 224))\n",
    "    # C, H, Wの形式にする(今回はグレースケールなのでC = 1)\n",
    "    # img = img.reshape([1, img.shape[0], img.shape[1]])\n",
    "    # C=1 なんだけど、resnet18 が3chで作ってあるので、全チャンネル一緒にしてやってみる\n",
    "    img = np.array([img, img, img])\n",
    "    \n",
    "    dbImages_res.append((img/225).astype(np.float32))"
   ]
  },
  {
   "cell_type": "code",
   "execution_count": 104,
   "metadata": {},
   "outputs": [
    {
     "name": "stderr",
     "output_type": "stream",
     "text": [
      "100%|█████████████████████████████████████████████████████████████████████████████████| 58/58 [00:00<00:00, 217.80it/s]\n"
     ]
    }
   ],
   "source": [
    "# 画像読み込み\n",
    "p = Path(QUERY_IMG_PATH)\n",
    "p = sorted(p.glob(\"*.jpg\"))\n",
    "\n",
    "queryImages_res = []\n",
    "\n",
    "for index, filename in enumerate(tqdm(p)):\n",
    "    # 相対パスだと参照できなかったので絶対パスでやる\n",
    "    img = cv2.imread(str(filename.resolve()), 0)\n",
    "    img = cv2.resize(img, (224, 224))\n",
    "    # C, H, Wの形式にする(今回はグレースケールなのでC = 1)\n",
    "    # img = img.reshape([1, img.shape[0], img.shape[1]])\n",
    "    # C=1 なんだけど、resnet18 が3chで作ってあるので、全チャンネル一緒にしてやってみる\n",
    "    img = np.array([img, img, img])\n",
    "    \n",
    "    queryImages_res.append((img/225).astype(np.float32))"
   ]
  },
  {
   "cell_type": "code",
   "execution_count": 105,
   "metadata": {},
   "outputs": [],
   "source": [
    "X_dbToech = torch.Tensor(dbImages_res)\n",
    "y_dbTorch = torch.LongTensor(db_target_df)\n",
    "X_queryTorch = torch.Tensor(queryImages_res)\n",
    "y_queryTorch = torch.LongTensor(query_target_df)\n",
    "\n",
    "dbDataset = TensorDataset(X_dbToech, y_dbTorch)\n",
    "queryDataset = TensorDataset(X_queryTorch, y_queryTorch)\n",
    "\n",
    "batch_size = 8\n",
    "dbLoader = DataLoader(dbDataset, batch_size=batch_size, shuffle=True)\n",
    "queryLoader = DataLoader(queryDataset, batch_size=batch_size, shuffle=False)"
   ]
  },
  {
   "cell_type": "code",
   "execution_count": 106,
   "metadata": {},
   "outputs": [],
   "source": [
    "net = models.resnet18(pretrained=True)\n",
    "\n",
    "for p in net.parameters():\n",
    "    p.requires_grad = False\n",
    "    \n",
    "fc_input_dim = net.fc.in_features\n",
    "net.fc = nn.Linear(fc_input_dim, 2)"
   ]
  },
  {
   "cell_type": "code",
   "execution_count": 107,
   "metadata": {},
   "outputs": [],
   "source": [
    "# 評価ヘルパー\n",
    "def eval_net(net, data_loader, device=\"cpu\"):\n",
    "    net.eval()\n",
    "    ys = []\n",
    "    ypreds = []\n",
    "    for x, y in data_loader:\n",
    "        x = x.to(device)\n",
    "        y = y.to(device)\n",
    "        with torch.no_grad():\n",
    "            _, y_pred = net(x).max(1)\n",
    "        ys.append(y)\n",
    "        ypreds.append(y_pred)\n",
    "    # ミニバッチ毎の結果をまとめる\n",
    "    ys = torch.cat(ys)\n",
    "    ypreds = torch.cat(ypreds)\n",
    "    acc = (ys == ypreds).float().sum() / len(ys)\n",
    "    return acc.item()\n",
    "\n",
    "# 訓練ヘルパー    \n",
    "def train_net(net, train_loader, test_loader, only_fc=True,\n",
    "              optimizer_cls=optim.Adam, loss_fn=nn.CrossEntropyLoss(),\n",
    "              n_iter=10, device=\"cpu\"):\n",
    "    train_losses = []\n",
    "    train_acc = []\n",
    "    val_acc = []\n",
    "    # 最後の層のみoptimizerに渡す\n",
    "    if only_fc:\n",
    "        optimizer = optimizer_cls(net.fc.parameters())\n",
    "    else:\n",
    "        optimizer = optimizer_cls(net.parameters())\n",
    "        \n",
    "    for epoch in range(n_iter):\n",
    "        running_loss = 0.0\n",
    "        net.train()\n",
    "        n = 0\n",
    "        n_acc = 0\n",
    "        for i, (xx, yy) in enumerate(tqdm(train_loader)):\n",
    "            xx = xx.to(device)\n",
    "            yy = yy.to(device)\n",
    "            h = net(xx)\n",
    "            loss = loss_fn(h, yy)\n",
    "            optimizer.zero_grad()\n",
    "            loss.backward()\n",
    "            optimizer.step()\n",
    "            running_loss += loss.item()\n",
    "            n += len(xx)\n",
    "            _, y_pred = h.max(1)\n",
    "            n_acc += (yy == y_pred).float().sum().item()\n",
    "        train_losses.append(running_loss / i)\n",
    "        train_acc.append(n_acc / n)\n",
    "        val_acc.append(eval_net(net, test_loader, device))\n",
    "        print(epoch, train_losses[-1], train_acc[-1], val_acc[-1], flush=True)"
   ]
  },
  {
   "cell_type": "code",
   "execution_count": 108,
   "metadata": {},
   "outputs": [
    {
     "name": "stderr",
     "output_type": "stream",
     "text": [
      "100%|██████████████████████████████████████████████████████████████████████████████████| 25/25 [00:00<00:00, 45.69it/s]\n"
     ]
    },
    {
     "name": "stdout",
     "output_type": "stream",
     "text": [
      "0 0.18611034471541643 0.065 0.051724135875701904\n"
     ]
    },
    {
     "name": "stderr",
     "output_type": "stream",
     "text": [
      "100%|██████████████████████████████████████████████████████████████████████████████████| 25/25 [00:00<00:00, 49.34it/s]\n"
     ]
    },
    {
     "name": "stdout",
     "output_type": "stream",
     "text": [
      "1 0.15883710437143841 0.09 0.051724135875701904\n"
     ]
    },
    {
     "name": "stderr",
     "output_type": "stream",
     "text": [
      "100%|██████████████████████████████████████████████████████████████████████████████████| 25/25 [00:00<00:00, 47.91it/s]\n"
     ]
    },
    {
     "name": "stdout",
     "output_type": "stream",
     "text": [
      "2 0.22254245184982815 0.075 0.08620689809322357\n"
     ]
    },
    {
     "name": "stderr",
     "output_type": "stream",
     "text": [
      "100%|██████████████████████████████████████████████████████████████████████████████████| 25/25 [00:00<00:00, 48.27it/s]\n"
     ]
    },
    {
     "name": "stdout",
     "output_type": "stream",
     "text": [
      "3 0.20777650705228248 0.1 0.17241379618644714\n"
     ]
    },
    {
     "name": "stderr",
     "output_type": "stream",
     "text": [
      "100%|██████████████████████████████████████████████████████████████████████████████████| 25/25 [00:00<00:00, 47.74it/s]\n"
     ]
    },
    {
     "name": "stdout",
     "output_type": "stream",
     "text": [
      "4 0.16052036064987382 0.1 0.12068965286016464\n"
     ]
    },
    {
     "name": "stderr",
     "output_type": "stream",
     "text": [
      "100%|██████████████████████████████████████████████████████████████████████████████████| 25/25 [00:00<00:00, 46.45it/s]\n"
     ]
    },
    {
     "name": "stdout",
     "output_type": "stream",
     "text": [
      "5 0.15865001998220882 0.1 0.20689654350280762\n"
     ]
    },
    {
     "name": "stderr",
     "output_type": "stream",
     "text": [
      "100%|██████████████████████████████████████████████████████████████████████████████████| 25/25 [00:00<00:00, 49.34it/s]\n"
     ]
    },
    {
     "name": "stdout",
     "output_type": "stream",
     "text": [
      "6 0.14530442608520389 0.09 0.051724135875701904\n"
     ]
    },
    {
     "name": "stderr",
     "output_type": "stream",
     "text": [
      "100%|██████████████████████████████████████████████████████████████████████████████████| 25/25 [00:00<00:00, 48.84it/s]\n"
     ]
    },
    {
     "name": "stdout",
     "output_type": "stream",
     "text": [
      "7 0.16149976834033927 0.095 0.20689654350280762\n"
     ]
    },
    {
     "name": "stderr",
     "output_type": "stream",
     "text": [
      "100%|██████████████████████████████████████████████████████████████████████████████████| 25/25 [00:00<00:00, 49.44it/s]\n"
     ]
    },
    {
     "name": "stdout",
     "output_type": "stream",
     "text": [
      "8 0.14439855484912792 0.1 0.20689654350280762\n"
     ]
    },
    {
     "name": "stderr",
     "output_type": "stream",
     "text": [
      "100%|██████████████████████████████████████████████████████████████████████████████████| 25/25 [00:00<00:00, 48.82it/s]\n"
     ]
    },
    {
     "name": "stdout",
     "output_type": "stream",
     "text": [
      "9 0.21620059261719385 0.095 0.18965516984462738\n"
     ]
    },
    {
     "name": "stderr",
     "output_type": "stream",
     "text": [
      "100%|██████████████████████████████████████████████████████████████████████████████████| 25/25 [00:00<00:00, 49.68it/s]\n"
     ]
    },
    {
     "name": "stdout",
     "output_type": "stream",
     "text": [
      "10 0.1523320347381135 0.095 0.18965516984462738\n"
     ]
    },
    {
     "name": "stderr",
     "output_type": "stream",
     "text": [
      "100%|██████████████████████████████████████████████████████████████████████████████████| 25/25 [00:00<00:00, 48.77it/s]\n"
     ]
    },
    {
     "name": "stdout",
     "output_type": "stream",
     "text": [
      "11 0.19638939326008162 0.1 0.20689654350280762\n"
     ]
    },
    {
     "name": "stderr",
     "output_type": "stream",
     "text": [
      "100%|██████████████████████████████████████████████████████████████████████████████████| 25/25 [00:00<00:00, 48.44it/s]\n"
     ]
    },
    {
     "name": "stdout",
     "output_type": "stream",
     "text": [
      "12 0.17136679077520967 0.1 0.12068965286016464\n"
     ]
    },
    {
     "name": "stderr",
     "output_type": "stream",
     "text": [
      "100%|██████████████████████████████████████████████████████████████████████████████████| 25/25 [00:00<00:00, 50.13it/s]\n"
     ]
    },
    {
     "name": "stdout",
     "output_type": "stream",
     "text": [
      "13 0.15686650729427734 0.095 0.08620689809322357\n"
     ]
    },
    {
     "name": "stderr",
     "output_type": "stream",
     "text": [
      "100%|██████████████████████████████████████████████████████████████████████████████████| 25/25 [00:00<00:00, 49.53it/s]\n"
     ]
    },
    {
     "name": "stdout",
     "output_type": "stream",
     "text": [
      "14 0.1404130943119526 0.1 0.13793103396892548\n"
     ]
    },
    {
     "name": "stderr",
     "output_type": "stream",
     "text": [
      "100%|██████████████████████████████████████████████████████████████████████████████████| 25/25 [00:00<00:00, 48.49it/s]\n"
     ]
    },
    {
     "name": "stdout",
     "output_type": "stream",
     "text": [
      "15 0.19844484267135462 0.1 0.18965516984462738\n"
     ]
    },
    {
     "name": "stderr",
     "output_type": "stream",
     "text": [
      "100%|██████████████████████████████████████████████████████████████████████████████████| 25/25 [00:00<00:00, 48.16it/s]\n"
     ]
    },
    {
     "name": "stdout",
     "output_type": "stream",
     "text": [
      "16 0.2020626204709212 0.1 0.1551724076271057\n"
     ]
    },
    {
     "name": "stderr",
     "output_type": "stream",
     "text": [
      "100%|██████████████████████████████████████████████████████████████████████████████████| 25/25 [00:00<00:00, 49.10it/s]\n"
     ]
    },
    {
     "name": "stdout",
     "output_type": "stream",
     "text": [
      "17 0.1866901934457322 0.1 0.08620689809322357\n"
     ]
    },
    {
     "name": "stderr",
     "output_type": "stream",
     "text": [
      "100%|██████████████████████████████████████████████████████████████████████████████████| 25/25 [00:00<00:00, 49.44it/s]\n"
     ]
    },
    {
     "name": "stdout",
     "output_type": "stream",
     "text": [
      "18 0.14273303110773364 0.1 0.1551724076271057\n"
     ]
    },
    {
     "name": "stderr",
     "output_type": "stream",
     "text": [
      "100%|██████████████████████████████████████████████████████████████████████████████████| 25/25 [00:00<00:00, 49.78it/s]\n"
     ]
    },
    {
     "name": "stdout",
     "output_type": "stream",
     "text": [
      "19 0.1665033766378959 0.1 0.13793103396892548\n"
     ]
    }
   ],
   "source": [
    "device_name = \"cuda:0\"\n",
    "\n",
    "net.to(device_name)\n",
    "train_net(net, dbLoader, queryLoader, n_iter=20, device=device_name)"
   ]
  },
  {
   "cell_type": "code",
   "execution_count": null,
   "metadata": {},
   "outputs": [],
   "source": []
  },
  {
   "cell_type": "code",
   "execution_count": null,
   "metadata": {},
   "outputs": [],
   "source": []
  },
  {
   "cell_type": "code",
   "execution_count": null,
   "metadata": {},
   "outputs": [],
   "source": []
  }
 ],
 "metadata": {
  "anaconda-cloud": {},
  "kernelspec": {
   "display_name": "Python 3",
   "language": "python",
   "name": "python3"
  },
  "language_info": {
   "codemirror_mode": {
    "name": "ipython",
    "version": 3
   },
   "file_extension": ".py",
   "mimetype": "text/x-python",
   "name": "python",
   "nbconvert_exporter": "python",
   "pygments_lexer": "ipython3",
   "version": "3.6.4"
  }
 },
 "nbformat": 4,
 "nbformat_minor": 1
}
