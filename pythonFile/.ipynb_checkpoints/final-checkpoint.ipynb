{
 "cells": [
  {
   "cell_type": "markdown",
   "metadata": {},
   "source": [
    "# 最終的なモデル詰め合わせ"
   ]
  },
  {
   "cell_type": "code",
   "execution_count": 1,
   "metadata": {},
   "outputs": [],
   "source": [
    "import numpy as np\n",
    "import pandas as pd\n",
    "from tqdm import tqdm\n",
    "import matplotlib.pyplot as plt\n",
    "%matplotlib inline\n",
    "import seaborn as sns\n",
    "sns.set()\n",
    "\n",
    "# kNN\n",
    "from sklearn.neighbors import KNeighborsClassifier\n",
    "\n",
    "# NeuralNet, CNN\n",
    "from torchvision import transforms\n",
    "import torch\n",
    "from torch import nn, optim\n",
    "from torch.utils.data import TensorDataset, DataLoader\n",
    "torch.manual_seed(0)\n",
    "\n",
    "# LightGBM\n",
    "import lightgbm as lgb\n",
    "from sklearn.metrics import accuracy_score\n",
    "\n",
    "# 画像読み込み\n",
    "from pathlib import Path\n",
    "import cv2\n",
    "\n",
    "# 転移学習\n",
    "from torchvision import models"
   ]
  },
  {
   "cell_type": "code",
   "execution_count": 2,
   "metadata": {},
   "outputs": [],
   "source": [
    "# Path\n",
    "dbPath = \"../input/MATLABcsv/DCT15_NoCanny_DB.csv\"\n",
    "queryPath = \"../input/MATLABcsv/DCT15_NoCanny_Query.csv\""
   ]
  },
  {
   "cell_type": "code",
   "execution_count": 3,
   "metadata": {},
   "outputs": [],
   "source": [
    "# read data\n",
    "db_df = pd.read_csv(dbPath)\n",
    "query_df = pd.read_csv(queryPath)"
   ]
  },
  {
   "cell_type": "code",
   "execution_count": 4,
   "metadata": {},
   "outputs": [
    {
     "data": {
      "text/html": [
       "<div>\n",
       "<style scoped>\n",
       "    .dataframe tbody tr th:only-of-type {\n",
       "        vertical-align: middle;\n",
       "    }\n",
       "\n",
       "    .dataframe tbody tr th {\n",
       "        vertical-align: top;\n",
       "    }\n",
       "\n",
       "    .dataframe thead th {\n",
       "        text-align: right;\n",
       "    }\n",
       "</style>\n",
       "<table border=\"1\" class=\"dataframe\">\n",
       "  <thead>\n",
       "    <tr style=\"text-align: right;\">\n",
       "      <th></th>\n",
       "      <th>target</th>\n",
       "      <th>Unnamed: 1</th>\n",
       "      <th>Unnamed: 2</th>\n",
       "      <th>Unnamed: 3</th>\n",
       "      <th>Unnamed: 4</th>\n",
       "      <th>Unnamed: 5</th>\n",
       "      <th>Unnamed: 6</th>\n",
       "      <th>Unnamed: 7</th>\n",
       "      <th>Unnamed: 8</th>\n",
       "      <th>Unnamed: 9</th>\n",
       "      <th>...</th>\n",
       "      <th>Unnamed: 216</th>\n",
       "      <th>Unnamed: 217</th>\n",
       "      <th>Unnamed: 218</th>\n",
       "      <th>Unnamed: 219</th>\n",
       "      <th>Unnamed: 220</th>\n",
       "      <th>Unnamed: 221</th>\n",
       "      <th>Unnamed: 222</th>\n",
       "      <th>Unnamed: 223</th>\n",
       "      <th>Unnamed: 224</th>\n",
       "      <th>Unnamed: 225</th>\n",
       "    </tr>\n",
       "  </thead>\n",
       "  <tbody>\n",
       "    <tr>\n",
       "      <th>0</th>\n",
       "      <td>0</td>\n",
       "      <td>34237</td>\n",
       "      <td>2338.40</td>\n",
       "      <td>-2317.5</td>\n",
       "      <td>2399.2</td>\n",
       "      <td>672.120</td>\n",
       "      <td>-2021.00</td>\n",
       "      <td>-1246.60</td>\n",
       "      <td>-258.76</td>\n",
       "      <td>-221.120</td>\n",
       "      <td>...</td>\n",
       "      <td>202.44</td>\n",
       "      <td>-87.692</td>\n",
       "      <td>-188.46</td>\n",
       "      <td>-99.2230</td>\n",
       "      <td>72.304</td>\n",
       "      <td>-163.73</td>\n",
       "      <td>-16.076</td>\n",
       "      <td>65.983</td>\n",
       "      <td>-120.15</td>\n",
       "      <td>24.480</td>\n",
       "    </tr>\n",
       "    <tr>\n",
       "      <th>1</th>\n",
       "      <td>0</td>\n",
       "      <td>32604</td>\n",
       "      <td>1789.70</td>\n",
       "      <td>-2787.5</td>\n",
       "      <td>2564.3</td>\n",
       "      <td>474.050</td>\n",
       "      <td>-2557.60</td>\n",
       "      <td>-1059.40</td>\n",
       "      <td>-569.12</td>\n",
       "      <td>415.290</td>\n",
       "      <td>...</td>\n",
       "      <td>465.00</td>\n",
       "      <td>-110.290</td>\n",
       "      <td>-345.07</td>\n",
       "      <td>285.3400</td>\n",
       "      <td>-39.142</td>\n",
       "      <td>-158.30</td>\n",
       "      <td>90.198</td>\n",
       "      <td>-203.750</td>\n",
       "      <td>140.79</td>\n",
       "      <td>163.130</td>\n",
       "    </tr>\n",
       "    <tr>\n",
       "      <th>2</th>\n",
       "      <td>0</td>\n",
       "      <td>31548</td>\n",
       "      <td>-156.56</td>\n",
       "      <td>-3176.3</td>\n",
       "      <td>2628.3</td>\n",
       "      <td>-1169.900</td>\n",
       "      <td>-757.01</td>\n",
       "      <td>-826.06</td>\n",
       "      <td>-447.02</td>\n",
       "      <td>-450.540</td>\n",
       "      <td>...</td>\n",
       "      <td>323.55</td>\n",
       "      <td>220.410</td>\n",
       "      <td>283.35</td>\n",
       "      <td>4.0929</td>\n",
       "      <td>251.730</td>\n",
       "      <td>164.34</td>\n",
       "      <td>-174.380</td>\n",
       "      <td>37.233</td>\n",
       "      <td>-198.69</td>\n",
       "      <td>56.497</td>\n",
       "    </tr>\n",
       "    <tr>\n",
       "      <th>3</th>\n",
       "      <td>0</td>\n",
       "      <td>31641</td>\n",
       "      <td>1153.20</td>\n",
       "      <td>-3600.6</td>\n",
       "      <td>2560.9</td>\n",
       "      <td>-54.044</td>\n",
       "      <td>-1905.20</td>\n",
       "      <td>-605.09</td>\n",
       "      <td>-640.01</td>\n",
       "      <td>-361.980</td>\n",
       "      <td>...</td>\n",
       "      <td>698.24</td>\n",
       "      <td>149.770</td>\n",
       "      <td>-104.95</td>\n",
       "      <td>289.3700</td>\n",
       "      <td>13.461</td>\n",
       "      <td>172.84</td>\n",
       "      <td>90.500</td>\n",
       "      <td>-33.987</td>\n",
       "      <td>357.63</td>\n",
       "      <td>-108.630</td>\n",
       "    </tr>\n",
       "    <tr>\n",
       "      <th>4</th>\n",
       "      <td>0</td>\n",
       "      <td>39298</td>\n",
       "      <td>1499.90</td>\n",
       "      <td>-3133.1</td>\n",
       "      <td>3121.6</td>\n",
       "      <td>362.540</td>\n",
       "      <td>-2273.40</td>\n",
       "      <td>-735.98</td>\n",
       "      <td>-812.61</td>\n",
       "      <td>75.572</td>\n",
       "      <td>...</td>\n",
       "      <td>609.96</td>\n",
       "      <td>-432.450</td>\n",
       "      <td>-266.94</td>\n",
       "      <td>187.1800</td>\n",
       "      <td>-177.390</td>\n",
       "      <td>178.23</td>\n",
       "      <td>-120.470</td>\n",
       "      <td>-207.350</td>\n",
       "      <td>374.11</td>\n",
       "      <td>-208.330</td>\n",
       "    </tr>\n",
       "  </tbody>\n",
       "</table>\n",
       "<p>5 rows × 226 columns</p>\n",
       "</div>"
      ],
      "text/plain": [
       "   target  Unnamed: 1  Unnamed: 2  Unnamed: 3  Unnamed: 4  Unnamed: 5  \\\n",
       "0       0       34237     2338.40     -2317.5      2399.2     672.120   \n",
       "1       0       32604     1789.70     -2787.5      2564.3     474.050   \n",
       "2       0       31548     -156.56     -3176.3      2628.3   -1169.900   \n",
       "3       0       31641     1153.20     -3600.6      2560.9     -54.044   \n",
       "4       0       39298     1499.90     -3133.1      3121.6     362.540   \n",
       "\n",
       "   Unnamed: 6  Unnamed: 7  Unnamed: 8  Unnamed: 9      ...       Unnamed: 216  \\\n",
       "0    -2021.00    -1246.60     -258.76    -221.120      ...             202.44   \n",
       "1    -2557.60    -1059.40     -569.12     415.290      ...             465.00   \n",
       "2     -757.01     -826.06     -447.02    -450.540      ...             323.55   \n",
       "3    -1905.20     -605.09     -640.01    -361.980      ...             698.24   \n",
       "4    -2273.40     -735.98     -812.61      75.572      ...             609.96   \n",
       "\n",
       "   Unnamed: 217  Unnamed: 218  Unnamed: 219  Unnamed: 220  Unnamed: 221  \\\n",
       "0       -87.692       -188.46      -99.2230        72.304       -163.73   \n",
       "1      -110.290       -345.07      285.3400       -39.142       -158.30   \n",
       "2       220.410        283.35        4.0929       251.730        164.34   \n",
       "3       149.770       -104.95      289.3700        13.461        172.84   \n",
       "4      -432.450       -266.94      187.1800      -177.390        178.23   \n",
       "\n",
       "   Unnamed: 222  Unnamed: 223  Unnamed: 224  Unnamed: 225  \n",
       "0       -16.076        65.983       -120.15        24.480  \n",
       "1        90.198      -203.750        140.79       163.130  \n",
       "2      -174.380        37.233       -198.69        56.497  \n",
       "3        90.500       -33.987        357.63      -108.630  \n",
       "4      -120.470      -207.350        374.11      -208.330  \n",
       "\n",
       "[5 rows x 226 columns]"
      ]
     },
     "execution_count": 4,
     "metadata": {},
     "output_type": "execute_result"
    }
   ],
   "source": [
    "db_df.head()"
   ]
  },
  {
   "cell_type": "code",
   "execution_count": 5,
   "metadata": {},
   "outputs": [
    {
     "data": {
      "text/html": [
       "<div>\n",
       "<style scoped>\n",
       "    .dataframe tbody tr th:only-of-type {\n",
       "        vertical-align: middle;\n",
       "    }\n",
       "\n",
       "    .dataframe tbody tr th {\n",
       "        vertical-align: top;\n",
       "    }\n",
       "\n",
       "    .dataframe thead th {\n",
       "        text-align: right;\n",
       "    }\n",
       "</style>\n",
       "<table border=\"1\" class=\"dataframe\">\n",
       "  <thead>\n",
       "    <tr style=\"text-align: right;\">\n",
       "      <th></th>\n",
       "      <th>target</th>\n",
       "      <th>Unnamed: 1</th>\n",
       "      <th>Unnamed: 2</th>\n",
       "      <th>Unnamed: 3</th>\n",
       "      <th>Unnamed: 4</th>\n",
       "      <th>Unnamed: 5</th>\n",
       "      <th>Unnamed: 6</th>\n",
       "      <th>Unnamed: 7</th>\n",
       "      <th>Unnamed: 8</th>\n",
       "      <th>Unnamed: 9</th>\n",
       "      <th>...</th>\n",
       "      <th>Unnamed: 216</th>\n",
       "      <th>Unnamed: 217</th>\n",
       "      <th>Unnamed: 218</th>\n",
       "      <th>Unnamed: 219</th>\n",
       "      <th>Unnamed: 220</th>\n",
       "      <th>Unnamed: 221</th>\n",
       "      <th>Unnamed: 222</th>\n",
       "      <th>Unnamed: 223</th>\n",
       "      <th>Unnamed: 224</th>\n",
       "      <th>Unnamed: 225</th>\n",
       "    </tr>\n",
       "  </thead>\n",
       "  <tbody>\n",
       "    <tr>\n",
       "      <th>0</th>\n",
       "      <td>0</td>\n",
       "      <td>38572.0</td>\n",
       "      <td>-45.774</td>\n",
       "      <td>-2402.5</td>\n",
       "      <td>2486.8</td>\n",
       "      <td>-474.02</td>\n",
       "      <td>-1794.40</td>\n",
       "      <td>-1527.8000</td>\n",
       "      <td>-581.42</td>\n",
       "      <td>215.93</td>\n",
       "      <td>...</td>\n",
       "      <td>236.40</td>\n",
       "      <td>-202.47</td>\n",
       "      <td>-8.2586</td>\n",
       "      <td>72.497</td>\n",
       "      <td>177.9200</td>\n",
       "      <td>125.7300</td>\n",
       "      <td>-304.110</td>\n",
       "      <td>138.040</td>\n",
       "      <td>60.371</td>\n",
       "      <td>81.625</td>\n",
       "    </tr>\n",
       "    <tr>\n",
       "      <th>1</th>\n",
       "      <td>0</td>\n",
       "      <td>44169.0</td>\n",
       "      <td>1308.900</td>\n",
       "      <td>-1477.6</td>\n",
       "      <td>2715.1</td>\n",
       "      <td>1067.10</td>\n",
       "      <td>-2875.40</td>\n",
       "      <td>-2424.1000</td>\n",
       "      <td>-284.94</td>\n",
       "      <td>883.63</td>\n",
       "      <td>...</td>\n",
       "      <td>296.25</td>\n",
       "      <td>-302.78</td>\n",
       "      <td>-19.6590</td>\n",
       "      <td>-83.530</td>\n",
       "      <td>-149.4400</td>\n",
       "      <td>1.8622</td>\n",
       "      <td>132.830</td>\n",
       "      <td>-131.010</td>\n",
       "      <td>71.810</td>\n",
       "      <td>90.145</td>\n",
       "    </tr>\n",
       "    <tr>\n",
       "      <th>2</th>\n",
       "      <td>0</td>\n",
       "      <td>37983.0</td>\n",
       "      <td>3945.600</td>\n",
       "      <td>-4759.7</td>\n",
       "      <td>4886.7</td>\n",
       "      <td>799.35</td>\n",
       "      <td>533.45</td>\n",
       "      <td>-8.0552</td>\n",
       "      <td>-1397.90</td>\n",
       "      <td>-287.42</td>\n",
       "      <td>...</td>\n",
       "      <td>301.02</td>\n",
       "      <td>-247.76</td>\n",
       "      <td>-1.0817</td>\n",
       "      <td>-101.850</td>\n",
       "      <td>-5.9485</td>\n",
       "      <td>108.7500</td>\n",
       "      <td>-27.612</td>\n",
       "      <td>-161.330</td>\n",
       "      <td>-86.427</td>\n",
       "      <td>136.540</td>\n",
       "    </tr>\n",
       "    <tr>\n",
       "      <th>3</th>\n",
       "      <td>0</td>\n",
       "      <td>31090.0</td>\n",
       "      <td>2566.800</td>\n",
       "      <td>-2012.5</td>\n",
       "      <td>1603.9</td>\n",
       "      <td>-789.99</td>\n",
       "      <td>-622.81</td>\n",
       "      <td>-724.3800</td>\n",
       "      <td>-343.87</td>\n",
       "      <td>-326.26</td>\n",
       "      <td>...</td>\n",
       "      <td>151.61</td>\n",
       "      <td>-147.95</td>\n",
       "      <td>120.2100</td>\n",
       "      <td>288.030</td>\n",
       "      <td>111.7100</td>\n",
       "      <td>-123.6000</td>\n",
       "      <td>-23.432</td>\n",
       "      <td>-101.310</td>\n",
       "      <td>15.669</td>\n",
       "      <td>334.380</td>\n",
       "    </tr>\n",
       "    <tr>\n",
       "      <th>4</th>\n",
       "      <td>0</td>\n",
       "      <td>27192.0</td>\n",
       "      <td>3690.400</td>\n",
       "      <td>-3895.8</td>\n",
       "      <td>3051.8</td>\n",
       "      <td>-1289.90</td>\n",
       "      <td>-1397.40</td>\n",
       "      <td>-563.2800</td>\n",
       "      <td>-1106.90</td>\n",
       "      <td>481.08</td>\n",
       "      <td>...</td>\n",
       "      <td>-110.58</td>\n",
       "      <td>-161.42</td>\n",
       "      <td>-144.4300</td>\n",
       "      <td>380.620</td>\n",
       "      <td>-171.9300</td>\n",
       "      <td>-152.0500</td>\n",
       "      <td>-105.140</td>\n",
       "      <td>-51.232</td>\n",
       "      <td>119.030</td>\n",
       "      <td>10.244</td>\n",
       "    </tr>\n",
       "  </tbody>\n",
       "</table>\n",
       "<p>5 rows × 226 columns</p>\n",
       "</div>"
      ],
      "text/plain": [
       "   target  Unnamed: 1  Unnamed: 2  Unnamed: 3  Unnamed: 4  Unnamed: 5  \\\n",
       "0       0     38572.0     -45.774     -2402.5      2486.8     -474.02   \n",
       "1       0     44169.0    1308.900     -1477.6      2715.1     1067.10   \n",
       "2       0     37983.0    3945.600     -4759.7      4886.7      799.35   \n",
       "3       0     31090.0    2566.800     -2012.5      1603.9     -789.99   \n",
       "4       0     27192.0    3690.400     -3895.8      3051.8    -1289.90   \n",
       "\n",
       "   Unnamed: 6  Unnamed: 7  Unnamed: 8  Unnamed: 9      ...       Unnamed: 216  \\\n",
       "0    -1794.40  -1527.8000     -581.42      215.93      ...             236.40   \n",
       "1    -2875.40  -2424.1000     -284.94      883.63      ...             296.25   \n",
       "2      533.45     -8.0552    -1397.90     -287.42      ...             301.02   \n",
       "3     -622.81   -724.3800     -343.87     -326.26      ...             151.61   \n",
       "4    -1397.40   -563.2800    -1106.90      481.08      ...            -110.58   \n",
       "\n",
       "   Unnamed: 217  Unnamed: 218  Unnamed: 219  Unnamed: 220  Unnamed: 221  \\\n",
       "0       -202.47       -8.2586        72.497      177.9200      125.7300   \n",
       "1       -302.78      -19.6590       -83.530     -149.4400        1.8622   \n",
       "2       -247.76       -1.0817      -101.850       -5.9485      108.7500   \n",
       "3       -147.95      120.2100       288.030      111.7100     -123.6000   \n",
       "4       -161.42     -144.4300       380.620     -171.9300     -152.0500   \n",
       "\n",
       "   Unnamed: 222  Unnamed: 223  Unnamed: 224  Unnamed: 225  \n",
       "0      -304.110       138.040        60.371        81.625  \n",
       "1       132.830      -131.010        71.810        90.145  \n",
       "2       -27.612      -161.330       -86.427       136.540  \n",
       "3       -23.432      -101.310        15.669       334.380  \n",
       "4      -105.140       -51.232       119.030        10.244  \n",
       "\n",
       "[5 rows x 226 columns]"
      ]
     },
     "execution_count": 5,
     "metadata": {},
     "output_type": "execute_result"
    }
   ],
   "source": [
    "query_df.head()"
   ]
  },
  {
   "cell_type": "code",
   "execution_count": 6,
   "metadata": {},
   "outputs": [],
   "source": [
    "db_feature_df = db_df.drop([\"target\"], axis=1).copy()\n",
    "db_target_df = db_df[\"target\"].copy()\n",
    "query_featture_df =query_df.drop([\"target\"], axis=1).copy()\n",
    "query_target_df = query_df[\"target\"].copy()"
   ]
  },
  {
   "cell_type": "code",
   "execution_count": 7,
   "metadata": {},
   "outputs": [],
   "source": [
    "def calc_accu(query_target_df, pred):\n",
    "    correct_num = (prediction_df[\"target\"] == prediction_df[\"predict\"]).sum()\n",
    "    accuracy = correct_num / prediction_df.shape[0]\n",
    "    return correct_num, accuracy"
   ]
  },
  {
   "cell_type": "markdown",
   "metadata": {},
   "source": [
    "# テーブルデータ\n",
    "## 単純マッチング"
   ]
  },
  {
   "cell_type": "code",
   "execution_count": 8,
   "metadata": {},
   "outputs": [
    {
     "data": {
      "text/plain": [
       "'\\nresult = []\\nprediction_df = pd.DataFrame(query_target_df)\\nfor i in range(query_featture_df.shape[0]):\\n    minimum_id = (db_feature_df - query_featture_df.iloc[i]).abs().sum(axis=1).idxmin()\\n    prediction_df.loc[i, \"predict\"] = db_target_df[minimum_id]\\n'"
      ]
     },
     "execution_count": 8,
     "metadata": {},
     "output_type": "execute_result"
    }
   ],
   "source": [
    "\"\"\"\n",
    "result = []\n",
    "prediction_df = pd.DataFrame(query_target_df)\n",
    "for i in range(query_featture_df.shape[0]):\n",
    "    minimum_id = (db_feature_df - query_featture_df.iloc[i]).abs().sum(axis=1).idxmin()\n",
    "    prediction_df.loc[i, \"predict\"] = db_target_df[minimum_id]\n",
    "\"\"\""
   ]
  },
  {
   "cell_type": "code",
   "execution_count": 9,
   "metadata": {},
   "outputs": [],
   "source": [
    "result = []\n",
    "prediction_df = pd.DataFrame(query_target_df)\n",
    "for i in range(query_featture_df.shape[0]):\n",
    "    minimum_id = (((db_feature_df - query_featture_df.iloc[i])**2).sum(axis=1)).idxmin()\n",
    "    prediction_df.loc[i, \"predict\"] = db_target_df[minimum_id]"
   ]
  },
  {
   "cell_type": "code",
   "execution_count": 10,
   "metadata": {},
   "outputs": [
    {
     "data": {
      "text/html": [
       "<div>\n",
       "<style scoped>\n",
       "    .dataframe tbody tr th:only-of-type {\n",
       "        vertical-align: middle;\n",
       "    }\n",
       "\n",
       "    .dataframe tbody tr th {\n",
       "        vertical-align: top;\n",
       "    }\n",
       "\n",
       "    .dataframe thead th {\n",
       "        text-align: right;\n",
       "    }\n",
       "</style>\n",
       "<table border=\"1\" class=\"dataframe\">\n",
       "  <thead>\n",
       "    <tr style=\"text-align: right;\">\n",
       "      <th></th>\n",
       "      <th>target</th>\n",
       "      <th>predict</th>\n",
       "    </tr>\n",
       "  </thead>\n",
       "  <tbody>\n",
       "    <tr>\n",
       "      <th>0</th>\n",
       "      <td>0</td>\n",
       "      <td>0.0</td>\n",
       "    </tr>\n",
       "    <tr>\n",
       "      <th>1</th>\n",
       "      <td>0</td>\n",
       "      <td>1.0</td>\n",
       "    </tr>\n",
       "    <tr>\n",
       "      <th>2</th>\n",
       "      <td>0</td>\n",
       "      <td>18.0</td>\n",
       "    </tr>\n",
       "    <tr>\n",
       "      <th>3</th>\n",
       "      <td>0</td>\n",
       "      <td>17.0</td>\n",
       "    </tr>\n",
       "    <tr>\n",
       "      <th>4</th>\n",
       "      <td>0</td>\n",
       "      <td>7.0</td>\n",
       "    </tr>\n",
       "  </tbody>\n",
       "</table>\n",
       "</div>"
      ],
      "text/plain": [
       "   target  predict\n",
       "0       0      0.0\n",
       "1       0      1.0\n",
       "2       0     18.0\n",
       "3       0     17.0\n",
       "4       0      7.0"
      ]
     },
     "execution_count": 10,
     "metadata": {},
     "output_type": "execute_result"
    }
   ],
   "source": [
    "prediction_df.head()"
   ]
  },
  {
   "cell_type": "code",
   "execution_count": 11,
   "metadata": {},
   "outputs": [],
   "source": [
    "correct_num = (prediction_df[\"target\"] == prediction_df[\"predict\"]).sum()\n",
    "accuracy = correct_num / prediction_df.shape[0]"
   ]
  },
  {
   "cell_type": "code",
   "execution_count": 12,
   "metadata": {},
   "outputs": [
    {
     "data": {
      "text/plain": [
       "0.5172413793103449"
      ]
     },
     "execution_count": 12,
     "metadata": {},
     "output_type": "execute_result"
    }
   ],
   "source": [
    "accuracy"
   ]
  },
  {
   "cell_type": "markdown",
   "metadata": {},
   "source": [
    "## kNN"
   ]
  },
  {
   "cell_type": "code",
   "execution_count": 13,
   "metadata": {},
   "outputs": [],
   "source": [
    "DIV_NUM = 3 # k\n",
    "DIST_SETTING = 2 # ユークリッド=2, マンハッタン=1"
   ]
  },
  {
   "cell_type": "code",
   "execution_count": 14,
   "metadata": {},
   "outputs": [
    {
     "data": {
      "text/plain": [
       "KNeighborsClassifier(algorithm='auto', leaf_size=30, metric='minkowski',\n",
       "           metric_params=None, n_jobs=1, n_neighbors=3, p=2,\n",
       "           weights='uniform')"
      ]
     },
     "execution_count": 14,
     "metadata": {},
     "output_type": "execute_result"
    }
   ],
   "source": [
    "knn = KNeighborsClassifier(n_neighbors=DIV_NUM, p=DIST_SETTING, metric=\"minkowski\")\n",
    "knn.fit(db_feature_df.values, db_target_df.values)"
   ]
  },
  {
   "cell_type": "code",
   "execution_count": 15,
   "metadata": {},
   "outputs": [],
   "source": [
    "prediction = knn.predict(query_featture_df.values)\n",
    "prediction_df = pd.DataFrame(query_target_df)\n",
    "prediction_df[\"predict\"] = prediction"
   ]
  },
  {
   "cell_type": "code",
   "execution_count": 16,
   "metadata": {},
   "outputs": [],
   "source": [
    "correct_num = (prediction_df[\"target\"] == prediction_df[\"predict\"]).sum()\n",
    "accuracy = correct_num / prediction_df.shape[0]"
   ]
  },
  {
   "cell_type": "code",
   "execution_count": 17,
   "metadata": {},
   "outputs": [
    {
     "data": {
      "text/plain": [
       "0.4482758620689655"
      ]
     },
     "execution_count": 17,
     "metadata": {},
     "output_type": "execute_result"
    }
   ],
   "source": [
    "accuracy"
   ]
  },
  {
   "cell_type": "markdown",
   "metadata": {},
   "source": [
    "## NeuralNet"
   ]
  },
  {
   "cell_type": "code",
   "execution_count": 18,
   "metadata": {},
   "outputs": [],
   "source": [
    "input_size = db_feature_df.shape[1]\n",
    "# define network\n",
    "net = nn.Sequential(\n",
    "        nn.Linear(input_size, 1024),\n",
    "        nn.ReLU(),\n",
    "        nn.Linear(1024, 1024),\n",
    "        nn.ReLU(),\n",
    "        nn.Linear(1024, 1024),\n",
    "        nn.ReLU(),\n",
    "        nn.Linear(1024, 1024),\n",
    "        nn.ReLU(),\n",
    "        nn.Linear(1024, 20)\n",
    ")"
   ]
  },
  {
   "cell_type": "code",
   "execution_count": 19,
   "metadata": {},
   "outputs": [],
   "source": [
    "X_train = torch.tensor(db_feature_df.values, dtype=torch.float32)\n",
    "y_train = torch.tensor(db_target_df.values, dtype=torch.int64)\n",
    "\n",
    "X_test = torch.tensor(query_featture_df.values, dtype=torch.float32)\n",
    "y_test = torch.tensor(query_target_df.values, dtype=torch.int64)"
   ]
  },
  {
   "cell_type": "code",
   "execution_count": 20,
   "metadata": {},
   "outputs": [
    {
     "data": {
      "text/plain": [
       "torch.Size([200, 225])"
      ]
     },
     "execution_count": 20,
     "metadata": {},
     "output_type": "execute_result"
    }
   ],
   "source": [
    "X_train.shape"
   ]
  },
  {
   "cell_type": "code",
   "execution_count": 21,
   "metadata": {},
   "outputs": [
    {
     "data": {
      "text/plain": [
       "torch.Size([58, 225])"
      ]
     },
     "execution_count": 21,
     "metadata": {},
     "output_type": "execute_result"
    }
   ],
   "source": [
    "X_test.shape"
   ]
  },
  {
   "cell_type": "code",
   "execution_count": 22,
   "metadata": {},
   "outputs": [],
   "source": [
    "# 損失関数\n",
    "loss_fn = nn.CrossEntropyLoss()\n",
    "# adam\n",
    "optimizer = optim.Adam(net.parameters())\n",
    "# 損失ログ\n",
    "losses_train = []\n",
    "accuracy_test = []\n",
    "accuracy_train = []\n",
    "EPOCH = 600"
   ]
  },
  {
   "cell_type": "code",
   "execution_count": 23,
   "metadata": {
    "scrolled": false
   },
   "outputs": [
    {
     "name": "stdout",
     "output_type": "stream",
     "text": [
      "--------epoch0--------\n",
      "train accuracy:0.04\n",
      "train loss:62.0\n",
      "test accuracy:0.0517\n",
      "--------------------\n",
      "--------epoch50--------\n",
      "train accuracy:1.0\n",
      "train loss:0.000108\n",
      "test accuracy:0.5\n",
      "--------------------\n",
      "--------epoch100--------\n",
      "train accuracy:1.0\n",
      "train loss:4.61e-06\n",
      "test accuracy:0.5\n",
      "--------------------\n",
      "--------epoch150--------\n",
      "train accuracy:1.0\n",
      "train loss:1.59e-06\n",
      "test accuracy:0.5\n",
      "--------------------\n",
      "--------epoch200--------\n",
      "train accuracy:1.0\n",
      "train loss:8.58e-07\n",
      "test accuracy:0.5\n",
      "--------------------\n",
      "--------epoch250--------\n",
      "train accuracy:1.0\n",
      "train loss:5.53e-07\n",
      "test accuracy:0.517\n",
      "--------------------\n",
      "--------epoch300--------\n",
      "train accuracy:1.0\n",
      "train loss:3.24e-07\n",
      "test accuracy:0.534\n",
      "--------------------\n",
      "--------epoch350--------\n",
      "train accuracy:1.0\n",
      "train loss:2.88e-07\n",
      "test accuracy:0.517\n",
      "--------------------\n",
      "--------epoch400--------\n",
      "train accuracy:0.99\n",
      "train loss:0.0244\n",
      "test accuracy:0.241\n",
      "--------------------\n",
      "--------epoch450--------\n",
      "train accuracy:1.0\n",
      "train loss:1.19e-05\n",
      "test accuracy:0.466\n",
      "--------------------\n",
      "--------epoch500--------\n",
      "train accuracy:1.0\n",
      "train loss:5.82e-07\n",
      "test accuracy:0.448\n",
      "--------------------\n",
      "--------epoch550--------\n",
      "train accuracy:1.0\n",
      "train loss:3.72e-07\n",
      "test accuracy:0.466\n",
      "--------------------\n",
      "--------epoch599--------\n",
      "train accuracy:1.0\n",
      "train loss:2.67e-07\n",
      "test accuracy:0.466\n",
      "--------------------\n",
      "max accuracy_test: 0.5517241379310345\n"
     ]
    }
   ],
   "source": [
    "# 20エポック回す\n",
    "# ここだけ繰り返すと再学習しちゃうので注意\n",
    "for epoc in range(EPOCH):\n",
    "    optimizer.zero_grad()\n",
    "    \n",
    "    y_pred = net(X_train)\n",
    "    \n",
    "    loss = loss_fn(y_pred, y_train)\n",
    "    loss.backward()\n",
    "    \n",
    "    optimizer.step()\n",
    "    \n",
    "    losses_train.append(loss.item())\n",
    "    \n",
    "    _, predicted = torch.max(y_pred, 1)\n",
    "    corrects_train = 0\n",
    "    for i in range(len(predicted)):\n",
    "        if(predicted[i]==y_train[i]):\n",
    "            corrects_train += 1\n",
    "    accuracy_train.append(corrects_train/len(y_train))\n",
    "    \n",
    "    y_test_pred = net(X_test)\n",
    "    _, predicted = torch.max(y_test_pred, 1)\n",
    "    corrects_test = 0\n",
    "    for i in range(len(predicted)):\n",
    "        if(predicted[i]==y_test[i]):\n",
    "            corrects_test += 1\n",
    "    accuracy_test.append(corrects_test/len(y_test))\n",
    "    \n",
    "    if(epoc%50 == 0 or epoc == (EPOCH-1)):\n",
    "        print(\"-\"*8+\"epoch{}\".format(epoc)+\"-\"*8)\n",
    "        print(\"train accuracy:{:.3}\".format(accuracy_train[-1]))\n",
    "        print(\"train loss:{:.3}\".format(losses_train[-1]))\n",
    "        print(\"test accuracy:{:.3}\".format(accuracy_test[-1]))\n",
    "        print(\"-\"*20)\n",
    "print(\"max accuracy_test: {}\".format(max(accuracy_test)))"
   ]
  },
  {
   "cell_type": "code",
   "execution_count": 24,
   "metadata": {},
   "outputs": [
    {
     "data": {
      "image/png": "[encoded data removed]",
      "text/plain": [
       "<Figure size 432x288 with 2 Axes>"
      ]
     },
     "metadata": {},
     "output_type": "display_data"
    }
   ],
   "source": [
    "fig, ax1 = plt.subplots()\n",
    "ax1.plot(list(range(EPOCH)), accuracy_train, color=\"blue\")\n",
    "ax1.plot(list(range(EPOCH)), accuracy_test, color=\"skyblue\")\n",
    "ax1.set_xlabel(\"epoch\")\n",
    "ax1.set_ylabel(\"accuracy\", color=\"blue\")\n",
    "ax1.tick_params(axis=\"y\", labelcolor=\"blue\")\n",
    "\n",
    "ax2 = ax1.twinx()\n",
    "ax2.plot(list(range(EPOCH)), losses_train, color=\"red\")\n",
    "ax2.set_ylabel(\"train loss\", color=\"red\")\n",
    "ax2.tick_params(axis=\"y\", labelcolor=\"red\")\n",
    "plt.show()"
   ]
  },
  {
   "cell_type": "markdown",
   "metadata": {},
   "source": [
    "## LightGBM"
   ]
  },
  {
   "cell_type": "code",
   "execution_count": 25,
   "metadata": {},
   "outputs": [],
   "source": [
    "lgb_train = lgb.Dataset(db_feature_df.values, db_target_df.values)\n",
    "lgb_eval = lgb.Dataset(query_featture_df.values, query_target_df.values, reference=lgb_train)"
   ]
  },
  {
   "cell_type": "code",
   "execution_count": 26,
   "metadata": {},
   "outputs": [],
   "source": [
    "# LightGBM parameters\n",
    "params = {\n",
    "    'task': 'train',\n",
    "    'boosting_type': 'gbdt',\n",
    "    'objective': 'multiclass',\n",
    "    'metric': 'multi_error',\n",
    "    'num_class': 20,\n",
    "    'learning_rate': 0.1,\n",
    "    'num_leaves': 15,\n",
    "    'min_data_in_leaf': 10,\n",
    "    'num_iteration': 200,\n",
    "    'verbose': -1,\n",
    "}"
   ]
  },
  {
   "cell_type": "code",
   "execution_count": 27,
   "metadata": {
    "scrolled": false
   },
   "outputs": [
    {
     "name": "stderr",
     "output_type": "stream",
     "text": [
      "C:\\Anaconda3\\lib\\site-packages\\lightgbm\\engine.py:113: UserWarning: Found `num_iteration` in params. Will use it instead of argument\n",
      "  warnings.warn(\"Found `{}` in params. Will use it instead of argument\".format(alias))\n"
     ]
    },
    {
     "name": "stdout",
     "output_type": "stream",
     "text": [
      "[1]\tvalid_0's multi_error: 0.637931\n",
      "Training until validation scores don't improve for 100 rounds.\n",
      "[2]\tvalid_0's multi_error: 0.62069\n",
      "[3]\tvalid_0's multi_error: 0.568966\n",
      "[4]\tvalid_0's multi_error: 0.568966\n",
      "[5]\tvalid_0's multi_error: 0.534483\n",
      "[6]\tvalid_0's multi_error: 0.534483\n",
      "[7]\tvalid_0's multi_error: 0.534483\n",
      "[8]\tvalid_0's multi_error: 0.534483\n",
      "[9]\tvalid_0's multi_error: 0.534483\n",
      "[10]\tvalid_0's multi_error: 0.534483\n",
      "[11]\tvalid_0's multi_error: 0.534483\n",
      "[12]\tvalid_0's multi_error: 0.551724\n",
      "[13]\tvalid_0's multi_error: 0.534483\n",
      "[14]\tvalid_0's multi_error: 0.534483\n",
      "[15]\tvalid_0's multi_error: 0.534483\n",
      "[16]\tvalid_0's multi_error: 0.534483\n",
      "[17]\tvalid_0's multi_error: 0.534483\n",
      "[18]\tvalid_0's multi_error: 0.534483\n",
      "[19]\tvalid_0's multi_error: 0.534483\n",
      "[20]\tvalid_0's multi_error: 0.534483\n",
      "[21]\tvalid_0's multi_error: 0.534483\n",
      "[22]\tvalid_0's multi_error: 0.534483\n",
      "[23]\tvalid_0's multi_error: 0.534483\n",
      "[24]\tvalid_0's multi_error: 0.534483\n",
      "[25]\tvalid_0's multi_error: 0.534483\n",
      "[26]\tvalid_0's multi_error: 0.534483\n",
      "[27]\tvalid_0's multi_error: 0.534483\n",
      "[28]\tvalid_0's multi_error: 0.534483\n",
      "[29]\tvalid_0's multi_error: 0.534483\n",
      "[30]\tvalid_0's multi_error: 0.534483\n",
      "[31]\tvalid_0's multi_error: 0.534483\n",
      "[32]\tvalid_0's multi_error: 0.534483\n",
      "[33]\tvalid_0's multi_error: 0.534483\n",
      "[34]\tvalid_0's multi_error: 0.534483\n",
      "[35]\tvalid_0's multi_error: 0.534483\n",
      "[36]\tvalid_0's multi_error: 0.534483\n",
      "[37]\tvalid_0's multi_error: 0.534483\n",
      "[38]\tvalid_0's multi_error: 0.534483\n",
      "[39]\tvalid_0's multi_error: 0.534483\n",
      "[40]\tvalid_0's multi_error: 0.534483\n",
      "[41]\tvalid_0's multi_error: 0.534483\n",
      "[42]\tvalid_0's multi_error: 0.534483\n",
      "[43]\tvalid_0's multi_error: 0.534483\n",
      "[44]\tvalid_0's multi_error: 0.534483\n",
      "[45]\tvalid_0's multi_error: 0.534483\n",
      "[46]\tvalid_0's multi_error: 0.534483\n",
      "[47]\tvalid_0's multi_error: 0.534483\n",
      "[48]\tvalid_0's multi_error: 0.534483\n",
      "[49]\tvalid_0's multi_error: 0.534483\n",
      "[50]\tvalid_0's multi_error: 0.534483\n",
      "[51]\tvalid_0's multi_error: 0.534483\n",
      "[52]\tvalid_0's multi_error: 0.534483\n",
      "[53]\tvalid_0's multi_error: 0.534483\n",
      "[54]\tvalid_0's multi_error: 0.534483\n",
      "[55]\tvalid_0's multi_error: 0.534483\n",
      "[56]\tvalid_0's multi_error: 0.534483\n",
      "[57]\tvalid_0's multi_error: 0.534483\n",
      "[58]\tvalid_0's multi_error: 0.534483\n",
      "[59]\tvalid_0's multi_error: 0.534483\n",
      "[60]\tvalid_0's multi_error: 0.534483\n",
      "[61]\tvalid_0's multi_error: 0.534483\n",
      "[62]\tvalid_0's multi_error: 0.534483\n",
      "[63]\tvalid_0's multi_error: 0.534483\n",
      "[64]\tvalid_0's multi_error: 0.534483\n",
      "[65]\tvalid_0's multi_error: 0.534483\n",
      "[66]\tvalid_0's multi_error: 0.534483\n",
      "[67]\tvalid_0's multi_error: 0.534483\n",
      "[68]\tvalid_0's multi_error: 0.534483\n",
      "[69]\tvalid_0's multi_error: 0.534483\n",
      "[70]\tvalid_0's multi_error: 0.534483\n",
      "[71]\tvalid_0's multi_error: 0.534483\n",
      "[72]\tvalid_0's multi_error: 0.534483\n",
      "[73]\tvalid_0's multi_error: 0.534483\n",
      "[74]\tvalid_0's multi_error: 0.534483\n",
      "[75]\tvalid_0's multi_error: 0.534483\n",
      "[76]\tvalid_0's multi_error: 0.534483\n",
      "[77]\tvalid_0's multi_error: 0.534483\n",
      "[78]\tvalid_0's multi_error: 0.534483\n",
      "[79]\tvalid_0's multi_error: 0.534483\n",
      "[80]\tvalid_0's multi_error: 0.534483\n",
      "[81]\tvalid_0's multi_error: 0.534483\n",
      "[82]\tvalid_0's multi_error: 0.534483\n",
      "[83]\tvalid_0's multi_error: 0.534483\n",
      "[84]\tvalid_0's multi_error: 0.551724\n",
      "[85]\tvalid_0's multi_error: 0.534483\n",
      "[86]\tvalid_0's multi_error: 0.534483\n",
      "[87]\tvalid_0's multi_error: 0.551724\n",
      "[88]\tvalid_0's multi_error: 0.534483\n",
      "[89]\tvalid_0's multi_error: 0.534483\n",
      "[90]\tvalid_0's multi_error: 0.551724\n",
      "[91]\tvalid_0's multi_error: 0.517241\n",
      "[92]\tvalid_0's multi_error: 0.534483\n",
      "[93]\tvalid_0's multi_error: 0.534483\n",
      "[94]\tvalid_0's multi_error: 0.517241\n",
      "[95]\tvalid_0's multi_error: 0.534483\n",
      "[96]\tvalid_0's multi_error: 0.534483\n",
      "[97]\tvalid_0's multi_error: 0.517241\n",
      "[98]\tvalid_0's multi_error: 0.534483\n",
      "[99]\tvalid_0's multi_error: 0.534483\n",
      "[100]\tvalid_0's multi_error: 0.534483\n",
      "[101]\tvalid_0's multi_error: 0.534483\n",
      "[102]\tvalid_0's multi_error: 0.534483\n",
      "[103]\tvalid_0's multi_error: 0.517241\n",
      "[104]\tvalid_0's multi_error: 0.534483\n",
      "[105]\tvalid_0's multi_error: 0.517241\n",
      "[106]\tvalid_0's multi_error: 0.517241\n",
      "[107]\tvalid_0's multi_error: 0.517241\n",
      "[108]\tvalid_0's multi_error: 0.517241\n",
      "[109]\tvalid_0's multi_error: 0.5\n",
      "[110]\tvalid_0's multi_error: 0.5\n",
      "[111]\tvalid_0's multi_error: 0.5\n",
      "[112]\tvalid_0's multi_error: 0.5\n",
      "[113]\tvalid_0's multi_error: 0.5\n",
      "[114]\tvalid_0's multi_error: 0.5\n",
      "[115]\tvalid_0's multi_error: 0.5\n",
      "[116]\tvalid_0's multi_error: 0.5\n",
      "[117]\tvalid_0's multi_error: 0.5\n",
      "[118]\tvalid_0's multi_error: 0.5\n",
      "[119]\tvalid_0's multi_error: 0.5\n",
      "[120]\tvalid_0's multi_error: 0.5\n",
      "[121]\tvalid_0's multi_error: 0.5\n",
      "[122]\tvalid_0's multi_error: 0.5\n",
      "[123]\tvalid_0's multi_error: 0.5\n",
      "[124]\tvalid_0's multi_error: 0.5\n",
      "[125]\tvalid_0's multi_error: 0.5\n",
      "[126]\tvalid_0's multi_error: 0.5\n",
      "[127]\tvalid_0's multi_error: 0.5\n",
      "[128]\tvalid_0's multi_error: 0.5\n",
      "[129]\tvalid_0's multi_error: 0.5\n",
      "[130]\tvalid_0's multi_error: 0.5\n",
      "[131]\tvalid_0's multi_error: 0.5\n",
      "[132]\tvalid_0's multi_error: 0.5\n",
      "[133]\tvalid_0's multi_error: 0.5\n",
      "[134]\tvalid_0's multi_error: 0.5\n",
      "[135]\tvalid_0's multi_error: 0.5\n",
      "[136]\tvalid_0's multi_error: 0.5\n",
      "[137]\tvalid_0's multi_error: 0.5\n",
      "[138]\tvalid_0's multi_error: 0.5\n",
      "[139]\tvalid_0's multi_error: 0.5\n",
      "[140]\tvalid_0's multi_error: 0.5\n",
      "[141]\tvalid_0's multi_error: 0.5\n",
      "[142]\tvalid_0's multi_error: 0.5\n",
      "[143]\tvalid_0's multi_error: 0.5\n",
      "[144]\tvalid_0's multi_error: 0.5\n",
      "[145]\tvalid_0's multi_error: 0.5\n",
      "[146]\tvalid_0's multi_error: 0.5\n",
      "[147]\tvalid_0's multi_error: 0.5\n",
      "[148]\tvalid_0's multi_error: 0.5\n",
      "[149]\tvalid_0's multi_error: 0.5\n",
      "[150]\tvalid_0's multi_error: 0.5\n",
      "[151]\tvalid_0's multi_error: 0.5\n",
      "[152]\tvalid_0's multi_error: 0.5\n",
      "[153]\tvalid_0's multi_error: 0.5\n",
      "[154]\tvalid_0's multi_error: 0.5\n",
      "[155]\tvalid_0's multi_error: 0.5\n",
      "[156]\tvalid_0's multi_error: 0.5\n",
      "[157]\tvalid_0's multi_error: 0.5\n",
      "[158]\tvalid_0's multi_error: 0.5\n",
      "[159]\tvalid_0's multi_error: 0.5\n",
      "[160]\tvalid_0's multi_error: 0.5\n",
      "[161]\tvalid_0's multi_error: 0.5\n",
      "[162]\tvalid_0's multi_error: 0.5\n",
      "[163]\tvalid_0's multi_error: 0.5\n",
      "[164]\tvalid_0's multi_error: 0.5\n",
      "[165]\tvalid_0's multi_error: 0.5\n",
      "[166]\tvalid_0's multi_error: 0.5\n",
      "[167]\tvalid_0's multi_error: 0.5\n",
      "[168]\tvalid_0's multi_error: 0.5\n",
      "[169]\tvalid_0's multi_error: 0.5\n",
      "[170]\tvalid_0's multi_error: 0.5\n",
      "[171]\tvalid_0's multi_error: 0.5\n",
      "[172]\tvalid_0's multi_error: 0.5\n",
      "[173]\tvalid_0's multi_error: 0.5\n",
      "[174]\tvalid_0's multi_error: 0.5\n",
      "[175]\tvalid_0's multi_error: 0.5\n",
      "[176]\tvalid_0's multi_error: 0.5\n",
      "[177]\tvalid_0's multi_error: 0.5\n",
      "[178]\tvalid_0's multi_error: 0.5\n",
      "[179]\tvalid_0's multi_error: 0.5\n",
      "[180]\tvalid_0's multi_error: 0.5\n",
      "[181]\tvalid_0's multi_error: 0.5\n",
      "[182]\tvalid_0's multi_error: 0.5\n",
      "[183]\tvalid_0's multi_error: 0.5\n",
      "[184]\tvalid_0's multi_error: 0.5\n",
      "[185]\tvalid_0's multi_error: 0.5\n",
      "[186]\tvalid_0's multi_error: 0.5\n",
      "[187]\tvalid_0's multi_error: 0.5\n",
      "[188]\tvalid_0's multi_error: 0.5\n",
      "[189]\tvalid_0's multi_error: 0.5\n",
      "[190]\tvalid_0's multi_error: 0.5\n",
      "[191]\tvalid_0's multi_error: 0.5\n",
      "[192]\tvalid_0's multi_error: 0.5\n",
      "[193]\tvalid_0's multi_error: 0.5\n",
      "[194]\tvalid_0's multi_error: 0.5\n",
      "[195]\tvalid_0's multi_error: 0.5\n",
      "[196]\tvalid_0's multi_error: 0.5\n",
      "[197]\tvalid_0's multi_error: 0.5\n",
      "[198]\tvalid_0's multi_error: 0.5\n",
      "[199]\tvalid_0's multi_error: 0.5\n",
      "[200]\tvalid_0's multi_error: 0.5\n",
      "Did not meet early stopping. Best iteration is:\n",
      "[109]\tvalid_0's multi_error: 0.5\n"
     ]
    }
   ],
   "source": [
    "gbm = lgb.train(params,\n",
    "                lgb_train,\n",
    "                num_boost_round=300,\n",
    "                valid_sets=lgb_eval,\n",
    "                early_stopping_rounds=100)\n",
    "y_pred = gbm.predict(query_featture_df.values, num_iteration = gbm.best_iteration)\n",
    "y_pred_max = np.argmax(y_pred, axis=1)\n"
   ]
  },
  {
   "cell_type": "code",
   "execution_count": 28,
   "metadata": {
    "scrolled": true
   },
   "outputs": [
    {
     "data": {
      "text/plain": [
       "0.5"
      ]
     },
     "execution_count": 28,
     "metadata": {},
     "output_type": "execute_result"
    }
   ],
   "source": [
    "accuracy_score(query_target_df, y_pred_max)"
   ]
  },
  {
   "cell_type": "code",
   "execution_count": 29,
   "metadata": {
    "scrolled": false
   },
   "outputs": [
    {
     "data": {
      "image/png": "[encoded data removed]",
      "text/plain": [
       "<Figure size 720x432 with 1 Axes>"
      ]
     },
     "metadata": {},
     "output_type": "display_data"
    }
   ],
   "source": [
    "cols_to_fit = db_feature_df.columns.values\n",
    "feature_importance = pd.DataFrame(sorted(\n",
    "    zip(gbm.feature_importance(), cols_to_fit)), columns=['Value', 'Feature'])\n",
    "plt.figure(figsize=(10, 6))\n",
    "sns.barplot(x=\"Value\", y=\"Feature\", data=feature_importance.sort_values(\n",
    "    by=\"Value\", ascending=False).head(10))\n",
    "plt.title('LightGBM Features (avg over folds)')\n",
    "plt.tight_layout()"
   ]
  },
  {
   "cell_type": "markdown",
   "metadata": {},
   "source": [
    "# 画像を直接入れる系\n",
    "こっちのデータは**上のdafatrameと同じ順番**で入ってくると仮定してTargetは同じものを使う  \n",
    "違う順で入れる場合は注意  "
   ]
  },
  {
   "cell_type": "code",
   "execution_count": 30,
   "metadata": {},
   "outputs": [],
   "source": [
    "DB_IMG_PATH = \"../input/Dlib/cutface/histFlattening/DB/jpeg/\"\n",
    "QUERY_IMG_PATH = \"../input/Dlib/cutface/histFlattening/Query/jpeg/\""
   ]
  },
  {
   "cell_type": "code",
   "execution_count": 31,
   "metadata": {},
   "outputs": [
    {
     "name": "stderr",
     "output_type": "stream",
     "text": [
      "100%|███████████████████████████████████████████████████████████████████████████████| 200/200 [00:01<00:00, 114.23it/s]\n"
     ]
    }
   ],
   "source": [
    "# 画像読み込み\n",
    "p = Path(DB_IMG_PATH)\n",
    "p = sorted(p.glob(\"*.jpg\"))\n",
    "\n",
    "dbImages = []\n",
    "dbLabels = np.zeros(len(p), dtype=np.int)\n",
    "\n",
    "for index, filename in enumerate(tqdm(p)):\n",
    "    # 相対パスだと参照できなかったので絶対パスでやる\n",
    "    img = cv2.imread(str(filename.resolve()), 0)\n",
    "    # C, H, Wの形式にする(今回はグレースケールなのでC = 1)\n",
    "    img = img.reshape([1, img.shape[0], img.shape[1]])\n",
    "    dbImages.append((img/225).astype(np.float32))"
   ]
  },
  {
   "cell_type": "code",
   "execution_count": 32,
   "metadata": {
    "scrolled": true
   },
   "outputs": [
    {
     "name": "stderr",
     "output_type": "stream",
     "text": [
      "100%|█████████████████████████████████████████████████████████████████████████████████| 58/58 [00:00<00:00, 113.83it/s]\n"
     ]
    }
   ],
   "source": [
    "# 画像読み込み\n",
    "p = Path(QUERY_IMG_PATH)\n",
    "p = sorted(p.glob(\"*.jpg\"))\n",
    "\n",
    "queryImages = []\n",
    "\n",
    "for index, filename in enumerate(tqdm(p)):\n",
    "    # 相対パスだと参照できなかったので絶対パスでやる\n",
    "    img = cv2.imread(str(filename.resolve()), 0)\n",
    "    # C, H, Wの形式にする(今回はグレースケールなのでC = 1)\n",
    "    img = img.reshape([1, img.shape[0], img.shape[1]])\n",
    "    queryImages.append((img/225).astype(np.float32))"
   ]
  },
  {
   "cell_type": "code",
   "execution_count": 33,
   "metadata": {},
   "outputs": [
    {
     "data": {
      "text/plain": [
       "(1, 128, 128)"
      ]
     },
     "execution_count": 33,
     "metadata": {},
     "output_type": "execute_result"
    }
   ],
   "source": [
    "dbImages[0].shape"
   ]
  },
  {
   "cell_type": "markdown",
   "metadata": {},
   "source": [
    "## ピクセルマッチング"
   ]
  },
  {
   "cell_type": "code",
   "execution_count": 34,
   "metadata": {},
   "outputs": [],
   "source": [
    "result = []\n",
    "prediction_df = pd.DataFrame(query_target_df)\n",
    "for queryIndex in range(len(queryImages)):\n",
    "    distances = np.zeros(len(dbImages), dtype=np.float32)\n",
    "    for dbIndex in range(len(dbImages)):\n",
    "        distances[dbIndex] = (np.abs(dbImages[dbIndex] - queryImages[queryIndex])).sum()\n",
    "    minimum_id = np.argmin(distances)\n",
    "    prediction_df.loc[queryIndex, \"predict\"] = db_target_df[minimum_id]"
   ]
  },
  {
   "cell_type": "code",
   "execution_count": 35,
   "metadata": {},
   "outputs": [],
   "source": [
    "correct_num = (prediction_df[\"target\"] == prediction_df[\"predict\"]).sum()\n",
    "accuracy = correct_num / prediction_df.shape[0]"
   ]
  },
  {
   "cell_type": "code",
   "execution_count": 36,
   "metadata": {},
   "outputs": [
    {
     "data": {
      "text/plain": [
       "0.46551724137931033"
      ]
     },
     "execution_count": 36,
     "metadata": {},
     "output_type": "execute_result"
    }
   ],
   "source": [
    "accuracy"
   ]
  },
  {
   "cell_type": "markdown",
   "metadata": {},
   "source": [
    "# CNN"
   ]
  },
  {
   "cell_type": "code",
   "execution_count": 37,
   "metadata": {},
   "outputs": [],
   "source": [
    "X_dbToech = torch.Tensor(dbImages)\n",
    "y_dbTorch = torch.LongTensor(db_target_df)\n",
    "X_queryTorch = torch.Tensor(queryImages)\n",
    "y_queryTorch = torch.LongTensor(query_target_df)\n",
    "\n",
    "dbDataset = TensorDataset(X_dbToech, y_dbTorch)\n",
    "queryDataset = TensorDataset(X_queryTorch, y_queryTorch)\n",
    "\n",
    "batch_size = 8\n",
    "dbLoader = DataLoader(dbDataset, batch_size=batch_size, shuffle=True)\n",
    "queryLoader = DataLoader(queryDataset, batch_size=batch_size, shuffle=False)"
   ]
  },
  {
   "cell_type": "code",
   "execution_count": 38,
   "metadata": {},
   "outputs": [],
   "source": [
    "class FlattenLayer(nn.Module):\n",
    "    def forward(self, x):\n",
    "        sizes = x.size()\n",
    "        return x.view(sizes[0], -1)\n",
    "    \n",
    "conv_net = nn.Sequential(\n",
    "    nn.Conv2d(1, 32, 5),\n",
    "    nn.MaxPool2d(2),\n",
    "    nn.ReLU(),\n",
    "    nn.BatchNorm2d(32),\n",
    "    nn.Dropout2d(0.5),\n",
    "    nn.Conv2d(32, 64, 5),\n",
    "    nn.MaxPool2d(2),\n",
    "    nn.ReLU(),\n",
    "    nn.BatchNorm2d(64),\n",
    "    nn.Dropout2d(0.5),\n",
    "    FlattenLayer()\n",
    ")\n",
    "\n",
    "test_input = torch.ones(1, 1, 128, 128)\n",
    "conv_output_size = conv_net(test_input).size()[-1]\n",
    "\n",
    "mlp = nn.Sequential(\n",
    "    nn.Linear(conv_output_size, 200),\n",
    "    nn.ReLU(),\n",
    "    nn.BatchNorm1d(200),\n",
    "    nn.Dropout(0.25),\n",
    "    nn.Linear(200, 20)\n",
    ")\n",
    "\n",
    "net = nn.Sequential(\n",
    "    conv_net,\n",
    "    mlp\n",
    ")"
   ]
  },
  {
   "cell_type": "code",
   "execution_count": 39,
   "metadata": {},
   "outputs": [],
   "source": [
    "# 評価ヘルパー\n",
    "def eval_net(net, data_loader, device=\"cpu\"):\n",
    "    net.eval()\n",
    "    ys = []\n",
    "    ypreds = []\n",
    "    for x, y in data_loader:\n",
    "        x = x.to(device)\n",
    "        y = y.to(device)\n",
    "        with torch.no_grad():\n",
    "            _, y_pred = net(x).max(1)\n",
    "        ys.append(y)\n",
    "        ypreds.append(y_pred)\n",
    "    # ミニバッチ毎の結果をまとめる\n",
    "    ys = torch.cat(ys)\n",
    "    ypreds = torch.cat(ypreds)\n",
    "    acc = (ys == ypreds).float().sum() / len(ys)\n",
    "    return acc.item()\n",
    "\n",
    "# 訓練ヘルパー    \n",
    "def train_net(net, train_loader, test_loader,\n",
    "              optimizer_cls=optim.Adam, loss_fn=nn.CrossEntropyLoss(),\n",
    "              n_iter=10, device=\"cpu\"):\n",
    "    train_losses = []\n",
    "    train_acc = []\n",
    "    val_acc = []\n",
    "    optimizer = optimizer_cls(net.parameters())\n",
    "    for epoch in range(n_iter):\n",
    "        running_loss = 0.0\n",
    "        net.train()\n",
    "        n = 0\n",
    "        n_acc = 0\n",
    "        for i, (xx, yy) in enumerate(tqdm(train_loader)):\n",
    "            xx = xx.to(device)\n",
    "            yy = yy.to(device)\n",
    "            h = net(xx)\n",
    "            loss = loss_fn(h, yy)\n",
    "            optimizer.zero_grad()\n",
    "            loss.backward()\n",
    "            optimizer.step()\n",
    "            running_loss += loss.item()\n",
    "            n += len(xx)\n",
    "            _, y_pred = h.max(1)\n",
    "            n_acc += (yy == y_pred).float().sum().item()\n",
    "        train_losses.append(running_loss / i)\n",
    "        train_acc.append(n_acc / n)\n",
    "        val_acc.append(eval_net(net, test_loader, device))\n",
    "        print(epoch, train_losses[-1], train_acc[-1], val_acc[-1], flush=True)\n",
    "    print(\"max val acc: {}\".format(max(val_acc)))"
   ]
  },
  {
   "cell_type": "code",
   "execution_count": 40,
   "metadata": {},
   "outputs": [
    {
     "name": "stderr",
     "output_type": "stream",
     "text": [
      "100%|██████████████████████████████████████████████████████████████████████████████████| 25/25 [00:02<00:00,  9.48it/s]\n"
     ]
    },
    {
     "name": "stdout",
     "output_type": "stream",
     "text": [
      "0 2.737286110719045 0.275 0.17241379618644714\n"
     ]
    },
    {
     "name": "stderr",
     "output_type": "stream",
     "text": [
      "100%|██████████████████████████████████████████████████████████████████████████████████| 25/25 [00:00<00:00, 47.20it/s]\n"
     ]
    },
    {
     "name": "stdout",
     "output_type": "stream",
     "text": [
      "1 2.222911089658737 0.47 0.3448275923728943\n"
     ]
    },
    {
     "name": "stderr",
     "output_type": "stream",
     "text": [
      "100%|██████████████████████████████████████████████████████████████████████████████████| 25/25 [00:00<00:00, 49.49it/s]\n"
     ]
    },
    {
     "name": "stdout",
     "output_type": "stream",
     "text": [
      "2 1.7134888420502346 0.65 0.43103447556495667\n"
     ]
    },
    {
     "name": "stderr",
     "output_type": "stream",
     "text": [
      "100%|██████████████████████████████████████████████████████████████████████████████████| 25/25 [00:00<00:00, 51.16it/s]\n"
     ]
    },
    {
     "name": "stdout",
     "output_type": "stream",
     "text": [
      "3 1.2021383866667747 0.875 0.5517241358757019\n"
     ]
    },
    {
     "name": "stderr",
     "output_type": "stream",
     "text": [
      "100%|██████████████████████████████████████████████████████████████████████████████████| 25/25 [00:00<00:00, 50.53it/s]\n"
     ]
    },
    {
     "name": "stdout",
     "output_type": "stream",
     "text": [
      "4 0.8293156487246355 0.94 0.5862069129943848\n"
     ]
    },
    {
     "name": "stderr",
     "output_type": "stream",
     "text": [
      "100%|██████████████████████████████████████████████████████████████████████████████████| 25/25 [00:00<00:00, 50.51it/s]\n"
     ]
    },
    {
     "name": "stdout",
     "output_type": "stream",
     "text": [
      "5 0.5218569003045559 0.98 0.568965494632721\n"
     ]
    },
    {
     "name": "stderr",
     "output_type": "stream",
     "text": [
      "100%|██████████████████████████████████████████████████████████████████████████████████| 25/25 [00:00<00:00, 51.66it/s]\n"
     ]
    },
    {
     "name": "stdout",
     "output_type": "stream",
     "text": [
      "6 0.3887925371527672 0.99 0.6206896305084229\n"
     ]
    },
    {
     "name": "stderr",
     "output_type": "stream",
     "text": [
      "100%|██████████████████████████████████████████████████████████████████████████████████| 25/25 [00:00<00:00, 50.19it/s]\n"
     ]
    },
    {
     "name": "stdout",
     "output_type": "stream",
     "text": [
      "7 0.3087601338823636 0.995 0.6379310488700867\n"
     ]
    },
    {
     "name": "stderr",
     "output_type": "stream",
     "text": [
      "100%|██████████████████████████████████████████████████████████████████████████████████| 25/25 [00:00<00:00, 50.53it/s]\n"
     ]
    },
    {
     "name": "stdout",
     "output_type": "stream",
     "text": [
      "8 0.19134925430019697 1.0 0.6551724076271057\n"
     ]
    },
    {
     "name": "stderr",
     "output_type": "stream",
     "text": [
      "100%|██████████████████████████████████████████████████████████████████████████████████| 25/25 [00:00<00:00, 50.61it/s]\n"
     ]
    },
    {
     "name": "stdout",
     "output_type": "stream",
     "text": [
      "9 0.20069658880432448 0.99 0.6206896305084229\n"
     ]
    },
    {
     "name": "stderr",
     "output_type": "stream",
     "text": [
      "100%|██████████████████████████████████████████████████████████████████████████████████| 25/25 [00:00<00:00, 50.95it/s]\n"
     ]
    },
    {
     "name": "stdout",
     "output_type": "stream",
     "text": [
      "10 0.18046958247820535 0.99 0.6206896305084229\n"
     ]
    },
    {
     "name": "stderr",
     "output_type": "stream",
     "text": [
      "100%|██████████████████████████████████████████████████████████████████████████████████| 25/25 [00:00<00:00, 50.55it/s]\n"
     ]
    },
    {
     "name": "stdout",
     "output_type": "stream",
     "text": [
      "11 0.0933723896741867 1.0 0.6551724076271057\n"
     ]
    },
    {
     "name": "stderr",
     "output_type": "stream",
     "text": [
      "100%|██████████████████████████████████████████████████████████████████████████████████| 25/25 [00:00<00:00, 50.85it/s]\n"
     ]
    },
    {
     "name": "stdout",
     "output_type": "stream",
     "text": [
      "12 0.0995476059615612 0.995 0.6551724076271057\n"
     ]
    },
    {
     "name": "stderr",
     "output_type": "stream",
     "text": [
      "100%|██████████████████████████████████████████████████████████████████████████████████| 25/25 [00:00<00:00, 50.23it/s]\n"
     ]
    },
    {
     "name": "stdout",
     "output_type": "stream",
     "text": [
      "13 0.0722801002363364 1.0 0.6551724076271057\n"
     ]
    },
    {
     "name": "stderr",
     "output_type": "stream",
     "text": [
      "100%|██████████████████████████████████████████████████████████████████████████████████| 25/25 [00:00<00:00, 50.42it/s]\n"
     ]
    },
    {
     "name": "stdout",
     "output_type": "stream",
     "text": [
      "14 0.08459442853927612 1.0 0.6206896305084229\n"
     ]
    },
    {
     "name": "stderr",
     "output_type": "stream",
     "text": [
      "100%|██████████████████████████████████████████████████████████████████████████████████| 25/25 [00:00<00:00, 51.47it/s]\n"
     ]
    },
    {
     "name": "stdout",
     "output_type": "stream",
     "text": [
      "15 0.08235378687580426 0.995 0.6379310488700867\n"
     ]
    },
    {
     "name": "stderr",
     "output_type": "stream",
     "text": [
      "100%|██████████████████████████████████████████████████████████████████████████████████| 25/25 [00:00<00:00, 50.54it/s]\n"
     ]
    },
    {
     "name": "stdout",
     "output_type": "stream",
     "text": [
      "16 0.08062489206592242 1.0 0.6551724076271057\n"
     ]
    },
    {
     "name": "stderr",
     "output_type": "stream",
     "text": [
      "100%|██████████████████████████████████████████████████████████████████████████████████| 25/25 [00:00<00:00, 48.19it/s]\n"
     ]
    },
    {
     "name": "stdout",
     "output_type": "stream",
     "text": [
      "17 0.0688771903514862 1.0 0.6034482717514038\n"
     ]
    },
    {
     "name": "stderr",
     "output_type": "stream",
     "text": [
      "100%|██████████████████████████████████████████████████████████████████████████████████| 25/25 [00:00<00:00, 49.22it/s]\n"
     ]
    },
    {
     "name": "stdout",
     "output_type": "stream",
     "text": [
      "18 0.06189414362112681 0.995 0.6379310488700867\n"
     ]
    },
    {
     "name": "stderr",
     "output_type": "stream",
     "text": [
      "100%|██████████████████████████████████████████████████████████████████████████████████| 25/25 [00:00<00:00, 51.10it/s]\n"
     ]
    },
    {
     "name": "stdout",
     "output_type": "stream",
     "text": [
      "19 0.05671274413665136 0.99 0.6551724076271057\n",
      "max val acc: 0.6551724076271057\n"
     ]
    }
   ],
   "source": [
    "device_name = \"cuda:0\"\n",
    "\n",
    "net.to(device_name)\n",
    "train_net(net, dbLoader, queryLoader, n_iter=20, device=device_name)"
   ]
  },
  {
   "cell_type": "markdown",
   "metadata": {},
   "source": [
    "# 転移学習\n",
    "resnet18は入力が224\\*224なのでresizeしてデータセットを作る"
   ]
  },
  {
   "cell_type": "code",
   "execution_count": 41,
   "metadata": {},
   "outputs": [
    {
     "name": "stderr",
     "output_type": "stream",
     "text": [
      "100%|███████████████████████████████████████████████████████████████████████████████| 200/200 [00:00<00:00, 225.98it/s]\n"
     ]
    }
   ],
   "source": [
    "# 画像読み込み\n",
    "p = Path(DB_IMG_PATH)\n",
    "p = sorted(p.glob(\"*.jpg\"))\n",
    "\n",
    "dbImages_res = []\n",
    "\n",
    "for index, filename in enumerate(tqdm(p)):\n",
    "    # 相対パスだと参照できなかったので絶対パスでやる\n",
    "    img = cv2.imread(str(filename.resolve()), 0)\n",
    "    img = cv2.resize(img, (224, 224))\n",
    "    # C, H, Wの形式にする(今回はグレースケールなのでC = 1)\n",
    "    # img = img.reshape([1, img.shape[0], img.shape[1]])\n",
    "    # C=1 なんだけど、resnet18 が3chで作ってあるので、全チャンネル一緒にしてやってみる\n",
    "    img = np.array([img, img, img])\n",
    "    \n",
    "    dbImages_res.append((img/225).astype(np.float32))"
   ]
  },
  {
   "cell_type": "code",
   "execution_count": 42,
   "metadata": {},
   "outputs": [
    {
     "name": "stderr",
     "output_type": "stream",
     "text": [
      "100%|█████████████████████████████████████████████████████████████████████████████████| 58/58 [00:00<00:00, 235.37it/s]\n"
     ]
    }
   ],
   "source": [
    "# 画像読み込み\n",
    "p = Path(QUERY_IMG_PATH)\n",
    "p = sorted(p.glob(\"*.jpg\"))\n",
    "\n",
    "queryImages_res = []\n",
    "\n",
    "for index, filename in enumerate(tqdm(p)):\n",
    "    # 相対パスだと参照できなかったので絶対パスでやる\n",
    "    img = cv2.imread(str(filename.resolve()), 0)\n",
    "    img = cv2.resize(img, (224, 224))\n",
    "    # C, H, Wの形式にする(今回はグレースケールなのでC = 1)\n",
    "    # img = img.reshape([1, img.shape[0], img.shape[1]])\n",
    "    # C=1 なんだけど、resnet18 が3chで作ってあるので、全チャンネル一緒にしてやってみる\n",
    "    img = np.array([img, img, img])\n",
    "    \n",
    "    queryImages_res.append((img/225).astype(np.float32))"
   ]
  },
  {
   "cell_type": "code",
   "execution_count": 43,
   "metadata": {},
   "outputs": [],
   "source": [
    "X_dbToech = torch.Tensor(dbImages_res)\n",
    "y_dbTorch = torch.LongTensor(db_target_df)\n",
    "X_queryTorch = torch.Tensor(queryImages_res)\n",
    "y_queryTorch = torch.LongTensor(query_target_df)\n",
    "\n",
    "dbDataset = TensorDataset(X_dbToech, y_dbTorch)\n",
    "queryDataset = TensorDataset(X_queryTorch, y_queryTorch)\n",
    "\n",
    "batch_size = 8\n",
    "dbLoader = DataLoader(dbDataset, batch_size=batch_size, shuffle=True)\n",
    "queryLoader = DataLoader(queryDataset, batch_size=batch_size, shuffle=False)"
   ]
  },
  {
   "cell_type": "code",
   "execution_count": 44,
   "metadata": {},
   "outputs": [],
   "source": [
    "net = models.resnet18(pretrained=True)\n",
    "\n",
    "for p in net.parameters():\n",
    "    p.requires_grad = False\n",
    "    \n",
    "fc_input_dim = net.fc.in_features\n",
    "net.fc = nn.Linear(fc_input_dim, 2)"
   ]
  },
  {
   "cell_type": "code",
   "execution_count": 45,
   "metadata": {},
   "outputs": [],
   "source": [
    "# 評価ヘルパー\n",
    "def eval_net(net, data_loader, device=\"cpu\"):\n",
    "    net.eval()\n",
    "    ys = []\n",
    "    ypreds = []\n",
    "    for x, y in data_loader:\n",
    "        x = x.to(device)\n",
    "        y = y.to(device)\n",
    "        with torch.no_grad():\n",
    "            _, y_pred = net(x).max(1)\n",
    "        ys.append(y)\n",
    "        ypreds.append(y_pred)\n",
    "    # ミニバッチ毎の結果をまとめる\n",
    "    ys = torch.cat(ys)\n",
    "    ypreds = torch.cat(ypreds)\n",
    "    acc = (ys == ypreds).float().sum() / len(ys)\n",
    "    return acc.item()\n",
    "\n",
    "# 訓練ヘルパー    \n",
    "def train_net(net, train_loader, test_loader, only_fc=True,\n",
    "              optimizer_cls=optim.Adam, loss_fn=nn.CrossEntropyLoss(),\n",
    "              n_iter=10, device=\"cpu\"):\n",
    "    train_losses = []\n",
    "    train_acc = []\n",
    "    val_acc = []\n",
    "    # 最後の層のみoptimizerに渡す\n",
    "    if only_fc:\n",
    "        optimizer = optimizer_cls(net.fc.parameters())\n",
    "    else:\n",
    "        optimizer = optimizer_cls(net.parameters())\n",
    "        \n",
    "    for epoch in range(n_iter):\n",
    "        running_loss = 0.0\n",
    "        net.train()\n",
    "        n = 0\n",
    "        n_acc = 0\n",
    "        for i, (xx, yy) in enumerate(tqdm(train_loader)):\n",
    "            xx = xx.to(device)\n",
    "            yy = yy.to(device)\n",
    "            h = net(xx)\n",
    "            loss = loss_fn(h, yy)\n",
    "            optimizer.zero_grad()\n",
    "            loss.backward()\n",
    "            optimizer.step()\n",
    "            running_loss += loss.item()\n",
    "            n += len(xx)\n",
    "            _, y_pred = h.max(1)\n",
    "            n_acc += (yy == y_pred).float().sum().item()\n",
    "        train_losses.append(running_loss / i)\n",
    "        train_acc.append(n_acc / n)\n",
    "        val_acc.append(eval_net(net, test_loader, device))\n",
    "        print(epoch, train_losses[-1], train_acc[-1], val_acc[-1], flush=True)"
   ]
  },
  {
   "cell_type": "code",
   "execution_count": 46,
   "metadata": {},
   "outputs": [
    {
     "name": "stderr",
     "output_type": "stream",
     "text": [
      "100%|██████████████████████████████████████████████████████████████████████████████████| 25/25 [00:00<00:00, 46.93it/s]\n"
     ]
    },
    {
     "name": "stdout",
     "output_type": "stream",
     "text": [
      "0 0.2503377978379528 0.065 0.06896551698446274\n"
     ]
    },
    {
     "name": "stderr",
     "output_type": "stream",
     "text": [
      "100%|██████████████████████████████████████████████████████████████████████████████████| 25/25 [00:00<00:00, 48.64it/s]\n"
     ]
    },
    {
     "name": "stdout",
     "output_type": "stream",
     "text": [
      "1 0.22868154865379134 0.075 0.08620689809322357\n"
     ]
    },
    {
     "name": "stderr",
     "output_type": "stream",
     "text": [
      "100%|██████████████████████████████████████████████████████████████████████████████████| 25/25 [00:00<00:00, 48.96it/s]\n"
     ]
    },
    {
     "name": "stdout",
     "output_type": "stream",
     "text": [
      "2 0.18633087755491337 0.095 0.13793103396892548\n"
     ]
    },
    {
     "name": "stderr",
     "output_type": "stream",
     "text": [
      "100%|██████████████████████████████████████████████████████████████████████████████████| 25/25 [00:00<00:00, 48.47it/s]\n"
     ]
    },
    {
     "name": "stdout",
     "output_type": "stream",
     "text": [
      "3 0.25577424094080925 0.095 0.13793103396892548\n"
     ]
    },
    {
     "name": "stderr",
     "output_type": "stream",
     "text": [
      "100%|██████████████████████████████████████████████████████████████████████████████████| 25/25 [00:00<00:00, 48.21it/s]\n"
     ]
    },
    {
     "name": "stdout",
     "output_type": "stream",
     "text": [
      "4 0.22345643086979786 0.095 0.1551724076271057\n"
     ]
    },
    {
     "name": "stderr",
     "output_type": "stream",
     "text": [
      "100%|██████████████████████████████████████████████████████████████████████████████████| 25/25 [00:00<00:00, 49.08it/s]\n"
     ]
    },
    {
     "name": "stdout",
     "output_type": "stream",
     "text": [
      "5 0.2837762690614909 0.085 0.1551724076271057\n"
     ]
    },
    {
     "name": "stderr",
     "output_type": "stream",
     "text": [
      "100%|██████████████████████████████████████████████████████████████████████████████████| 25/25 [00:00<00:00, 49.15it/s]\n"
     ]
    },
    {
     "name": "stdout",
     "output_type": "stream",
     "text": [
      "6 0.2176682542388638 0.085 0.13793103396892548\n"
     ]
    },
    {
     "name": "stderr",
     "output_type": "stream",
     "text": [
      "100%|██████████████████████████████████████████████████████████████████████████████████| 25/25 [00:00<00:00, 47.85it/s]\n"
     ]
    },
    {
     "name": "stdout",
     "output_type": "stream",
     "text": [
      "7 0.1997248901364704 0.095 0.1551724076271057\n"
     ]
    },
    {
     "name": "stderr",
     "output_type": "stream",
     "text": [
      "100%|██████████████████████████████████████████████████████████████████████████████████| 25/25 [00:00<00:00, 48.32it/s]\n"
     ]
    },
    {
     "name": "stdout",
     "output_type": "stream",
     "text": [
      "8 0.16781945759430528 0.095 0.1551724076271057\n"
     ]
    },
    {
     "name": "stderr",
     "output_type": "stream",
     "text": [
      "100%|██████████████████████████████████████████████████████████████████████████████████| 25/25 [00:00<00:00, 49.24it/s]\n"
     ]
    },
    {
     "name": "stdout",
     "output_type": "stream",
     "text": [
      "9 0.2865980288479477 0.09 0.13793103396892548\n"
     ]
    },
    {
     "name": "stderr",
     "output_type": "stream",
     "text": [
      "100%|██████████████████████████████████████████████████████████████████████████████████| 25/25 [00:00<00:00, 48.99it/s]\n"
     ]
    },
    {
     "name": "stdout",
     "output_type": "stream",
     "text": [
      "10 0.26841791595021885 0.095 0.06896551698446274\n"
     ]
    },
    {
     "name": "stderr",
     "output_type": "stream",
     "text": [
      "100%|██████████████████████████████████████████████████████████████████████████████████| 25/25 [00:00<00:00, 49.05it/s]\n"
     ]
    },
    {
     "name": "stdout",
     "output_type": "stream",
     "text": [
      "11 0.23311263571182886 0.1 0.1551724076271057\n"
     ]
    },
    {
     "name": "stderr",
     "output_type": "stream",
     "text": [
      "100%|██████████████████████████████████████████████████████████████████████████████████| 25/25 [00:00<00:00, 49.32it/s]\n"
     ]
    },
    {
     "name": "stdout",
     "output_type": "stream",
     "text": [
      "12 0.2468941050271193 0.1 0.13793103396892548\n"
     ]
    },
    {
     "name": "stderr",
     "output_type": "stream",
     "text": [
      "100%|██████████████████████████████████████████████████████████████████████████████████| 25/25 [00:00<00:00, 48.86it/s]\n"
     ]
    },
    {
     "name": "stdout",
     "output_type": "stream",
     "text": [
      "13 0.24039817376372716 0.1 0.13793103396892548\n"
     ]
    },
    {
     "name": "stderr",
     "output_type": "stream",
     "text": [
      "100%|██████████████████████████████████████████████████████████████████████████████████| 25/25 [00:00<00:00, 49.12it/s]\n"
     ]
    },
    {
     "name": "stdout",
     "output_type": "stream",
     "text": [
      "14 0.21526117351216575 0.1 0.13793103396892548\n"
     ]
    },
    {
     "name": "stderr",
     "output_type": "stream",
     "text": [
      "100%|██████████████████████████████████████████████████████████████████████████████████| 25/25 [00:00<00:00, 48.67it/s]\n"
     ]
    },
    {
     "name": "stdout",
     "output_type": "stream",
     "text": [
      "15 0.18993592107047638 0.1 0.1551724076271057\n"
     ]
    },
    {
     "name": "stderr",
     "output_type": "stream",
     "text": [
      "100%|██████████████████████████████████████████████████████████████████████████████████| 25/25 [00:00<00:00, 49.15it/s]\n"
     ]
    },
    {
     "name": "stdout",
     "output_type": "stream",
     "text": [
      "16 0.19346693189193806 0.1 0.10344827175140381\n"
     ]
    },
    {
     "name": "stderr",
     "output_type": "stream",
     "text": [
      "100%|██████████████████████████████████████████████████████████████████████████████████| 25/25 [00:00<00:00, 48.93it/s]\n"
     ]
    },
    {
     "name": "stdout",
     "output_type": "stream",
     "text": [
      "17 0.23215410547951856 0.1 0.051724135875701904\n"
     ]
    },
    {
     "name": "stderr",
     "output_type": "stream",
     "text": [
      "100%|██████████████████████████████████████████████████████████████████████████████████| 25/25 [00:00<00:00, 48.12it/s]\n"
     ]
    },
    {
     "name": "stdout",
     "output_type": "stream",
     "text": [
      "18 0.20561975023398796 0.095 0.13793103396892548\n"
     ]
    },
    {
     "name": "stderr",
     "output_type": "stream",
     "text": [
      "100%|██████████████████████████████████████████████████████████████████████████████████| 25/25 [00:00<00:00, 48.32it/s]\n"
     ]
    },
    {
     "name": "stdout",
     "output_type": "stream",
     "text": [
      "19 0.22506666680177054 0.1 0.12068965286016464\n"
     ]
    }
   ],
   "source": [
    "device_name = \"cuda:0\"\n",
    "\n",
    "net.to(device_name)\n",
    "train_net(net, dbLoader, queryLoader, n_iter=20, device=device_name)"
   ]
  },
  {
   "cell_type": "code",
   "execution_count": null,
   "metadata": {},
   "outputs": [],
   "source": []
  },
  {
   "cell_type": "code",
   "execution_count": null,
   "metadata": {},
   "outputs": [],
   "source": []
  },
  {
   "cell_type": "code",
   "execution_count": null,
   "metadata": {},
   "outputs": [],
   "source": []
  }
 ],
 "metadata": {
  "anaconda-cloud": {},
  "kernelspec": {
   "display_name": "Python 3",
   "language": "python",
   "name": "python3"
  },
  "language_info": {
   "codemirror_mode": {
    "name": "ipython",
    "version": 3
   },
   "file_extension": ".py",
   "mimetype": "text/x-python",
   "name": "python",
   "nbconvert_exporter": "python",
   "pygments_lexer": "ipython3",
   "version": "3.6.4"
  }
 },
 "nbformat": 4,
 "nbformat_minor": 1
}
