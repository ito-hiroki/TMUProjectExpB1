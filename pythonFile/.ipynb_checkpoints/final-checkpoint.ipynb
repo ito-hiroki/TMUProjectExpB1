{
 "cells": [
  {
   "cell_type": "markdown",
   "metadata": {},
   "source": [
    "# 最終的なモデル詰め合わせ"
   ]
  },
  {
   "cell_type": "code",
   "execution_count": 1,
   "metadata": {},
   "outputs": [],
   "source": [
    "import numpy as np\n",
    "import pandas as pd\n",
    "from tqdm import tqdm\n",
    "import matplotlib.pyplot as plt\n",
    "%matplotlib inline\n",
    "import seaborn as sns\n",
    "sns.set()\n",
    "\n",
    "# kNN\n",
    "from sklearn.neighbors import KNeighborsClassifier\n",
    "\n",
    "# NeuralNet\n",
    "import torch\n",
    "from torch import nn\n",
    "from torch import optim\n",
    "\n",
    "# LightGBM\n",
    "import lightgbm as lgb\n",
    "from sklearn.metrics import accuracy_score"
   ]
  },
  {
   "cell_type": "code",
   "execution_count": 2,
   "metadata": {},
   "outputs": [],
   "source": [
    "# Path\n",
    "dbPath = \"db_list.csv\"\n",
    "queryPath = \"query_list.csv\""
   ]
  },
  {
   "cell_type": "code",
   "execution_count": 3,
   "metadata": {},
   "outputs": [],
   "source": [
    "# read data\n",
    "db_df = pd.read_csv(dbPath, index_col=0)\n",
    "query_df = pd.read_csv(queryPath, index_col=0)"
   ]
  },
  {
   "cell_type": "code",
   "execution_count": 4,
   "metadata": {},
   "outputs": [
    {
     "data": {
      "text/html": [
       "<div>\n",
       "<style scoped>\n",
       "    .dataframe tbody tr th:only-of-type {\n",
       "        vertical-align: middle;\n",
       "    }\n",
       "\n",
       "    .dataframe tbody tr th {\n",
       "        vertical-align: top;\n",
       "    }\n",
       "\n",
       "    .dataframe thead th {\n",
       "        text-align: right;\n",
       "    }\n",
       "</style>\n",
       "<table border=\"1\" class=\"dataframe\">\n",
       "  <thead>\n",
       "    <tr style=\"text-align: right;\">\n",
       "      <th></th>\n",
       "      <th>dct_0</th>\n",
       "      <th>dct_1</th>\n",
       "      <th>dct_2</th>\n",
       "      <th>dct_3</th>\n",
       "      <th>dct_4</th>\n",
       "      <th>dct_5</th>\n",
       "      <th>dct_6</th>\n",
       "      <th>dct_7</th>\n",
       "      <th>dct_8</th>\n",
       "      <th>dct_9</th>\n",
       "      <th>...</th>\n",
       "      <th>dct_216</th>\n",
       "      <th>dct_217</th>\n",
       "      <th>dct_218</th>\n",
       "      <th>dct_219</th>\n",
       "      <th>dct_220</th>\n",
       "      <th>dct_221</th>\n",
       "      <th>dct_222</th>\n",
       "      <th>dct_223</th>\n",
       "      <th>dct_224</th>\n",
       "      <th>target</th>\n",
       "    </tr>\n",
       "  </thead>\n",
       "  <tbody>\n",
       "    <tr>\n",
       "      <th>0</th>\n",
       "      <td>0.812763</td>\n",
       "      <td>0.272423</td>\n",
       "      <td>0.177267</td>\n",
       "      <td>0.262133</td>\n",
       "      <td>0.230776</td>\n",
       "      <td>0.255399</td>\n",
       "      <td>0.189310</td>\n",
       "      <td>0.279024</td>\n",
       "      <td>0.155362</td>\n",
       "      <td>0.268883</td>\n",
       "      <td>...</td>\n",
       "      <td>0.228107</td>\n",
       "      <td>0.209880</td>\n",
       "      <td>0.233954</td>\n",
       "      <td>0.249645</td>\n",
       "      <td>0.227619</td>\n",
       "      <td>0.223897</td>\n",
       "      <td>0.211591</td>\n",
       "      <td>0.215112</td>\n",
       "      <td>0.234028</td>\n",
       "      <td>0.0</td>\n",
       "    </tr>\n",
       "    <tr>\n",
       "      <th>1</th>\n",
       "      <td>0.824317</td>\n",
       "      <td>0.285164</td>\n",
       "      <td>0.189974</td>\n",
       "      <td>0.263251</td>\n",
       "      <td>0.235999</td>\n",
       "      <td>0.265722</td>\n",
       "      <td>0.199164</td>\n",
       "      <td>0.279436</td>\n",
       "      <td>0.176147</td>\n",
       "      <td>0.262119</td>\n",
       "      <td>...</td>\n",
       "      <td>0.220713</td>\n",
       "      <td>0.216296</td>\n",
       "      <td>0.215499</td>\n",
       "      <td>0.244427</td>\n",
       "      <td>0.238536</td>\n",
       "      <td>0.208056</td>\n",
       "      <td>0.222545</td>\n",
       "      <td>0.221152</td>\n",
       "      <td>0.220127</td>\n",
       "      <td>0.0</td>\n",
       "    </tr>\n",
       "    <tr>\n",
       "      <th>2</th>\n",
       "      <td>0.826549</td>\n",
       "      <td>0.227953</td>\n",
       "      <td>0.120643</td>\n",
       "      <td>0.218246</td>\n",
       "      <td>0.210585</td>\n",
       "      <td>0.235652</td>\n",
       "      <td>0.162152</td>\n",
       "      <td>0.232881</td>\n",
       "      <td>0.130341</td>\n",
       "      <td>0.223699</td>\n",
       "      <td>...</td>\n",
       "      <td>0.223130</td>\n",
       "      <td>0.223681</td>\n",
       "      <td>0.236513</td>\n",
       "      <td>0.228123</td>\n",
       "      <td>0.201495</td>\n",
       "      <td>0.224386</td>\n",
       "      <td>0.223604</td>\n",
       "      <td>0.231683</td>\n",
       "      <td>0.231720</td>\n",
       "      <td>0.0</td>\n",
       "    </tr>\n",
       "    <tr>\n",
       "      <th>3</th>\n",
       "      <td>0.806723</td>\n",
       "      <td>0.251155</td>\n",
       "      <td>0.105308</td>\n",
       "      <td>0.217036</td>\n",
       "      <td>0.183272</td>\n",
       "      <td>0.209225</td>\n",
       "      <td>0.151727</td>\n",
       "      <td>0.248162</td>\n",
       "      <td>0.129832</td>\n",
       "      <td>0.241668</td>\n",
       "      <td>...</td>\n",
       "      <td>0.225695</td>\n",
       "      <td>0.230213</td>\n",
       "      <td>0.249365</td>\n",
       "      <td>0.230700</td>\n",
       "      <td>0.204350</td>\n",
       "      <td>0.224435</td>\n",
       "      <td>0.230503</td>\n",
       "      <td>0.218306</td>\n",
       "      <td>0.228928</td>\n",
       "      <td>0.0</td>\n",
       "    </tr>\n",
       "    <tr>\n",
       "      <th>4</th>\n",
       "      <td>0.858456</td>\n",
       "      <td>0.247600</td>\n",
       "      <td>0.184433</td>\n",
       "      <td>0.247196</td>\n",
       "      <td>0.241287</td>\n",
       "      <td>0.259901</td>\n",
       "      <td>0.171110</td>\n",
       "      <td>0.243555</td>\n",
       "      <td>0.149487</td>\n",
       "      <td>0.252953</td>\n",
       "      <td>...</td>\n",
       "      <td>0.238263</td>\n",
       "      <td>0.211677</td>\n",
       "      <td>0.232359</td>\n",
       "      <td>0.236703</td>\n",
       "      <td>0.224809</td>\n",
       "      <td>0.216576</td>\n",
       "      <td>0.234454</td>\n",
       "      <td>0.215928</td>\n",
       "      <td>0.244901</td>\n",
       "      <td>0.0</td>\n",
       "    </tr>\n",
       "  </tbody>\n",
       "</table>\n",
       "<p>5 rows × 226 columns</p>\n",
       "</div>"
      ],
      "text/plain": [
       "      dct_0     dct_1     dct_2     dct_3     dct_4     dct_5     dct_6  \\\n",
       "0  0.812763  0.272423  0.177267  0.262133  0.230776  0.255399  0.189310   \n",
       "1  0.824317  0.285164  0.189974  0.263251  0.235999  0.265722  0.199164   \n",
       "2  0.826549  0.227953  0.120643  0.218246  0.210585  0.235652  0.162152   \n",
       "3  0.806723  0.251155  0.105308  0.217036  0.183272  0.209225  0.151727   \n",
       "4  0.858456  0.247600  0.184433  0.247196  0.241287  0.259901  0.171110   \n",
       "\n",
       "      dct_7     dct_8     dct_9   ...     dct_216   dct_217   dct_218  \\\n",
       "0  0.279024  0.155362  0.268883   ...    0.228107  0.209880  0.233954   \n",
       "1  0.279436  0.176147  0.262119   ...    0.220713  0.216296  0.215499   \n",
       "2  0.232881  0.130341  0.223699   ...    0.223130  0.223681  0.236513   \n",
       "3  0.248162  0.129832  0.241668   ...    0.225695  0.230213  0.249365   \n",
       "4  0.243555  0.149487  0.252953   ...    0.238263  0.211677  0.232359   \n",
       "\n",
       "    dct_219   dct_220   dct_221   dct_222   dct_223   dct_224  target  \n",
       "0  0.249645  0.227619  0.223897  0.211591  0.215112  0.234028     0.0  \n",
       "1  0.244427  0.238536  0.208056  0.222545  0.221152  0.220127     0.0  \n",
       "2  0.228123  0.201495  0.224386  0.223604  0.231683  0.231720     0.0  \n",
       "3  0.230700  0.204350  0.224435  0.230503  0.218306  0.228928     0.0  \n",
       "4  0.236703  0.224809  0.216576  0.234454  0.215928  0.244901     0.0  \n",
       "\n",
       "[5 rows x 226 columns]"
      ]
     },
     "execution_count": 4,
     "metadata": {},
     "output_type": "execute_result"
    }
   ],
   "source": [
    "db_df.head()"
   ]
  },
  {
   "cell_type": "code",
   "execution_count": 5,
   "metadata": {},
   "outputs": [
    {
     "data": {
      "text/html": [
       "<div>\n",
       "<style scoped>\n",
       "    .dataframe tbody tr th:only-of-type {\n",
       "        vertical-align: middle;\n",
       "    }\n",
       "\n",
       "    .dataframe tbody tr th {\n",
       "        vertical-align: top;\n",
       "    }\n",
       "\n",
       "    .dataframe thead th {\n",
       "        text-align: right;\n",
       "    }\n",
       "</style>\n",
       "<table border=\"1\" class=\"dataframe\">\n",
       "  <thead>\n",
       "    <tr style=\"text-align: right;\">\n",
       "      <th></th>\n",
       "      <th>dct_0</th>\n",
       "      <th>dct_1</th>\n",
       "      <th>dct_2</th>\n",
       "      <th>dct_3</th>\n",
       "      <th>dct_4</th>\n",
       "      <th>dct_5</th>\n",
       "      <th>dct_6</th>\n",
       "      <th>dct_7</th>\n",
       "      <th>dct_8</th>\n",
       "      <th>dct_9</th>\n",
       "      <th>...</th>\n",
       "      <th>dct_216</th>\n",
       "      <th>dct_217</th>\n",
       "      <th>dct_218</th>\n",
       "      <th>dct_219</th>\n",
       "      <th>dct_220</th>\n",
       "      <th>dct_221</th>\n",
       "      <th>dct_222</th>\n",
       "      <th>dct_223</th>\n",
       "      <th>dct_224</th>\n",
       "      <th>target</th>\n",
       "    </tr>\n",
       "  </thead>\n",
       "  <tbody>\n",
       "    <tr>\n",
       "      <th>0</th>\n",
       "      <td>0.904674</td>\n",
       "      <td>0.194109</td>\n",
       "      <td>0.130995</td>\n",
       "      <td>0.174769</td>\n",
       "      <td>0.195891</td>\n",
       "      <td>0.177870</td>\n",
       "      <td>0.152082</td>\n",
       "      <td>0.194753</td>\n",
       "      <td>0.131312</td>\n",
       "      <td>0.205085</td>\n",
       "      <td>...</td>\n",
       "      <td>0.244702</td>\n",
       "      <td>0.224199</td>\n",
       "      <td>0.213333</td>\n",
       "      <td>0.223402</td>\n",
       "      <td>0.210794</td>\n",
       "      <td>0.220879</td>\n",
       "      <td>0.234462</td>\n",
       "      <td>0.235203</td>\n",
       "      <td>0.224115</td>\n",
       "      <td>0.0</td>\n",
       "    </tr>\n",
       "    <tr>\n",
       "      <th>1</th>\n",
       "      <td>0.784270</td>\n",
       "      <td>0.224606</td>\n",
       "      <td>0.139211</td>\n",
       "      <td>0.248058</td>\n",
       "      <td>0.153540</td>\n",
       "      <td>0.216527</td>\n",
       "      <td>0.126956</td>\n",
       "      <td>0.223850</td>\n",
       "      <td>0.126157</td>\n",
       "      <td>0.192243</td>\n",
       "      <td>...</td>\n",
       "      <td>0.239503</td>\n",
       "      <td>0.236071</td>\n",
       "      <td>0.233055</td>\n",
       "      <td>0.233057</td>\n",
       "      <td>0.221392</td>\n",
       "      <td>0.190645</td>\n",
       "      <td>0.216429</td>\n",
       "      <td>0.212288</td>\n",
       "      <td>0.208633</td>\n",
       "      <td>0.0</td>\n",
       "    </tr>\n",
       "    <tr>\n",
       "      <th>2</th>\n",
       "      <td>0.876182</td>\n",
       "      <td>0.195360</td>\n",
       "      <td>0.210239</td>\n",
       "      <td>0.135471</td>\n",
       "      <td>0.247396</td>\n",
       "      <td>0.205266</td>\n",
       "      <td>0.253241</td>\n",
       "      <td>0.195721</td>\n",
       "      <td>0.188476</td>\n",
       "      <td>0.205977</td>\n",
       "      <td>...</td>\n",
       "      <td>0.229111</td>\n",
       "      <td>0.236003</td>\n",
       "      <td>0.231136</td>\n",
       "      <td>0.236494</td>\n",
       "      <td>0.230394</td>\n",
       "      <td>0.212862</td>\n",
       "      <td>0.238171</td>\n",
       "      <td>0.210575</td>\n",
       "      <td>0.218420</td>\n",
       "      <td>0.0</td>\n",
       "    </tr>\n",
       "    <tr>\n",
       "      <th>3</th>\n",
       "      <td>0.691964</td>\n",
       "      <td>0.134280</td>\n",
       "      <td>0.224722</td>\n",
       "      <td>0.162955</td>\n",
       "      <td>0.213020</td>\n",
       "      <td>0.245184</td>\n",
       "      <td>0.141536</td>\n",
       "      <td>0.234308</td>\n",
       "      <td>0.111738</td>\n",
       "      <td>0.229067</td>\n",
       "      <td>...</td>\n",
       "      <td>0.220245</td>\n",
       "      <td>0.221221</td>\n",
       "      <td>0.233103</td>\n",
       "      <td>0.200231</td>\n",
       "      <td>0.245400</td>\n",
       "      <td>0.235332</td>\n",
       "      <td>0.238871</td>\n",
       "      <td>0.197243</td>\n",
       "      <td>0.242605</td>\n",
       "      <td>0.0</td>\n",
       "    </tr>\n",
       "    <tr>\n",
       "      <th>4</th>\n",
       "      <td>0.791492</td>\n",
       "      <td>0.153364</td>\n",
       "      <td>0.171210</td>\n",
       "      <td>0.174341</td>\n",
       "      <td>0.203113</td>\n",
       "      <td>0.191042</td>\n",
       "      <td>0.189231</td>\n",
       "      <td>0.192029</td>\n",
       "      <td>0.169168</td>\n",
       "      <td>0.157802</td>\n",
       "      <td>...</td>\n",
       "      <td>0.222803</td>\n",
       "      <td>0.178768</td>\n",
       "      <td>0.241913</td>\n",
       "      <td>0.217591</td>\n",
       "      <td>0.251577</td>\n",
       "      <td>0.210878</td>\n",
       "      <td>0.220035</td>\n",
       "      <td>0.237752</td>\n",
       "      <td>0.204233</td>\n",
       "      <td>0.0</td>\n",
       "    </tr>\n",
       "  </tbody>\n",
       "</table>\n",
       "<p>5 rows × 226 columns</p>\n",
       "</div>"
      ],
      "text/plain": [
       "      dct_0     dct_1     dct_2     dct_3     dct_4     dct_5     dct_6  \\\n",
       "0  0.904674  0.194109  0.130995  0.174769  0.195891  0.177870  0.152082   \n",
       "1  0.784270  0.224606  0.139211  0.248058  0.153540  0.216527  0.126956   \n",
       "2  0.876182  0.195360  0.210239  0.135471  0.247396  0.205266  0.253241   \n",
       "3  0.691964  0.134280  0.224722  0.162955  0.213020  0.245184  0.141536   \n",
       "4  0.791492  0.153364  0.171210  0.174341  0.203113  0.191042  0.189231   \n",
       "\n",
       "      dct_7     dct_8     dct_9   ...     dct_216   dct_217   dct_218  \\\n",
       "0  0.194753  0.131312  0.205085   ...    0.244702  0.224199  0.213333   \n",
       "1  0.223850  0.126157  0.192243   ...    0.239503  0.236071  0.233055   \n",
       "2  0.195721  0.188476  0.205977   ...    0.229111  0.236003  0.231136   \n",
       "3  0.234308  0.111738  0.229067   ...    0.220245  0.221221  0.233103   \n",
       "4  0.192029  0.169168  0.157802   ...    0.222803  0.178768  0.241913   \n",
       "\n",
       "    dct_219   dct_220   dct_221   dct_222   dct_223   dct_224  target  \n",
       "0  0.223402  0.210794  0.220879  0.234462  0.235203  0.224115     0.0  \n",
       "1  0.233057  0.221392  0.190645  0.216429  0.212288  0.208633     0.0  \n",
       "2  0.236494  0.230394  0.212862  0.238171  0.210575  0.218420     0.0  \n",
       "3  0.200231  0.245400  0.235332  0.238871  0.197243  0.242605     0.0  \n",
       "4  0.217591  0.251577  0.210878  0.220035  0.237752  0.204233     0.0  \n",
       "\n",
       "[5 rows x 226 columns]"
      ]
     },
     "execution_count": 5,
     "metadata": {},
     "output_type": "execute_result"
    }
   ],
   "source": [
    "query_df.head()"
   ]
  },
  {
   "cell_type": "code",
   "execution_count": 6,
   "metadata": {},
   "outputs": [],
   "source": [
    "db_feature_df = db_df.drop([\"target\"], axis=1).copy()\n",
    "db_target_df = db_df[\"target\"].copy()\n",
    "query_featture_df =query_df.drop([\"target\"], axis=1).copy()\n",
    "query_target_df = query_df[\"target\"].copy()"
   ]
  },
  {
   "cell_type": "code",
   "execution_count": 7,
   "metadata": {},
   "outputs": [],
   "source": [
    "def calc_accu(query_target_df, pred):\n",
    "    correct_num = (prediction_df[\"target\"] == prediction_df[\"predict\"]).sum()\n",
    "    accuracy = correct_num / prediction_df.shape[0]\n",
    "    return correct_num, accuracy"
   ]
  },
  {
   "cell_type": "markdown",
   "metadata": {},
   "source": [
    "# テーブルデータ\n",
    "## 単純マッチング"
   ]
  },
  {
   "cell_type": "code",
   "execution_count": 8,
   "metadata": {},
   "outputs": [],
   "source": [
    "result = []\n",
    "test_min = []\n",
    "prediction_df = pd.DataFrame(query_target_df)\n",
    "for i in range(query_featture_df.shape[0]):\n",
    "    minimum_id = (db_feature_df - query_featture_df.iloc[i]).abs().sum(axis=1).idxmin()\n",
    "    test_min.append((db_feature_df - query_featture_df.iloc[i]).abs().sum(axis=1))\n",
    "    prediction_df.loc[i, \"predict\"] = db_target_df[minimum_id]"
   ]
  },
  {
   "cell_type": "code",
   "execution_count": 9,
   "metadata": {},
   "outputs": [
    {
     "data": {
      "text/html": [
       "<div>\n",
       "<style scoped>\n",
       "    .dataframe tbody tr th:only-of-type {\n",
       "        vertical-align: middle;\n",
       "    }\n",
       "\n",
       "    .dataframe tbody tr th {\n",
       "        vertical-align: top;\n",
       "    }\n",
       "\n",
       "    .dataframe thead th {\n",
       "        text-align: right;\n",
       "    }\n",
       "</style>\n",
       "<table border=\"1\" class=\"dataframe\">\n",
       "  <thead>\n",
       "    <tr style=\"text-align: right;\">\n",
       "      <th></th>\n",
       "      <th>target</th>\n",
       "      <th>predict</th>\n",
       "    </tr>\n",
       "  </thead>\n",
       "  <tbody>\n",
       "    <tr>\n",
       "      <th>0</th>\n",
       "      <td>0.0</td>\n",
       "      <td>0.0</td>\n",
       "    </tr>\n",
       "    <tr>\n",
       "      <th>1</th>\n",
       "      <td>0.0</td>\n",
       "      <td>0.0</td>\n",
       "    </tr>\n",
       "    <tr>\n",
       "      <th>2</th>\n",
       "      <td>0.0</td>\n",
       "      <td>0.0</td>\n",
       "    </tr>\n",
       "    <tr>\n",
       "      <th>3</th>\n",
       "      <td>0.0</td>\n",
       "      <td>8.0</td>\n",
       "    </tr>\n",
       "    <tr>\n",
       "      <th>4</th>\n",
       "      <td>0.0</td>\n",
       "      <td>0.0</td>\n",
       "    </tr>\n",
       "  </tbody>\n",
       "</table>\n",
       "</div>"
      ],
      "text/plain": [
       "   target  predict\n",
       "0     0.0      0.0\n",
       "1     0.0      0.0\n",
       "2     0.0      0.0\n",
       "3     0.0      8.0\n",
       "4     0.0      0.0"
      ]
     },
     "execution_count": 9,
     "metadata": {},
     "output_type": "execute_result"
    }
   ],
   "source": [
    "prediction_df.head()"
   ]
  },
  {
   "cell_type": "code",
   "execution_count": 10,
   "metadata": {},
   "outputs": [],
   "source": [
    "correct_num = (prediction_df[\"target\"] == prediction_df[\"predict\"]).sum()\n",
    "accuracy = correct_num / prediction_df.shape[0]"
   ]
  },
  {
   "cell_type": "code",
   "execution_count": 11,
   "metadata": {},
   "outputs": [
    {
     "data": {
      "text/plain": [
       "0.7758620689655172"
      ]
     },
     "execution_count": 11,
     "metadata": {},
     "output_type": "execute_result"
    }
   ],
   "source": [
    "accuracy"
   ]
  },
  {
   "cell_type": "markdown",
   "metadata": {},
   "source": [
    "## kNN"
   ]
  },
  {
   "cell_type": "code",
   "execution_count": 12,
   "metadata": {},
   "outputs": [],
   "source": [
    "DIV_NUM = 3 # k\n",
    "DIST_SETTING = 2 # ユークリッド=2, マンハッタン=1"
   ]
  },
  {
   "cell_type": "code",
   "execution_count": 13,
   "metadata": {},
   "outputs": [
    {
     "data": {
      "text/plain": [
       "KNeighborsClassifier(algorithm='auto', leaf_size=30, metric='minkowski',\n",
       "           metric_params=None, n_jobs=1, n_neighbors=3, p=2,\n",
       "           weights='uniform')"
      ]
     },
     "execution_count": 13,
     "metadata": {},
     "output_type": "execute_result"
    }
   ],
   "source": [
    "knn = KNeighborsClassifier(n_neighbors=DIV_NUM, p=DIST_SETTING, metric=\"minkowski\")\n",
    "knn.fit(db_feature_df.values, db_target_df.values)"
   ]
  },
  {
   "cell_type": "code",
   "execution_count": 14,
   "metadata": {},
   "outputs": [],
   "source": [
    "prediction = knn.predict(query_featture_df.values)\n",
    "prediction_df = pd.DataFrame(query_target_df)\n",
    "prediction_df[\"predict\"] = prediction"
   ]
  },
  {
   "cell_type": "code",
   "execution_count": 15,
   "metadata": {},
   "outputs": [],
   "source": [
    "correct_num = (prediction_df[\"target\"] == prediction_df[\"predict\"]).sum()\n",
    "accuracy = correct_num / prediction_df.shape[0]"
   ]
  },
  {
   "cell_type": "code",
   "execution_count": 16,
   "metadata": {},
   "outputs": [
    {
     "data": {
      "text/plain": [
       "0.7068965517241379"
      ]
     },
     "execution_count": 16,
     "metadata": {},
     "output_type": "execute_result"
    }
   ],
   "source": [
    "accuracy"
   ]
  },
  {
   "cell_type": "markdown",
   "metadata": {},
   "source": [
    "## NeuralNet"
   ]
  },
  {
   "cell_type": "code",
   "execution_count": 17,
   "metadata": {},
   "outputs": [],
   "source": [
    "# define network\n",
    "net = nn.Sequential(\n",
    "        nn.Linear(225, 1024),\n",
    "        nn.ReLU(),\n",
    "        nn.Linear(1024, 1024),\n",
    "        nn.ReLU(),\n",
    "        nn.Linear(1024, 1024),\n",
    "        nn.ReLU(),\n",
    "        nn.Linear(1024, 1024),\n",
    "        nn.ReLU(),\n",
    "        nn.Linear(1024, 20)\n",
    ")"
   ]
  },
  {
   "cell_type": "code",
   "execution_count": 18,
   "metadata": {},
   "outputs": [],
   "source": [
    "X_train = torch.tensor(db_feature_df.values, dtype=torch.float32)\n",
    "y_train = torch.tensor(db_target_df.values, dtype=torch.int64)\n",
    "\n",
    "X_test = torch.tensor(query_featture_df.values, dtype=torch.float32)\n",
    "y_test = torch.tensor(query_target_df.values, dtype=torch.int64)"
   ]
  },
  {
   "cell_type": "code",
   "execution_count": 19,
   "metadata": {},
   "outputs": [],
   "source": [
    "# 損失関数\n",
    "loss_fn = nn.CrossEntropyLoss()\n",
    "# adam\n",
    "optimizer = optim.Adam(net.parameters())\n",
    "# 損失ログ\n",
    "losses_train = []\n",
    "accuracy_test = []\n",
    "accuracy_train = []\n",
    "EPOCH = 200"
   ]
  },
  {
   "cell_type": "code",
   "execution_count": 20,
   "metadata": {
    "scrolled": false
   },
   "outputs": [
    {
     "name": "stdout",
     "output_type": "stream",
     "text": [
      "--------epoch0--------\n",
      "train accuracy:0.05\n",
      "train loss:3.0\n",
      "test accuracy:0.19\n",
      "--------------------\n",
      "--------epoch50--------\n",
      "train accuracy:0.785\n",
      "train loss:0.802\n",
      "test accuracy:0.379\n",
      "--------------------\n",
      "--------epoch100--------\n",
      "train accuracy:0.995\n",
      "train loss:0.108\n",
      "test accuracy:0.466\n",
      "--------------------\n",
      "--------epoch150--------\n",
      "train accuracy:1.0\n",
      "train loss:0.0162\n",
      "test accuracy:0.448\n",
      "--------------------\n",
      "--------epoch199--------\n",
      "train accuracy:1.0\n",
      "train loss:0.00594\n",
      "test accuracy:0.466\n",
      "--------------------\n",
      "max accuracy_test: 0.4827586206896552\n"
     ]
    }
   ],
   "source": [
    "# 20エポック回す\n",
    "# ここだけ繰り返すと再学習しちゃうので注意\n",
    "for epoc in range(EPOCH):\n",
    "    optimizer.zero_grad()\n",
    "    \n",
    "    y_pred = net(X_train)\n",
    "    \n",
    "    loss = loss_fn(y_pred, y_train)\n",
    "    loss.backward()\n",
    "    \n",
    "    optimizer.step()\n",
    "    \n",
    "    losses_train.append(loss.item())\n",
    "    \n",
    "    _, predicted = torch.max(y_pred, 1)\n",
    "    corrects_train = 0\n",
    "    for i in range(len(predicted)):\n",
    "        if(predicted[i]==y_train[i]):\n",
    "            corrects_train += 1\n",
    "    accuracy_train.append(corrects_train/len(y_train))\n",
    "    \n",
    "    y_test_pred = net(X_test)\n",
    "    _, predicted = torch.max(y_test_pred, 1)\n",
    "    corrects_test = 0\n",
    "    for i in range(len(predicted)):\n",
    "        if(predicted[i]==y_test[i]):\n",
    "            corrects_test += 1\n",
    "    accuracy_test.append(corrects_test/len(y_test))\n",
    "    \n",
    "    if(epoc%50 == 0 or epoc == (EPOCH-1)):\n",
    "        print(\"-\"*8+\"epoch{}\".format(epoc)+\"-\"*8)\n",
    "        print(\"train accuracy:{:.3}\".format(accuracy_train[-1]))\n",
    "        print(\"train loss:{:.3}\".format(losses_train[-1]))\n",
    "        print(\"test accuracy:{:.3}\".format(accuracy_test[-1]))\n",
    "        print(\"-\"*20)\n",
    "print(\"max accuracy_test: {}\".format(max(accuracy_test)))"
   ]
  },
  {
   "cell_type": "code",
   "execution_count": 21,
   "metadata": {},
   "outputs": [
    {
     "data": {
      "image/png": "[encoded data removed]",
      "text/plain": [
       "<Figure size 432x288 with 2 Axes>"
      ]
     },
     "metadata": {},
     "output_type": "display_data"
    }
   ],
   "source": [
    "fig, ax1 = plt.subplots()\n",
    "ax1.plot(list(range(EPOCH)), accuracy_train, color=\"blue\")\n",
    "ax1.plot(list(range(EPOCH)), accuracy_test, color=\"skyblue\")\n",
    "ax1.set_xlabel(\"epoch\")\n",
    "ax1.set_ylabel(\"accuracy\", color=\"blue\")\n",
    "ax1.tick_params(axis=\"y\", labelcolor=\"blue\")\n",
    "\n",
    "ax2 = ax1.twinx()\n",
    "ax2.plot(list(range(EPOCH)), losses_train, color=\"red\")\n",
    "ax2.set_ylabel(\"train loss\", color=\"red\")\n",
    "ax2.tick_params(axis=\"y\", labelcolor=\"red\")\n",
    "plt.show()"
   ]
  },
  {
   "cell_type": "markdown",
   "metadata": {},
   "source": [
    "## LightGBM"
   ]
  },
  {
   "cell_type": "code",
   "execution_count": 22,
   "metadata": {},
   "outputs": [],
   "source": [
    "lgb_train = lgb.Dataset(db_feature_df.values, db_target_df.values)\n",
    "lgb_eval = lgb.Dataset(query_featture_df.values, query_target_df.values, reference=lgb_train)"
   ]
  },
  {
   "cell_type": "code",
   "execution_count": 27,
   "metadata": {},
   "outputs": [],
   "source": [
    "# LightGBM parameters\n",
    "params = {\n",
    "    'task': 'train',\n",
    "    'boosting_type': 'gbdt',\n",
    "    'objective': 'multiclass',\n",
    "    'metric': 'multi_error',\n",
    "    'num_class': 20,\n",
    "    'learning_rate': 0.1,\n",
    "    'num_leaves': 15,\n",
    "    'min_data_in_leaf': 10,\n",
    "    'num_iteration': 200,\n",
    "    'verbose': -1,\n",
    "}"
   ]
  },
  {
   "cell_type": "code",
   "execution_count": 28,
   "metadata": {
    "scrolled": false
   },
   "outputs": [
    {
     "name": "stderr",
     "output_type": "stream",
     "text": [
      "C:\\Anaconda3\\lib\\site-packages\\lightgbm\\engine.py:113: UserWarning: Found `num_iteration` in params. Will use it instead of argument\n",
      "  warnings.warn(\"Found `{}` in params. Will use it instead of argument\".format(alias))\n"
     ]
    },
    {
     "name": "stdout",
     "output_type": "stream",
     "text": [
      "[1]\tvalid_0's multi_error: 0.689655\n",
      "Training until validation scores don't improve for 100 rounds.\n",
      "[2]\tvalid_0's multi_error: 0.637931\n",
      "[3]\tvalid_0's multi_error: 0.603448\n",
      "[4]\tvalid_0's multi_error: 0.603448\n",
      "[5]\tvalid_0's multi_error: 0.568966\n",
      "[6]\tvalid_0's multi_error: 0.568966\n",
      "[7]\tvalid_0's multi_error: 0.568966\n",
      "[8]\tvalid_0's multi_error: 0.551724\n",
      "[9]\tvalid_0's multi_error: 0.551724\n",
      "[10]\tvalid_0's multi_error: 0.551724\n",
      "[11]\tvalid_0's multi_error: 0.551724\n",
      "[12]\tvalid_0's multi_error: 0.551724\n",
      "[13]\tvalid_0's multi_error: 0.551724\n",
      "[14]\tvalid_0's multi_error: 0.551724\n",
      "[15]\tvalid_0's multi_error: 0.551724\n",
      "[16]\tvalid_0's multi_error: 0.551724\n",
      "[17]\tvalid_0's multi_error: 0.551724\n",
      "[18]\tvalid_0's multi_error: 0.551724\n",
      "[19]\tvalid_0's multi_error: 0.551724\n",
      "[20]\tvalid_0's multi_error: 0.551724\n",
      "[21]\tvalid_0's multi_error: 0.551724\n",
      "[22]\tvalid_0's multi_error: 0.551724\n",
      "[23]\tvalid_0's multi_error: 0.534483\n",
      "[24]\tvalid_0's multi_error: 0.534483\n",
      "[25]\tvalid_0's multi_error: 0.534483\n",
      "[26]\tvalid_0's multi_error: 0.534483\n",
      "[27]\tvalid_0's multi_error: 0.534483\n",
      "[28]\tvalid_0's multi_error: 0.534483\n",
      "[29]\tvalid_0's multi_error: 0.534483\n",
      "[30]\tvalid_0's multi_error: 0.534483\n",
      "[31]\tvalid_0's multi_error: 0.534483\n",
      "[32]\tvalid_0's multi_error: 0.534483\n",
      "[33]\tvalid_0's multi_error: 0.534483\n",
      "[34]\tvalid_0's multi_error: 0.534483\n",
      "[35]\tvalid_0's multi_error: 0.534483\n",
      "[36]\tvalid_0's multi_error: 0.534483\n",
      "[37]\tvalid_0's multi_error: 0.534483\n",
      "[38]\tvalid_0's multi_error: 0.534483\n",
      "[39]\tvalid_0's multi_error: 0.534483\n",
      "[40]\tvalid_0's multi_error: 0.534483\n",
      "[41]\tvalid_0's multi_error: 0.517241\n",
      "[42]\tvalid_0's multi_error: 0.517241\n",
      "[43]\tvalid_0's multi_error: 0.517241\n",
      "[44]\tvalid_0's multi_error: 0.517241\n",
      "[45]\tvalid_0's multi_error: 0.517241\n",
      "[46]\tvalid_0's multi_error: 0.517241\n",
      "[47]\tvalid_0's multi_error: 0.517241\n",
      "[48]\tvalid_0's multi_error: 0.517241\n",
      "[49]\tvalid_0's multi_error: 0.517241\n",
      "[50]\tvalid_0's multi_error: 0.517241\n",
      "[51]\tvalid_0's multi_error: 0.517241\n",
      "[52]\tvalid_0's multi_error: 0.517241\n",
      "[53]\tvalid_0's multi_error: 0.517241\n",
      "[54]\tvalid_0's multi_error: 0.517241\n",
      "[55]\tvalid_0's multi_error: 0.517241\n",
      "[56]\tvalid_0's multi_error: 0.517241\n",
      "[57]\tvalid_0's multi_error: 0.517241\n",
      "[58]\tvalid_0's multi_error: 0.517241\n",
      "[59]\tvalid_0's multi_error: 0.517241\n",
      "[60]\tvalid_0's multi_error: 0.517241\n",
      "[61]\tvalid_0's multi_error: 0.517241\n",
      "[62]\tvalid_0's multi_error: 0.517241\n",
      "[63]\tvalid_0's multi_error: 0.517241\n",
      "[64]\tvalid_0's multi_error: 0.517241\n",
      "[65]\tvalid_0's multi_error: 0.517241\n",
      "[66]\tvalid_0's multi_error: 0.517241\n",
      "[67]\tvalid_0's multi_error: 0.517241\n",
      "[68]\tvalid_0's multi_error: 0.517241\n",
      "[69]\tvalid_0's multi_error: 0.517241\n",
      "[70]\tvalid_0's multi_error: 0.517241\n",
      "[71]\tvalid_0's multi_error: 0.517241\n",
      "[72]\tvalid_0's multi_error: 0.517241\n",
      "[73]\tvalid_0's multi_error: 0.517241\n",
      "[74]\tvalid_0's multi_error: 0.517241\n",
      "[75]\tvalid_0's multi_error: 0.517241\n",
      "[76]\tvalid_0's multi_error: 0.517241\n",
      "[77]\tvalid_0's multi_error: 0.517241\n",
      "[78]\tvalid_0's multi_error: 0.517241\n",
      "[79]\tvalid_0's multi_error: 0.517241\n",
      "[80]\tvalid_0's multi_error: 0.517241\n",
      "[81]\tvalid_0's multi_error: 0.517241\n",
      "[82]\tvalid_0's multi_error: 0.534483\n",
      "[83]\tvalid_0's multi_error: 0.534483\n",
      "[84]\tvalid_0's multi_error: 0.517241\n",
      "[85]\tvalid_0's multi_error: 0.517241\n",
      "[86]\tvalid_0's multi_error: 0.517241\n",
      "[87]\tvalid_0's multi_error: 0.517241\n",
      "[88]\tvalid_0's multi_error: 0.517241\n",
      "[89]\tvalid_0's multi_error: 0.517241\n",
      "[90]\tvalid_0's multi_error: 0.517241\n",
      "[91]\tvalid_0's multi_error: 0.517241\n",
      "[92]\tvalid_0's multi_error: 0.517241\n",
      "[93]\tvalid_0's multi_error: 0.517241\n",
      "[94]\tvalid_0's multi_error: 0.517241\n",
      "[95]\tvalid_0's multi_error: 0.517241\n",
      "[96]\tvalid_0's multi_error: 0.517241\n",
      "[97]\tvalid_0's multi_error: 0.517241\n",
      "[98]\tvalid_0's multi_error: 0.517241\n",
      "[99]\tvalid_0's multi_error: 0.517241\n",
      "[100]\tvalid_0's multi_error: 0.517241\n",
      "[101]\tvalid_0's multi_error: 0.517241\n",
      "[102]\tvalid_0's multi_error: 0.517241\n",
      "[103]\tvalid_0's multi_error: 0.517241\n",
      "[104]\tvalid_0's multi_error: 0.517241\n",
      "[105]\tvalid_0's multi_error: 0.517241\n",
      "[106]\tvalid_0's multi_error: 0.517241\n",
      "[107]\tvalid_0's multi_error: 0.517241\n",
      "[108]\tvalid_0's multi_error: 0.517241\n",
      "[109]\tvalid_0's multi_error: 0.517241\n",
      "[110]\tvalid_0's multi_error: 0.517241\n",
      "[111]\tvalid_0's multi_error: 0.517241\n",
      "[112]\tvalid_0's multi_error: 0.517241\n",
      "[113]\tvalid_0's multi_error: 0.517241\n",
      "[114]\tvalid_0's multi_error: 0.517241\n",
      "[115]\tvalid_0's multi_error: 0.517241\n",
      "[116]\tvalid_0's multi_error: 0.5\n",
      "[117]\tvalid_0's multi_error: 0.5\n",
      "[118]\tvalid_0's multi_error: 0.5\n",
      "[119]\tvalid_0's multi_error: 0.5\n",
      "[120]\tvalid_0's multi_error: 0.5\n",
      "[121]\tvalid_0's multi_error: 0.5\n",
      "[122]\tvalid_0's multi_error: 0.5\n",
      "[123]\tvalid_0's multi_error: 0.5\n",
      "[124]\tvalid_0's multi_error: 0.5\n",
      "[125]\tvalid_0's multi_error: 0.5\n",
      "[126]\tvalid_0's multi_error: 0.5\n",
      "[127]\tvalid_0's multi_error: 0.5\n",
      "[128]\tvalid_0's multi_error: 0.5\n",
      "[129]\tvalid_0's multi_error: 0.5\n",
      "[130]\tvalid_0's multi_error: 0.5\n",
      "[131]\tvalid_0's multi_error: 0.5\n",
      "[132]\tvalid_0's multi_error: 0.5\n",
      "[133]\tvalid_0's multi_error: 0.5\n",
      "[134]\tvalid_0's multi_error: 0.5\n",
      "[135]\tvalid_0's multi_error: 0.5\n",
      "[136]\tvalid_0's multi_error: 0.5\n",
      "[137]\tvalid_0's multi_error: 0.5\n",
      "[138]\tvalid_0's multi_error: 0.5\n",
      "[139]\tvalid_0's multi_error: 0.5\n",
      "[140]\tvalid_0's multi_error: 0.5\n",
      "[141]\tvalid_0's multi_error: 0.5\n",
      "[142]\tvalid_0's multi_error: 0.5\n",
      "[143]\tvalid_0's multi_error: 0.5\n",
      "[144]\tvalid_0's multi_error: 0.5\n",
      "[145]\tvalid_0's multi_error: 0.5\n",
      "[146]\tvalid_0's multi_error: 0.5\n",
      "[147]\tvalid_0's multi_error: 0.5\n",
      "[148]\tvalid_0's multi_error: 0.5\n",
      "[149]\tvalid_0's multi_error: 0.5\n",
      "[150]\tvalid_0's multi_error: 0.5\n",
      "[151]\tvalid_0's multi_error: 0.5\n",
      "[152]\tvalid_0's multi_error: 0.5\n",
      "[153]\tvalid_0's multi_error: 0.5\n",
      "[154]\tvalid_0's multi_error: 0.5\n",
      "[155]\tvalid_0's multi_error: 0.5\n",
      "[156]\tvalid_0's multi_error: 0.5\n",
      "[157]\tvalid_0's multi_error: 0.5\n",
      "[158]\tvalid_0's multi_error: 0.5\n",
      "[159]\tvalid_0's multi_error: 0.5\n",
      "[160]\tvalid_0's multi_error: 0.5\n",
      "[161]\tvalid_0's multi_error: 0.5\n",
      "[162]\tvalid_0's multi_error: 0.5\n",
      "[163]\tvalid_0's multi_error: 0.5\n",
      "[164]\tvalid_0's multi_error: 0.5\n",
      "[165]\tvalid_0's multi_error: 0.5\n",
      "[166]\tvalid_0's multi_error: 0.5\n",
      "[167]\tvalid_0's multi_error: 0.5\n",
      "[168]\tvalid_0's multi_error: 0.5\n",
      "[169]\tvalid_0's multi_error: 0.5\n",
      "[170]\tvalid_0's multi_error: 0.5\n",
      "[171]\tvalid_0's multi_error: 0.5\n",
      "[172]\tvalid_0's multi_error: 0.5\n",
      "[173]\tvalid_0's multi_error: 0.5\n",
      "[174]\tvalid_0's multi_error: 0.5\n",
      "[175]\tvalid_0's multi_error: 0.5\n",
      "[176]\tvalid_0's multi_error: 0.5\n",
      "[177]\tvalid_0's multi_error: 0.5\n",
      "[178]\tvalid_0's multi_error: 0.5\n",
      "[179]\tvalid_0's multi_error: 0.5\n",
      "[180]\tvalid_0's multi_error: 0.5\n",
      "[181]\tvalid_0's multi_error: 0.5\n",
      "[182]\tvalid_0's multi_error: 0.5\n",
      "[183]\tvalid_0's multi_error: 0.5\n",
      "[184]\tvalid_0's multi_error: 0.5\n",
      "[185]\tvalid_0's multi_error: 0.5\n",
      "[186]\tvalid_0's multi_error: 0.5\n",
      "[187]\tvalid_0's multi_error: 0.5\n",
      "[188]\tvalid_0's multi_error: 0.5\n",
      "[189]\tvalid_0's multi_error: 0.5\n",
      "[190]\tvalid_0's multi_error: 0.5\n",
      "[191]\tvalid_0's multi_error: 0.5\n",
      "[192]\tvalid_0's multi_error: 0.5\n",
      "[193]\tvalid_0's multi_error: 0.5\n",
      "[194]\tvalid_0's multi_error: 0.5\n",
      "[195]\tvalid_0's multi_error: 0.5\n",
      "[196]\tvalid_0's multi_error: 0.5\n",
      "[197]\tvalid_0's multi_error: 0.5\n",
      "[198]\tvalid_0's multi_error: 0.5\n",
      "[199]\tvalid_0's multi_error: 0.5\n",
      "[200]\tvalid_0's multi_error: 0.5\n",
      "Did not meet early stopping. Best iteration is:\n",
      "[116]\tvalid_0's multi_error: 0.5\n"
     ]
    }
   ],
   "source": [
    "gbm = lgb.train(params,\n",
    "                lgb_train,\n",
    "                num_boost_round=300,\n",
    "                valid_sets=lgb_eval,\n",
    "                early_stopping_rounds=100)\n",
    "y_pred = gbm.predict(query_featture_df.values, num_iteration = gbm.best_iteration)\n",
    "y_pred_max = np.argmax(y_pred, axis=1)\n"
   ]
  },
  {
   "cell_type": "code",
   "execution_count": 29,
   "metadata": {
    "scrolled": true
   },
   "outputs": [
    {
     "data": {
      "text/plain": [
       "0.5"
      ]
     },
     "execution_count": 29,
     "metadata": {},
     "output_type": "execute_result"
    }
   ],
   "source": [
    "accuracy_score(query_target_df, y_pred_max)"
   ]
  },
  {
   "cell_type": "code",
   "execution_count": 30,
   "metadata": {
    "scrolled": false
   },
   "outputs": [
    {
     "data": {
      "image/png": "[encoded data removed]",
      "text/plain": [
       "<Figure size 720x432 with 1 Axes>"
      ]
     },
     "metadata": {},
     "output_type": "display_data"
    }
   ],
   "source": [
    "cols_to_fit = db_feature_df.columns.values\n",
    "feature_importance = pd.DataFrame(sorted(\n",
    "    zip(gbm.feature_importance(), cols_to_fit)), columns=['Value', 'Feature'])\n",
    "plt.figure(figsize=(10, 6))\n",
    "sns.barplot(x=\"Value\", y=\"Feature\", data=feature_importance.sort_values(\n",
    "    by=\"Value\", ascending=False).head(10))\n",
    "plt.title('LightGBM Features (avg over folds)')\n",
    "plt.tight_layout()"
   ]
  },
  {
   "cell_type": "markdown",
   "metadata": {},
   "source": [
    "# 画像を直接入れる系"
   ]
  },
  {
   "cell_type": "code",
   "execution_count": null,
   "metadata": {},
   "outputs": [],
   "source": [
    "# 画像読み込み\n"
   ]
  },
  {
   "cell_type": "markdown",
   "metadata": {},
   "source": [
    "## ピクセルマッチング"
   ]
  },
  {
   "cell_type": "code",
   "execution_count": null,
   "metadata": {},
   "outputs": [],
   "source": [
    "# ピクセルマッチングと同じ\n",
    "result = []\n",
    "test_min = []\n",
    "prediction_df = pd.DataFrame(query_target_df)\n",
    "for i in range(query_featture_df.shape[0]):\n",
    "    minimum_id = (db_feature_df - query_featture_df.iloc[i]).abs().sum(axis=1).idxmin()\n",
    "    test_min.append((db_feature_df - query_featture_df.iloc[i]).abs().sum(axis=1))\n",
    "    prediction_df.loc[i, \"predict\"] = db_target_df[minimum_id]"
   ]
  },
  {
   "cell_type": "code",
   "execution_count": null,
   "metadata": {},
   "outputs": [],
   "source": []
  }
 ],
 "metadata": {
  "anaconda-cloud": {},
  "kernelspec": {
   "display_name": "Python 3",
   "language": "python",
   "name": "python3"
  },
  "language_info": {
   "codemirror_mode": {
    "name": "ipython",
    "version": 3
   },
   "file_extension": ".py",
   "mimetype": "text/x-python",
   "name": "python",
   "nbconvert_exporter": "python",
   "pygments_lexer": "ipython3",
   "version": "3.6.4"
  }
 },
 "nbformat": 4,
 "nbformat_minor": 1
}
